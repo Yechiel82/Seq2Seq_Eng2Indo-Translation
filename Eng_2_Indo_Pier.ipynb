{
 "cells": [
  {
   "cell_type": "markdown",
   "metadata": {},
   "source": [
    "# English to Bahasa Indonesian Seq-2-Seq Translation"
   ]
  },
  {
   "cell_type": "code",
   "execution_count": 1,
   "metadata": {},
   "outputs": [],
   "source": [
    "# IPython candies...\n",
    "from IPython.display import Image\n",
    "from IPython.core.display import HTML \n",
    "# Imports we need.\n",
    "import random\n",
    "\n",
    "import torch\n",
    "import torch.nn as nn\n",
    "from torch.autograd import Variable\n",
    "from torch import optim\n",
    "import torch.nn.functional as F\n",
    "import pandas as pd\n",
    "\n",
    "use_cuda = torch.cuda.is_available()"
   ]
  },
  {
   "cell_type": "markdown",
   "metadata": {},
   "source": [
    "## Data Munging"
   ]
  },
  {
   "cell_type": "code",
   "execution_count": 2,
   "metadata": {},
   "outputs": [],
   "source": [
    "import pandas as pd\n",
    "from gensim.corpora.dictionary import Dictionary\n",
    "from nltk import word_tokenize\n",
    "\n",
    "fp = open('./corpus/bbc-468.en', 'r')\n",
    "#fp = open('./corpus/SMERU-26870.en', 'r')\n",
    "eng_text = fp.read()\n",
    "eng_text = eng_text.splitlines()\n",
    "fp.close()\n",
    "\n",
    "fp2 = open('./corpus/bbc-468.id', 'r')\n",
    "#fp2 = open('./corpus/SMERU-26870.id', 'r')\n",
    "id_text = fp2.read()\n",
    "id_text = id_text.splitlines()\n",
    "fp2.close()"
   ]
  },
  {
   "cell_type": "code",
   "execution_count": 3,
   "metadata": {},
   "outputs": [],
   "source": [
    "df_eng_text = pd.DataFrame(eng_text)\n",
    "df_eng_text = df_eng_text.rename(columns={0:'English'})\n",
    "\n",
    "df_id_text = pd.DataFrame(id_text)\n",
    "df_id_text = df_id_text.rename(columns={0:'Indonesian'})\n"
   ]
  },
  {
   "cell_type": "code",
   "execution_count": 4,
   "metadata": {},
   "outputs": [],
   "source": [
    "df_eng_text['English'] = df_eng_text['English'].apply(lambda x : x.lstrip())\n",
    "df_id_text['Indonesian'] = df_id_text['Indonesian'].apply(lambda x : x.lstrip())"
   ]
  },
  {
   "cell_type": "code",
   "execution_count": 5,
   "metadata": {},
   "outputs": [
    {
     "data": {
      "text/html": [
       "<div>\n",
       "<style scoped>\n",
       "    .dataframe tbody tr th:only-of-type {\n",
       "        vertical-align: middle;\n",
       "    }\n",
       "\n",
       "    .dataframe tbody tr th {\n",
       "        vertical-align: top;\n",
       "    }\n",
       "\n",
       "    .dataframe thead th {\n",
       "        text-align: right;\n",
       "    }\n",
       "</style>\n",
       "<table border=\"1\" class=\"dataframe\">\n",
       "  <thead>\n",
       "    <tr style=\"text-align: right;\">\n",
       "      <th></th>\n",
       "      <th>English</th>\n",
       "      <th>Indonesian</th>\n",
       "    </tr>\n",
       "  </thead>\n",
       "  <tbody>\n",
       "    <tr>\n",
       "      <th>0</th>\n",
       "      <td>French Muslims fined for face veils</td>\n",
       "      <td>Muslimah Prancis didenda karena mengenakan burka</td>\n",
       "    </tr>\n",
       "    <tr>\n",
       "      <th>1</th>\n",
       "      <td>Two French Muslim women have become the first ...</td>\n",
       "      <td>Dua Muslimah Prancis menjadi orang-orang perta...</td>\n",
       "    </tr>\n",
       "    <tr>\n",
       "      <th>2</th>\n",
       "      <td>Hind Ahmas and Najaite Ali were each ordered t...</td>\n",
       "      <td>Hind Ahmas dan Najaite Ali diperintahkan memba...</td>\n",
       "    </tr>\n",
       "    <tr>\n",
       "      <th>3</th>\n",
       "      <td>Both say they'll appeal as far as the European...</td>\n",
       "      <td>Keduanya menyatakan akan mengajukan banding hi...</td>\n",
       "    </tr>\n",
       "    <tr>\n",
       "      <th>4</th>\n",
       "      <td>Some Muslim groups say veiled women have been ...</td>\n",
       "      <td>Sejumlah organisasi Muslim mengatakan wanita-w...</td>\n",
       "    </tr>\n",
       "  </tbody>\n",
       "</table>\n",
       "</div>"
      ],
      "text/plain": [
       "                                             English  \\\n",
       "0                French Muslims fined for face veils   \n",
       "1  Two French Muslim women have become the first ...   \n",
       "2  Hind Ahmas and Najaite Ali were each ordered t...   \n",
       "3  Both say they'll appeal as far as the European...   \n",
       "4  Some Muslim groups say veiled women have been ...   \n",
       "\n",
       "                                          Indonesian  \n",
       "0   Muslimah Prancis didenda karena mengenakan burka  \n",
       "1  Dua Muslimah Prancis menjadi orang-orang perta...  \n",
       "2  Hind Ahmas dan Najaite Ali diperintahkan memba...  \n",
       "3  Keduanya menyatakan akan mengajukan banding hi...  \n",
       "4  Sejumlah organisasi Muslim mengatakan wanita-w...  "
      ]
     },
     "execution_count": 5,
     "metadata": {},
     "output_type": "execute_result"
    }
   ],
   "source": [
    "import pandas as pd\n",
    "from gensim.corpora.dictionary import Dictionary\n",
    "from nltk import word_tokenize\n",
    "\n",
    "df = pd.concat([df_eng_text, df_id_text], axis=1)\n",
    "df.head()\n",
    "\n",
    "# corpus_df = pd.read_csv(\"./corpus/trimmed_combined_no_duplicate.csv\")\n",
    "# corpus_df = corpus_df.drop(columns=[\"English_num_words\", \"Indo_num_words\"])\n",
    "# corpus_df.head()"
   ]
  },
  {
   "cell_type": "code",
   "execution_count": 6,
   "metadata": {},
   "outputs": [],
   "source": [
    "# corpus_df['English'] = corpus_df['English'].apply(lambda x : x.lstrip())\n",
    "# corpus_df['Indonesian'] = corpus_df['Indonesian'].apply(lambda x : x.lstrip())"
   ]
  },
  {
   "cell_type": "code",
   "execution_count": 7,
   "metadata": {},
   "outputs": [
    {
     "name": "stdout",
     "output_type": "stream",
     "text": [
      "First Singlish sentence: ['<s>', 'french', 'muslims', 'fined', 'for', 'face', 'veils', '</s>']\n",
      "First English sentence: ['<s>', 'muslimah', 'prancis', 'didenda', 'karena', 'mengenakan', 'burka', '</s>']\n"
     ]
    }
   ],
   "source": [
    "# Use a unique string to indicate START and END of a sentence.\n",
    "# Assign a unique index to them.\n",
    "START, START_IDX = '<s>',  0\n",
    "END, END_IDX = '</s>', 1\n",
    "UNK, UNK_IDX = 'UNK', 2\n",
    "\n",
    "# We use this idiom to tokenize our sentences in the dataframe column:\n",
    "# >>> DataFrame['column'].apply(str.lower).apply(word_tokenize)\n",
    "\n",
    "# Also we added the START and the END symbol to the sentences. \n",
    "english_sents = [START] + df_eng_text['English'].apply(str.lower).apply(word_tokenize) + [END]\n",
    "indo_sents = [START] + df_id_text['Indonesian'].apply(str.lower).apply(word_tokenize) + [END]\n",
    "\n",
    "# We're sort of getting into the data into the shape we want. \n",
    "# But now it's still too humanly readable and redundant.\n",
    "## Cut-away: Computers like it to be simpler, more concise. -_-|||\n",
    "print('First Singlish sentence:', english_sents[0])\n",
    "print('First English sentence:', indo_sents[0])"
   ]
  },
  {
   "cell_type": "code",
   "execution_count": null,
   "metadata": {},
   "outputs": [],
   "source": []
  },
  {
   "cell_type": "code",
   "execution_count": 8,
   "metadata": {},
   "outputs": [
    {
     "name": "stdout",
     "output_type": "stream",
     "text": [
      "First 10 Indonesian words in Dictionary:\n",
      " [(0, '<s>'), (1, '</s>'), (2, 'UNK'), (3, 'burka'), (4, 'didenda'), (5, 'karena'), (6, 'mengenakan'), (7, 'muslimah'), (8, 'prancis'), (9, ',')]\n",
      "\n",
      "First 10 English words in Dictionary:\n",
      " [(0, '<s>'), (1, '</s>'), (2, 'UNK'), (3, 'face'), (4, 'fined'), (5, 'for'), (6, 'french'), (7, 'muslims'), (8, 'veils'), (9, ',')]\n"
     ]
    }
   ],
   "source": [
    "english_vocab = Dictionary([['<s>'], ['</s>'],['UNK']])\n",
    "english_vocab.add_documents(english_sents)\n",
    "\n",
    "indo_vocab = Dictionary([['<s>'], ['</s>'], ['UNK']])\n",
    "indo_vocab.add_documents(indo_sents)\n",
    "\n",
    "# First ten words in the vocabulary.\n",
    "print('First 10 Indonesian words in Dictionary:\\n', sorted(indo_vocab.items())[:10])\n",
    "print()\n",
    "print('First 10 English words in Dictionary:\\n', sorted(english_vocab.items())[:10])"
   ]
  },
  {
   "cell_type": "code",
   "execution_count": 9,
   "metadata": {},
   "outputs": [],
   "source": [
    "import pickle\n",
    "# Lets save our dictionaries.\n",
    "with open('./vocabs/indo_vocab.Dictionary.pkl', 'wb') as fout:\n",
    "    pickle.dump(indo_vocab, fout)\n",
    "    \n",
    "with open('./vocabs/english_vocab.Dictionary.pkl', 'wb') as fout:\n",
    "    pickle.dump(english_vocab, fout)"
   ]
  },
  {
   "cell_type": "code",
   "execution_count": 10,
   "metadata": {},
   "outputs": [
    {
     "data": {
      "text/plain": [
       "tensor([[0],\n",
       "        [6],\n",
       "        [7],\n",
       "        [4],\n",
       "        [5],\n",
       "        [3],\n",
       "        [8],\n",
       "        [1]], device='cuda:0')"
      ]
     },
     "execution_count": 10,
     "metadata": {},
     "output_type": "execute_result"
    }
   ],
   "source": [
    "# Vectorizes a sentence with a given vocab\n",
    "def vectorize_sent(sent, vocab):\n",
    "    return vocab.doc2idx([START] + word_tokenize(sent.lower()) + [END], unknown_word_index=2)\n",
    "\n",
    "# Creates a PyTorch variable from a sentence against a given vocab\n",
    "def variable_from_sent(sent, vocab):\n",
    "    vsent = vectorize_sent(sent, vocab)\n",
    "    #print(vsent)\n",
    "    result = Variable(torch.LongTensor(vsent).view(-1, 1))\n",
    "    #print(result)\n",
    "    return result.cuda() if use_cuda else result\n",
    "\n",
    "# Test\n",
    "new_kopi = \"French Muslims fined for face veils\"\n",
    "variable_from_sent(new_kopi, english_vocab)"
   ]
  },
  {
   "cell_type": "code",
   "execution_count": 11,
   "metadata": {},
   "outputs": [
    {
     "name": "stdout",
     "output_type": "stream",
     "text": [
      "Muslimah Prancis didenda karena mengenakan burka\n",
      "tensor([[0],\n",
      "        [7],\n",
      "        [8],\n",
      "        [4],\n",
      "        [5],\n",
      "        [6],\n",
      "        [3],\n",
      "        [1]], device='cuda:0')\n",
      "French Muslims fined for face veils\n",
      "tensor([[0],\n",
      "        [6],\n",
      "        [7],\n",
      "        [4],\n",
      "        [5],\n",
      "        [3],\n",
      "        [8],\n",
      "        [1]], device='cuda:0')\n"
     ]
    }
   ],
   "source": [
    "# Prepare the whole training corpus.\n",
    "indo_tensors = df_id_text['Indonesian'].apply(lambda s: variable_from_sent(s, indo_vocab))\n",
    "print(df_id_text.iloc[0]['Indonesian'])\n",
    "print(indo_tensors[0])\n",
    "english_tensors = df_eng_text['English'].apply(lambda s: variable_from_sent(s, english_vocab))\n",
    "print(df_eng_text.iloc[0]['English'])\n",
    "print(english_tensors[0])\n",
    "# Now, each item in `sent_pairs` is our data point. \n",
    "sent_pairs = list(zip(english_tensors, indo_tensors))"
   ]
  },
  {
   "cell_type": "markdown",
   "metadata": {},
   "source": [
    "# Seq2Seq Model"
   ]
  },
  {
   "cell_type": "markdown",
   "metadata": {},
   "source": [
    "## Encoder Definition"
   ]
  },
  {
   "cell_type": "code",
   "execution_count": 12,
   "metadata": {},
   "outputs": [],
   "source": [
    "class EncoderRNN(nn.Module):\n",
    "    def __init__(self, input_size, hidden_size):\n",
    "        super(EncoderRNN, self).__init__()\n",
    "        # Set the no. of nodes for the hidden layer.\n",
    "        self.hidden_size = hidden_size\n",
    "        # Initialize the embedding layer with the \n",
    "        # - size of input (i.e. no. of words in input vocab)\n",
    "        # - no. of hidden nodes in the embedding layer\n",
    "        self.embedding = nn.Embedding(input_size, hidden_size)\n",
    "        # Initialize the GRU with the \n",
    "        # - size of the hidden layer from the previous state\n",
    "        # - size of the hidden layer from the current state\n",
    "        self.gru = nn.GRU(hidden_size, hidden_size)\n",
    "\n",
    "    def forward(self, input, hidden):\n",
    "        # Feed the input into the embedding layer.\n",
    "        embedded = self.embedding(input).view(1, 1, -1) # Question: why (1, 1, -1)\n",
    "        # Feed the embedded layer with the hidden layer to the GRU.\n",
    "        # Update the output and hidden layer.\n",
    "        output, hidden = self.gru(embedded, hidden)\n",
    "        return output, hidden\n",
    "\n",
    "    def initialize_hidden_states(self):\n",
    "        result = Variable(torch.zeros(1, 1, self.hidden_size))\n",
    "        return result.cuda() if use_cuda else result\n"
   ]
  },
  {
   "cell_type": "markdown",
   "metadata": {},
   "source": [
    "# Decoder Definition"
   ]
  },
  {
   "cell_type": "code",
   "execution_count": 13,
   "metadata": {},
   "outputs": [],
   "source": [
    "class DecoderRNN(nn.Module):\n",
    "    def __init__(self, hidden_size, output_size):\n",
    "        super(DecoderRNN, self).__init__()\n",
    "        # Set the no. of nodes for the hidden layer.\n",
    "        self.hidden_size = hidden_size\n",
    "        # Initialize the embedding layer with the \n",
    "        # - size of output (i.e. no. of words in output vocab)\n",
    "        # - no. of hidden nodes in the embedding layer\n",
    "        self.embedding = nn.Embedding(output_size, hidden_size)\n",
    "        # Initialize the GRU with the \n",
    "        # - size of the hidden layer from the previous state\n",
    "        # - size of the hidden layer from the current state\n",
    "        self.gru = nn.GRU(hidden_size, hidden_size)\n",
    "        # Set the output layer to output a specific symbol \n",
    "        # from the output vocabulary\n",
    "        self.softmax = nn.LogSoftmax(dim=1)\n",
    "        self.out = nn.Linear(hidden_size, output_size)\n",
    "\n",
    "    def forward(self, input, hidden):\n",
    "        # Feed the input into the embedding layer.\n",
    "        output = self.embedding(input).view(1, 1, -1)\n",
    "        # Transform the embedded output with a relu function. \n",
    "        output = F.relu(output)\n",
    "        # Feed the embedded layer with the hidden layer to the GRU.\n",
    "        # Update the output and hidden layer.\n",
    "        output, hidden = self.gru(output, hidden)\n",
    "        # Take the updated output and find the most appropriate\n",
    "        # output symbol. \n",
    "        output = self.softmax(self.out(output[0]))\n",
    "        return output, hidden\n",
    "\n",
    "    def initialize_hidden_states(self):\n",
    "        result = Variable(torch.zeros(1, 1, self.hidden_size))\n",
    "        return result.cuda() if use_cuda else result\n",
    "        "
   ]
  },
  {
   "cell_type": "code",
   "execution_count": null,
   "metadata": {},
   "outputs": [],
   "source": []
  },
  {
   "cell_type": "code",
   "execution_count": 14,
   "metadata": {},
   "outputs": [],
   "source": [
    "hidden_size = 100\n",
    "learning_rate=0.01\n",
    "batch_size = 2\n",
    "epochs = 30 # Since we are taking batch_size=2 and epochs=30, we only look at 60 data points.\n",
    "criterion = nn.NLLLoss()\n",
    "MAX_LENGTH=80\n",
    "\n",
    "# Initialize the network for encoder and decoder.\n",
    "input_vocab, output_vocab = english_vocab, indo_vocab\n",
    "encoder = EncoderRNN(len(input_vocab), hidden_size)\n",
    "decoder = DecoderRNN(hidden_size, len(output_vocab))\n",
    "if use_cuda:\n",
    "    encoder = encoder.cuda()\n",
    "    decoder = decoder.cuda()\n",
    "\n",
    "# Initialize the optimizer for encoder and decoder.\n",
    "encoder_optimizer = optim.SGD(encoder.parameters(), lr=learning_rate)\n",
    "decoder_optimizer = optim.SGD(decoder.parameters(), lr=learning_rate)\n",
    "\n",
    "# If batchsize == 1, choose 1 data points per batch:\n",
    "##training_data = [[random.choice(sent_pairs)] for i in range(epochs)]\n",
    "\n",
    "# If batch_size > 1, use random.sample() instead of random.choice:\n",
    "training_data = [random.sample(sent_pairs, batch_size) for i in range(epochs)]"
   ]
  },
  {
   "cell_type": "markdown",
   "metadata": {},
   "source": [
    "## Checking the encoder"
   ]
  },
  {
   "cell_type": "code",
   "execution_count": 15,
   "metadata": {},
   "outputs": [],
   "source": [
    "#############################################\n",
    "# 2.3.2. Loop through the batches.\n",
    "#############################################\n",
    "# Start the training.\n",
    "for data_batch in training_data:\n",
    "    # (Re-)Initialize the optimizers, clear all gradients after every batch.\n",
    "    encoder_optimizer.zero_grad()\n",
    "    decoder_optimizer.zero_grad()\n",
    "    # Reset the loss for every batch.\n",
    "    loss = 0\n",
    "    for input_variable, target_variable in data_batch:\n",
    "        # Initialize the hidden_states for the encoder.\n",
    "        encoder_hidden = encoder.initialize_hidden_states()\n",
    "        # Initialize the length of the PyTorch variables.\n",
    "        input_length = input_variable.size()[0]\n",
    "        target_length = target_variable.size()[0]\n",
    "        encoder_outputs = Variable(torch.zeros(MAX_LENGTH, encoder.hidden_size))\n",
    "        encoder_outputs = encoder_outputs.cuda() if use_cuda else encoder_outputs"
   ]
  },
  {
   "cell_type": "code",
   "execution_count": 16,
   "metadata": {},
   "outputs": [
    {
     "name": "stdout",
     "output_type": "stream",
     "text": [
      "Input variable first: tensor([[  0],\n",
      "        [345],\n",
      "        [952],\n",
      "        [956],\n",
      "        [ 47],\n",
      "        [345],\n",
      "        [954],\n",
      "        [ 11],\n",
      "        [955],\n",
      "        [ 24],\n",
      "        [443],\n",
      "        [287],\n",
      "        [206],\n",
      "        [194],\n",
      "        [937],\n",
      "        [ 28],\n",
      "        [953],\n",
      "        [ 26],\n",
      "        [948],\n",
      "        [ 10],\n",
      "        [  1]], device='cuda:0')\n",
      "Target variable first: tensor([[  0],\n",
      "        [334],\n",
      "        [929],\n",
      "        [925],\n",
      "        [926],\n",
      "        [928],\n",
      "        [423],\n",
      "        [103],\n",
      "        [924],\n",
      "        [ 24],\n",
      "        [922],\n",
      "        [103],\n",
      "        [423],\n",
      "        [ 24],\n",
      "        [923],\n",
      "        [ 98],\n",
      "        [927],\n",
      "        [919],\n",
      "        [ 10],\n",
      "        [  1]], device='cuda:0')\n",
      "26\n"
     ]
    }
   ],
   "source": [
    "print(\"Input variable first: {0}\".format(data_batch[0][0]))\n",
    "print(\"Target variable first: {0}\".format(data_batch[0][1]))\n",
    "print(input_length)"
   ]
  },
  {
   "cell_type": "code",
   "execution_count": 17,
   "metadata": {},
   "outputs": [],
   "source": [
    "#############################################\n",
    "# 2.3.2. Loop through the batches.\n",
    "#############################################\n",
    "# Start the training.\n",
    "for data_batch in training_data:\n",
    "    # (Re-)Initialize the optimizers, clear all gradients after every batch.\n",
    "    encoder_optimizer.zero_grad()\n",
    "    decoder_optimizer.zero_grad()\n",
    "    # Reset the loss for every batch.\n",
    "    loss = 0\n",
    "    for input_variable, target_variable in data_batch:\n",
    "        # Initialize the hidden_states for the encoder.\n",
    "        encoder_hidden = encoder.initialize_hidden_states()\n",
    "        # Initialize the length of the PyTorch variables.\n",
    "        input_length = input_variable.size()[0]\n",
    "        target_length = target_variable.size()[0]\n",
    "        encoder_outputs = Variable(torch.zeros(MAX_LENGTH, encoder.hidden_size))\n",
    "        encoder_outputs = encoder_outputs.cuda() if use_cuda else encoder_outputs\n",
    "        #############################################\n",
    "        # 2.3.3.  Iterating through each word in the encoder.\n",
    "        #############################################\n",
    "        # Iterating through each word in the input.\n",
    "        for ei in range(input_length):\n",
    "            # We move forward through each state.\n",
    "            encoder_output, encoder_hidden = encoder(input_variable[ei], encoder_hidden)\n",
    "            # And we save the encoder outputs. \n",
    "            # Note: We're retrieving [0][0] cos remember the weird .view(1,1,-1) for the GRU.\n",
    "            encoder_outputs[ei] = encoder_output[0][0] "
   ]
  },
  {
   "cell_type": "code",
   "execution_count": 18,
   "metadata": {},
   "outputs": [
    {
     "name": "stdout",
     "output_type": "stream",
     "text": [
      "EncoderRNN(\n",
      "  (embedding): Embedding(2563, 100)\n",
      "  (gru): GRU(100, 100)\n",
      ") \n",
      "\n",
      "Dictionary(2563 unique tokens: ['<s>', '</s>', 'UNK', 'face', 'fined']...)\n",
      "\n",
      "########\n",
      "\n"
     ]
    }
   ],
   "source": [
    "# The encoded output for the last sentence in out training_data\"\n",
    "\n",
    "# The encoder has 68 unique words\n",
    "print(encoder, '\\n')\n",
    "print(english_vocab)\n",
    "print('\\n########\\n')"
   ]
  },
  {
   "cell_type": "code",
   "execution_count": 19,
   "metadata": {},
   "outputs": [
    {
     "data": {
      "text/plain": [
       "26"
      ]
     },
     "execution_count": 19,
     "metadata": {},
     "output_type": "execute_result"
    }
   ],
   "source": [
    "input_length\n"
   ]
  },
  {
   "cell_type": "code",
   "execution_count": 20,
   "metadata": {},
   "outputs": [
    {
     "name": "stdout",
     "output_type": "stream",
     "text": [
      "tensor([[   0],\n",
      "        [1046],\n",
      "        [ 679],\n",
      "        [ 108],\n",
      "        [ 118],\n",
      "        [1051],\n",
      "        [   5],\n",
      "        [  26],\n",
      "        [1048],\n",
      "        [1042],\n",
      "        [   9],\n",
      "        [1047],\n",
      "        [  24],\n",
      "        [ 272],\n",
      "        [ 395],\n",
      "        [1050],\n",
      "        [1053],\n",
      "        [1045],\n",
      "        [   9],\n",
      "        [ 115],\n",
      "        [  96],\n",
      "        [  62],\n",
      "        [1049],\n",
      "        [1052],\n",
      "        [  10],\n",
      "        [   1]], device='cuda:0')\n",
      "########\n",
      "\n"
     ]
    }
   ],
   "source": [
    "# The last input sentence, in PyTorch Tensor data structure.\n",
    "print(data_batch[-1][0]) \n",
    "print('########\\n')\n"
   ]
  },
  {
   "cell_type": "code",
   "execution_count": 21,
   "metadata": {},
   "outputs": [
    {
     "name": "stdout",
     "output_type": "stream",
     "text": [
      "[0, 1046, 679, 108, 118, 1051, 5, 26, 1048, 1042, 9, 1047, 24, 272, 395, 1050, 1053, 1045, 9, 115, 96, 62, 1049, 1052, 10, 1] \n",
      "\n",
      "########\n",
      "\n",
      "<s> big business is being predicted for the computer game , call of duty : modern warfare 3 , which has been launched today . </s>\n",
      "\n",
      "########\n",
      "\n"
     ]
    }
   ],
   "source": [
    "\n",
    "# The last input sentence as list(int)\n",
    "print(list(map(int, data_batch[-1][0])), '\\n')\n",
    "print('########\\n')\n",
    "\n",
    "# The last input sentence as list(int)\n",
    "print(' '.join([english_vocab[i] for i in map(int, data_batch[-1][0])]))\n",
    "print('\\n########\\n')\n"
   ]
  },
  {
   "cell_type": "code",
   "execution_count": 22,
   "metadata": {},
   "outputs": [
    {
     "name": "stdout",
     "output_type": "stream",
     "text": [
      "tensor([[ 0.0353, -0.0798, -0.0783,  ...,  0.2444,  0.1037, -0.5340],\n",
      "        [ 0.3745, -0.2386,  0.0254,  ...,  0.2498,  0.0687, -0.3364],\n",
      "        [ 0.2188,  0.0237, -0.1980,  ..., -0.2687,  0.0418, -0.1808],\n",
      "        ...,\n",
      "        [ 0.0000,  0.0000,  0.0000,  ...,  0.0000,  0.0000,  0.0000],\n",
      "        [ 0.0000,  0.0000,  0.0000,  ...,  0.0000,  0.0000,  0.0000],\n",
      "        [ 0.0000,  0.0000,  0.0000,  ...,  0.0000,  0.0000,  0.0000]],\n",
      "       device='cuda:0', grad_fn=<CopySlices>)\n",
      "tensor([[[-0.3202, -0.1347,  0.2835,  0.2968,  0.2817,  0.1841, -0.6518,\n",
      "           0.6148,  0.2423, -0.4198, -0.0579, -0.0569,  0.6160, -0.3704,\n",
      "           0.6612, -0.4826, -0.2672, -0.3121, -0.2092, -0.4651, -0.0998,\n",
      "           0.1723,  0.5004, -0.5047,  0.1969,  0.6251,  0.3210, -0.0628,\n",
      "           0.0265, -0.0275,  0.3416, -0.2569, -0.3006, -0.3810, -0.0642,\n",
      "           0.4375,  0.0971, -0.3157,  0.4165, -0.5423,  0.0177, -0.6566,\n",
      "           0.1940,  0.1867,  0.5482, -0.3131, -0.2882, -0.4390,  0.2672,\n",
      "          -0.4805,  0.4463,  0.2930, -0.0745,  0.4536,  0.4390, -0.5878,\n",
      "          -0.4049,  0.2338,  0.0337, -0.1677,  0.3720,  0.0228, -0.0545,\n",
      "           0.3128, -0.4933,  0.1898,  0.4089,  0.4987, -0.2695,  0.1142,\n",
      "          -0.3963,  0.0464,  0.3876, -0.5778,  0.3633,  0.0240, -0.0491,\n",
      "          -0.4828, -0.0046, -0.4812,  0.2908, -0.2453, -0.0635,  0.4624,\n",
      "          -0.3957, -0.2388, -0.1784,  0.1433,  0.2247, -0.1188,  0.0024,\n",
      "           0.5277, -0.5461,  0.2489,  0.1833, -0.2163, -0.5943,  0.0181,\n",
      "           0.0615, -0.4800]]], device='cuda:0', grad_fn=<CudnnRnnBackward>)\n"
     ]
    }
   ],
   "source": [
    "print(encoder_outputs)\n",
    "# The last hidden state of the last input sentence. \n",
    "# Note: For vanilla RNN (Elman Net), the last hidden state of the encoder\n",
    "#       is the start state of the decoder's hidden state.\n",
    "print(encoder_hidden)"
   ]
  },
  {
   "cell_type": "code",
   "execution_count": null,
   "metadata": {},
   "outputs": [],
   "source": []
  },
  {
   "cell_type": "markdown",
   "metadata": {},
   "source": [
    "## Checking the decoder "
   ]
  },
  {
   "cell_type": "code",
   "execution_count": 23,
   "metadata": {},
   "outputs": [],
   "source": [
    "#############################################\n",
    "# 2.3.2. Loop through the batches.\n",
    "#############################################\n",
    "# Start the training.\n",
    "for data_batch in training_data:\n",
    "    # (Re-)Initialize the optimizers, clear all gradients after every batch.\n",
    "    encoder_optimizer.zero_grad()\n",
    "    decoder_optimizer.zero_grad()\n",
    "    # Reset the loss for every batch.\n",
    "    loss = 0\n",
    "    for input_variable, target_variable in data_batch:\n",
    "        # Initialize the hidden_states for the encoder.\n",
    "        encoder_hidden = encoder.initialize_hidden_states()\n",
    "        # Initialize the length of the PyTorch variables.\n",
    "        input_length = input_variable.size()[0]\n",
    "        target_length = target_variable.size()[0]\n",
    "        encoder_outputs = Variable(torch.zeros(MAX_LENGTH, encoder.hidden_size))\n",
    "        encoder_outputs = encoder_outputs.cuda() if use_cuda else encoder_outputs\n",
    "        \n",
    "        #############################################\n",
    "        # 2.3.3.  Iterating through each word in the encoder.\n",
    "        #############################################\n",
    "        # Iterating through each word in the input.\n",
    "        for ei in range(input_length):\n",
    "            # We move forward through each state.\n",
    "            encoder_output, encoder_hidden = encoder(input_variable[ei], encoder_hidden)\n",
    "            # And we save the encoder outputs. \n",
    "            # Note: We're retrieving [0][0] cos remember the weird .view(1,1,-1) -_-|||\n",
    "            encoder_outputs[ei] = encoder_output[0][0] \n",
    "            \n",
    "            #############################################\n",
    "            # 2.3.4.  Iterating through each word in the decoder.\n",
    "            #############################################\n",
    "            # Initialize the variable input with the index of the START.\n",
    "            decoder_input = Variable(torch.LongTensor([[START_IDX]]))\n",
    "            decoder_input = decoder_input.cuda() if use_cuda else decoder_input\n",
    "            # As the first state of the decoder, we take the last step of the encoder.\n",
    "            decoder_hidden = encoder_hidden\n",
    "            # Iterate through each state in the decoder.\n",
    "            # Note: when we are training we know the length of the decoder.\n",
    "            #       so we can use the trick to restrict the loop when decoding.\n",
    "            for di in range(target_length):\n",
    "                # We move forward through each state.\n",
    "                decoder_output, decoder_hidden = decoder(decoder_input, decoder_hidden)\n",
    "                # What are all these weird syntax, refer to 2.3.4.1\n",
    "                topv, topi = decoder_output.data.topk(1) # topk gives k largest values along a certain dimension, A tuple of (values, indices) is returned,\n",
    "                ni = topi[0][0]\n",
    "\n",
    "                # Replace our decoder input for the next state with the\n",
    "                # embedding of the decoded topi guess. \n",
    "                decoder_input = Variable(torch.LongTensor([[ni]]))\n",
    "                decoder_input = decoder_input.cuda() if use_cuda else decoder_input\n",
    "                \n",
    "                # Update our loss for this batch.\n",
    "                loss += criterion(decoder_output, target_variable[di])\n",
    "                \n",
    "                # If we see the </s> symbol, break the training.\n",
    "                if ni == END_IDX:\n",
    "                    break\n"
   ]
  },
  {
   "cell_type": "code",
   "execution_count": 24,
   "metadata": {},
   "outputs": [
    {
     "name": "stdout",
     "output_type": "stream",
     "text": [
      "DecoderRNN(\n",
      "  (embedding): Embedding(2343, 100)\n",
      "  (gru): GRU(100, 100)\n",
      "  (softmax): LogSoftmax()\n",
      "  (out): Linear(in_features=100, out_features=2343, bias=True)\n",
      ") \n",
      "\n",
      "Dictionary(2343 unique tokens: ['<s>', '</s>', 'UNK', 'burka', 'didenda']...)\n",
      "\n",
      "########\n",
      "\n",
      "<s> big business is being predicted for the computer game , call of duty : modern warfare 3 , which has been launched today . </s>\n",
      "<s> keuntungan besar diperkirakan akan diraup game komputer call of duty : modern warfare 3 , yang diluncurkan hari ini . </s>\n",
      "\n",
      "########\n",
      "\n"
     ]
    }
   ],
   "source": [
    "# Cut-away: The decoded output for the last sentence in out training_data\"\n",
    "\n",
    "# The encoder has 117 unique words\n",
    "print(decoder, '\\n')\n",
    "print(indo_vocab)\n",
    "print('\\n########\\n')\n",
    "\n",
    "# The last input sentence.\n",
    "print(' '.join([english_vocab[i] for i in map(int, data_batch[-1][0])]))\n",
    "# The last target sentence.\n",
    "print(' '.join([indo_vocab[i] for i in map(int, data_batch[-1][1])]))\n",
    "\n",
    "print('\\n########\\n')"
   ]
  },
  {
   "cell_type": "markdown",
   "metadata": {},
   "source": [
    "## Actual Training Starts Here - Backpropagation Portion Added"
   ]
  },
  {
   "cell_type": "code",
   "execution_count": 25,
   "metadata": {},
   "outputs": [],
   "source": [
    "#############################################\n",
    "# 2.3.2. Loop through the batches.\n",
    "#############################################\n",
    "# Start the training.\n",
    "for data_batch in training_data:\n",
    "    # (Re-)Initialize the optimizers, clear all gradients after every batch.\n",
    "    encoder_optimizer.zero_grad()\n",
    "    decoder_optimizer.zero_grad()\n",
    "    # Reset the loss for every batch.\n",
    "    loss = 0\n",
    "    for input_variable, target_variable in data_batch:\n",
    "        # Initialize the hidden_states for the encoder.\n",
    "        encoder_hidden = encoder.initialize_hidden_states()\n",
    "        # Initialize the length of the PyTorch variables.\n",
    "        input_length = input_variable.size()[0]\n",
    "        target_length = target_variable.size()[0]\n",
    "        encoder_outputs = Variable(torch.zeros(MAX_LENGTH, encoder.hidden_size))\n",
    "        encoder_outputs = encoder_outputs.cuda() if use_cuda else encoder_outputs\n",
    "        \n",
    "        #############################################\n",
    "        # 2.3.3.  Iterating through each word in the encoder.\n",
    "        #############################################\n",
    "        # Iterating through each word in the input.\n",
    "        for ei in range(input_length):\n",
    "            # We move forward through each state.\n",
    "            encoder_output, encoder_hidden = encoder(input_variable[ei], encoder_hidden)\n",
    "            # And we save the encoder outputs. \n",
    "            # Note: We're retrieving [0][0] cos remember the weird .view(1,1,-1) -_-|||\n",
    "            encoder_outputs[ei] = encoder_output[0][0] \n",
    "            \n",
    "            #############################################\n",
    "            # 2.3.4.  Iterating through each word in the decoder.\n",
    "            #############################################\n",
    "            # Initialize the variable input with the index of the START.\n",
    "            decoder_input = Variable(torch.LongTensor([[START_IDX]]))\n",
    "            decoder_input = decoder_input.cuda() if use_cuda else decoder_input\n",
    "            # As the first state of the decoder, we take the last step of the encoder.\n",
    "            decoder_hidden = encoder_hidden\n",
    "            # Iterate through each state in the decoder.\n",
    "            # Note: when we are training we know the length of the decoder.\n",
    "            #       so we can use the trick to restrict the loop when decoding.\n",
    "            for di in range(target_length):\n",
    "                # We move forward through each state.\n",
    "                decoder_output, decoder_hidden = decoder(decoder_input, decoder_hidden)\n",
    "                # What are alll these weird syntax, refer to 2.3.4.1\n",
    "                topv, topi = decoder_output.data.topk(1)\n",
    "                ni = topi[0][0]\n",
    "\n",
    "                # Replace our decoder input for the next state with the\n",
    "                # embedding of the decoded topi guess. \n",
    "                decoder_input = Variable(torch.LongTensor([[ni]]))\n",
    "                decoder_input = decoder_input.cuda() if use_cuda else decoder_input\n",
    "                \n",
    "                # Update our loss for this batch.\n",
    "                loss += criterion(decoder_output, target_variable[di])\n",
    "                \n",
    "                # If we see the </s> symbol, break the training.\n",
    "                if ni == END_IDX:\n",
    "                    break\n",
    "    #####################################################\n",
    "    # 2.3.5 Backpropagate the Loss and Optimizers Takes a Step.\n",
    "    #####################################################\n",
    "    loss.backward() # Backpropagate.\n",
    "    encoder_optimizer.step()\n",
    "    decoder_optimizer.step()\n"
   ]
  },
  {
   "cell_type": "code",
   "execution_count": 26,
   "metadata": {},
   "outputs": [
    {
     "data": {
      "text/plain": [
       "80"
      ]
     },
     "execution_count": 26,
     "metadata": {},
     "output_type": "execute_result"
    }
   ],
   "source": [
    "MAX_LENGTH"
   ]
  },
  {
   "cell_type": "code",
   "execution_count": 27,
   "metadata": {},
   "outputs": [
    {
     "data": {
      "text/plain": [
       "torch.Size([80, 100])"
      ]
     },
     "execution_count": 27,
     "metadata": {},
     "output_type": "execute_result"
    }
   ],
   "source": [
    "encoder_outputs.shape"
   ]
  },
  {
   "cell_type": "code",
   "execution_count": 28,
   "metadata": {},
   "outputs": [],
   "source": [
    "def translator(encoder, decoder, input_variable, max_length=MAX_LENGTH):\n",
    "    # The length of the input.\n",
    "    input_length = input_variable.size()[0]\n",
    "    # For each sentence, initilize the hidden states with zeros.\n",
    "    encoder_hidden = encoder.initialize_hidden_states()\n",
    "    # Initialize the encoder outputs. \n",
    "    encoder_outputs = Variable(torch.zeros(max_length, encoder.hidden_size))\n",
    "    encoder_outputs = encoder_outputs.cuda() if use_cuda else encoder_outputs\n",
    "    # Iterate through the input words.\n",
    "    for ei in range(input_length):\n",
    "        encoder_output, encoder_hidden = encoder(input_variable[ei], encoder_hidden)\n",
    "    # Initialize the decoder with the start symbol <s>.\n",
    "    decoder_input = Variable(torch.LongTensor([[START_IDX]])) \n",
    "    decoder_input = decoder_input.cuda() if use_cuda else decoder_input\n",
    "    # Use the last encoder hidden state as the first decoder's hidden state.\n",
    "    decoder_hidden = encoder_hidden\n",
    "    # Keep a list of the decoded words.\n",
    "    decoded_words = []\n",
    "    \n",
    "    # Iterate through the decoder states.\n",
    "    for di in range(max_length):\n",
    "        # Very similar to how the training works.\n",
    "        decoder_output, decoder_hidden = decoder(decoder_input, \n",
    "                                                 decoder_hidden)\n",
    "        topv, topi = decoder_output.data.topk(1)\n",
    "        ni = topi[0][0]\n",
    "        if ni == END_IDX:\n",
    "            decoded_words.append(END_IDX)\n",
    "            break\n",
    "        else:\n",
    "            decoded_words.append(ni.item())# changed from ni to ni.item()\n",
    "        # Replace the new decoder input for the next state \n",
    "        # with the top guess of this state.\n",
    "        decoder_input = Variable(torch.LongTensor([[ni]]))\n",
    "        decoder_input = decoder_input.cuda() if use_cuda else decoder_input\n",
    "\n",
    "    return decoded_words"
   ]
  },
  {
   "cell_type": "code",
   "execution_count": 29,
   "metadata": {},
   "outputs": [
    {
     "data": {
      "text/plain": [
       "tensor([[  0],\n",
       "        [223],\n",
       "        [230],\n",
       "        [ 26],\n",
       "        [221],\n",
       "        [  1]], device='cuda:0')"
      ]
     },
     "execution_count": 29,
     "metadata": {},
     "output_type": "execute_result"
    }
   ],
   "source": [
    "sent = 'caffeine protects the brain' # if words don't appear in corpus, it will be marked as -1\n",
    "variable_from_sent(sent, english_vocab)"
   ]
  },
  {
   "cell_type": "code",
   "execution_count": 30,
   "metadata": {},
   "outputs": [],
   "source": [
    "MAX_LENGTH = 80\n",
    "batches = 100000 # In this case, the PyTorch train_per_epoch() and train() code is using batch_size=1\n",
    "hidden_size = 10\n",
    "\n",
    "my_encoder = EncoderRNN(len(english_vocab), hidden_size)\n",
    "my_decoder = DecoderRNN(hidden_size, len(indo_vocab))\n",
    "\n",
    "if use_cuda:\n",
    "    my_encoder = my_encoder.cuda()\n",
    "    my_decoder = my_decoder.cuda()"
   ]
  },
  {
   "cell_type": "code",
   "execution_count": 31,
   "metadata": {},
   "outputs": [
    {
     "data": {
      "text/plain": [
       "80"
      ]
     },
     "execution_count": 31,
     "metadata": {},
     "output_type": "execute_result"
    }
   ],
   "source": [
    "output_words = translator(my_encoder, my_decoder, \n",
    "                          variable_from_sent(sent, english_vocab))\n",
    "len(output_words)"
   ]
  },
  {
   "cell_type": "code",
   "execution_count": 32,
   "metadata": {},
   "outputs": [
    {
     "data": {
      "text/plain": [
       "['melancarkan',\n",
       " 'penjualan',\n",
       " '1970-an',\n",
       " 'penjualan',\n",
       " 'menulis',\n",
       " 'penjualan',\n",
       " 'penjualan',\n",
       " 'langkah',\n",
       " 'menulis',\n",
       " 'penjualan',\n",
       " 'melancarkan',\n",
       " 'penjualan',\n",
       " 'terbang',\n",
       " 'penjualan',\n",
       " 'penyerang',\n",
       " 'penjualan',\n",
       " 'penyerang',\n",
       " 'meyakinkan',\n",
       " 'melancarkan',\n",
       " 'penjualan',\n",
       " 'terbang',\n",
       " 'penjualan',\n",
       " 'penyerang',\n",
       " 'penjualan',\n",
       " 'penyerang',\n",
       " 'meyakinkan',\n",
       " 'melancarkan',\n",
       " 'penjualan',\n",
       " 'terbang']"
      ]
     },
     "execution_count": 32,
     "metadata": {},
     "output_type": "execute_result"
    }
   ],
   "source": [
    "[indo_vocab[i] for i in output_words[1:30]]"
   ]
  },
  {
   "cell_type": "code",
   "execution_count": 33,
   "metadata": {},
   "outputs": [],
   "source": [
    "#########################################################\n",
    "# Some Logging and Plotting Candies to Monitor Training\n",
    "#########################################################\n",
    "\n",
    "import time\n",
    "import math\n",
    "\n",
    "import matplotlib.pyplot as plt\n",
    "import matplotlib.ticker as ticker\n",
    "import numpy as np\n",
    "\n",
    "\n",
    "def asMinutes(s):\n",
    "    m = math.floor(s / 60)\n",
    "    s -= m * 60\n",
    "    return '%dm %ds' % (m, s)\n",
    "\n",
    "def timeSince(since, percent):\n",
    "    now = time.time()\n",
    "    s = now - since\n",
    "    es = s / (percent)\n",
    "    rs = es - s\n",
    "    return '%s (- %s)' % (asMinutes(s), asMinutes(rs))\n",
    "\n",
    "\n",
    "def showPlot(points):\n",
    "    plt.figure()\n",
    "    fig, ax = plt.subplots()\n",
    "    # this locator puts ticks at regular intervals\n",
    "    loc = ticker.MultipleLocator(base=0.2)\n",
    "    ax.yaxis.set_major_locator(loc)\n",
    "    plt.plot(points)\n",
    "    \n",
    "    \n",
    "#########################################################\n",
    "# Training per epoch,\n",
    "# Iterates across data points per epoch.\n",
    "#########################################################\n",
    "def train_one_epoch(input_variable, target_variable, encoder, decoder, \n",
    "                    encoder_optimizer, decoder_optimizer, criterion):\n",
    "    \"\"\"\n",
    "    Function to put the variables, decoder and optimizers to train per epoch.\n",
    "    \"\"\"\n",
    "    encoder_hidden = encoder.initialize_hidden_states()\n",
    "\n",
    "    # (Re-)Initialize the optimizers, clear all gradients. \n",
    "    encoder_optimizer.zero_grad()\n",
    "    decoder_optimizer.zero_grad()\n",
    "    \n",
    "    # Initialize the length of the PyTorch variables.\n",
    "    input_length = input_variable.size()[0]\n",
    "    target_length = target_variable.size()[0]\n",
    "    encoder_outputs = Variable(torch.zeros(MAX_LENGTH, encoder.hidden_size))\n",
    "    encoder_outputs = encoder_outputs.cuda() if use_cuda else encoder_outputs\n",
    "\n",
    "    loss = 0\n",
    "    \n",
    "    # Iterating through each word in the input.\n",
    "    for ei in range(input_length):\n",
    "        # We move forward through each state.\n",
    "        encoder_output, encoder_hidden = encoder(input_variable[ei], encoder_hidden)\n",
    "        # And we save the encoder outputs. \n",
    "        encoder_outputs[ei] = encoder_output[0][0]\n",
    "\n",
    "    # Initialize the variable input with the index of the START.\n",
    "    decoder_input = Variable(torch.LongTensor([[START_IDX]]))\n",
    "    decoder_input = decoder_input.cuda() if use_cuda else decoder_input\n",
    "    \n",
    "    # As the first state of the decoder, we take the last step of the encoder.\n",
    "    decoder_hidden = encoder_hidden\n",
    "    \n",
    "    # Without teacher forcing: use its own predictions as the next input\n",
    "    for di in range(target_length):\n",
    "        decoder_output, decoder_hidden = decoder(\n",
    "            decoder_input, decoder_hidden)\n",
    "        topv, topi = decoder_output.data.topk(1)\n",
    "        ni = topi[0][0]\n",
    "\n",
    "        decoder_input = Variable(torch.LongTensor([[ni]]))\n",
    "        decoder_input = decoder_input.cuda() if use_cuda else decoder_input\n",
    "\n",
    "        loss += criterion(decoder_output, target_variable[di])\n",
    "        if ni == END_IDX:\n",
    "            break\n",
    "\n",
    "    loss.backward()\n",
    "\n",
    "    encoder_optimizer.step()\n",
    "    decoder_optimizer.step()\n",
    "\n",
    "    #return loss.data[0] / target_length\n",
    "    return loss.item() / target_length\n",
    "\n",
    "#########################################################\n",
    "# Top-level function to start the training,\n",
    "# iterates across epochs.\n",
    "#########################################################\n",
    "\n",
    "def train(encoder, decoder, n_iters, print_every=1000, plot_every=100, learning_rate=0.01):\n",
    "    start = time.time()\n",
    "    plot_losses = []\n",
    "    print_loss_total = 0  # Reset every print_every\n",
    "    plot_loss_total = 0  # Reset every plot_every\n",
    "\n",
    "    encoder_optimizer = optim.SGD(encoder.parameters(), lr=learning_rate)\n",
    "    decoder_optimizer = optim.SGD(decoder.parameters(), lr=learning_rate)\n",
    "\n",
    "    training_pairs = [random.choice(sent_pairs) for i in range(n_iters)]\n",
    "    \n",
    "    criterion = nn.NLLLoss()\n",
    "\n",
    "    for iter in range(1, n_iters + 1):\n",
    "        training_pair = training_pairs[iter - 1]\n",
    "        input_variable = training_pair[0]\n",
    "        target_variable = training_pair[1]\n",
    "\n",
    "        loss = train_one_epoch(input_variable, target_variable, encoder,\n",
    "                     decoder, encoder_optimizer, decoder_optimizer, criterion)\n",
    "        print_loss_total += loss\n",
    "        plot_loss_total += loss\n",
    "\n",
    "        if iter % print_every == 0:\n",
    "            print_loss_avg = print_loss_total / print_every\n",
    "            print_loss_total = 0\n",
    "            print('%s (%d %d%%) %.4f' % (timeSince(start, iter / n_iters),\n",
    "                                         iter, iter / n_iters * 100, print_loss_avg))\n",
    "\n",
    "        if iter % plot_every == 0:\n",
    "            plot_loss_avg = plot_loss_total / plot_every\n",
    "            plot_losses.append(plot_loss_avg)\n",
    "            plot_loss_total = 0\n",
    "    \n",
    "    showPlot(plot_losses)"
   ]
  },
  {
   "cell_type": "code",
   "execution_count": 34,
   "metadata": {},
   "outputs": [
    {
     "name": "stdout",
     "output_type": "stream",
     "text": [
      "0m 2s (- 10m 15s) (100 0%) 4.5349\n",
      "0m 3s (- 9m 7s) (200 0%) 2.8862\n",
      "0m 5s (- 8m 33s) (300 1%) 2.6931\n",
      "0m 7s (- 8m 25s) (400 1%) 2.8637\n",
      "0m 9s (- 8m 24s) (500 1%) 3.0478\n",
      "0m 10s (- 8m 19s) (600 2%) 3.0870\n",
      "0m 12s (- 8m 11s) (700 2%) 2.5144\n",
      "0m 14s (- 8m 2s) (800 2%) 2.6595\n",
      "0m 15s (- 7m 57s) (900 3%) 3.0139\n",
      "0m 17s (- 7m 51s) (1000 3%) 2.6482\n",
      "0m 19s (- 7m 46s) (1100 3%) 2.8096\n",
      "0m 20s (- 7m 41s) (1200 4%) 2.4645\n",
      "0m 22s (- 7m 37s) (1300 4%) 2.5811\n",
      "0m 23s (- 7m 37s) (1400 4%) 2.4371\n",
      "0m 25s (- 7m 34s) (1500 5%) 2.7828\n",
      "0m 27s (- 7m 34s) (1600 5%) 2.5432\n",
      "0m 29s (- 7m 35s) (1700 6%) 3.1209\n",
      "0m 31s (- 7m 33s) (1800 6%) 2.8340\n",
      "0m 32s (- 7m 32s) (1900 6%) 2.9415\n",
      "0m 34s (- 7m 32s) (2000 7%) 3.2925\n",
      "0m 36s (- 7m 30s) (2100 7%) 2.8708\n",
      "0m 38s (- 7m 29s) (2200 7%) 3.2948\n",
      "0m 39s (- 7m 27s) (2300 8%) 3.1374\n",
      "0m 41s (- 7m 26s) (2400 8%) 3.2752\n",
      "0m 43s (- 7m 27s) (2500 8%) 3.8050\n",
      "0m 45s (- 7m 27s) (2600 9%) 3.6932\n",
      "0m 47s (- 7m 26s) (2700 9%) 3.3247\n",
      "0m 49s (- 7m 25s) (2800 9%) 3.6616\n",
      "0m 51s (- 7m 24s) (2900 10%) 3.8255\n",
      "0m 53s (- 7m 26s) (3000 10%) 4.2729\n",
      "0m 55s (- 7m 27s) (3100 11%) 3.4793\n",
      "0m 57s (- 7m 28s) (3200 11%) 4.0891\n",
      "0m 59s (- 7m 30s) (3300 11%) 4.5484\n",
      "1m 2s (- 7m 31s) (3400 12%) 4.2200\n",
      "1m 4s (- 7m 31s) (3500 12%) 4.2764\n",
      "1m 6s (- 7m 32s) (3600 12%) 4.1550\n",
      "1m 8s (- 7m 34s) (3700 13%) 4.4430\n",
      "1m 11s (- 7m 34s) (3800 13%) 4.6704\n",
      "1m 13s (- 7m 34s) (3900 13%) 4.3636\n",
      "1m 15s (- 7m 34s) (4000 14%) 4.4346\n",
      "1m 17s (- 7m 34s) (4100 14%) 4.2051\n",
      "1m 19s (- 7m 33s) (4200 14%) 4.2777\n",
      "1m 21s (- 7m 32s) (4300 15%) 4.1739\n",
      "1m 23s (- 7m 31s) (4400 15%) 3.7344\n",
      "1m 25s (- 7m 30s) (4500 16%) 4.0161\n",
      "1m 28s (- 7m 29s) (4600 16%) 4.0382\n",
      "1m 30s (- 7m 28s) (4700 16%) 3.8673\n",
      "1m 32s (- 7m 26s) (4800 17%) 4.0756\n",
      "1m 34s (- 7m 26s) (4900 17%) 4.2730\n",
      "1m 36s (- 7m 25s) (5000 17%) 3.6881\n",
      "1m 38s (- 7m 24s) (5100 18%) 3.9480\n",
      "1m 40s (- 7m 23s) (5200 18%) 3.8254\n",
      "1m 42s (- 7m 22s) (5300 18%) 4.2977\n",
      "1m 45s (- 7m 22s) (5400 19%) 4.4087\n",
      "1m 47s (- 7m 21s) (5500 19%) 3.9936\n",
      "1m 49s (- 7m 20s) (5600 19%) 4.1527\n",
      "1m 51s (- 7m 19s) (5700 20%) 3.9733\n",
      "1m 54s (- 7m 18s) (5800 20%) 4.2687\n",
      "1m 56s (- 7m 17s) (5900 20%) 4.2956\n",
      "1m 58s (- 7m 17s) (6000 21%) 4.0415\n",
      "2m 1s (- 7m 16s) (6100 21%) 4.2172\n",
      "2m 3s (- 7m 15s) (6200 22%) 3.8724\n",
      "2m 5s (- 7m 13s) (6300 22%) 3.7452\n",
      "2m 7s (- 7m 11s) (6400 22%) 4.2514\n",
      "2m 9s (- 7m 9s) (6500 23%) 3.7305\n",
      "2m 11s (- 7m 8s) (6600 23%) 3.9368\n",
      "2m 13s (- 7m 6s) (6700 23%) 4.2176\n",
      "2m 15s (- 7m 5s) (6800 24%) 4.1918\n",
      "2m 18s (- 7m 4s) (6900 24%) 4.1797\n",
      "2m 20s (- 7m 2s) (7000 24%) 3.9783\n",
      "2m 22s (- 7m 1s) (7100 25%) 3.9551\n",
      "2m 24s (- 6m 59s) (7200 25%) 3.6834\n",
      "2m 26s (- 6m 58s) (7300 25%) 4.2066\n",
      "2m 29s (- 6m 57s) (7400 26%) 3.8773\n",
      "2m 31s (- 6m 55s) (7500 26%) 4.2148\n",
      "2m 33s (- 6m 54s) (7600 27%) 4.1849\n",
      "2m 35s (- 6m 52s) (7700 27%) 3.8842\n",
      "2m 38s (- 6m 51s) (7800 27%) 4.0991\n",
      "2m 40s (- 6m 50s) (7900 28%) 4.0388\n",
      "2m 42s (- 6m 48s) (8000 28%) 3.9431\n",
      "2m 44s (- 6m 46s) (8100 28%) 3.9418\n",
      "2m 47s (- 6m 45s) (8200 29%) 4.0855\n",
      "2m 49s (- 6m 43s) (8300 29%) 3.7505\n",
      "2m 51s (- 6m 42s) (8400 29%) 4.1662\n",
      "2m 53s (- 6m 40s) (8500 30%) 3.9262\n",
      "2m 55s (- 6m 38s) (8600 30%) 3.8276\n",
      "2m 58s (- 6m 37s) (8700 30%) 3.8365\n",
      "3m 0s (- 6m 35s) (8800 31%) 3.9652\n",
      "3m 2s (- 6m 34s) (8900 31%) 4.2247\n",
      "3m 4s (- 6m 32s) (9000 32%) 3.8025\n",
      "3m 7s (- 6m 30s) (9100 32%) 3.9184\n",
      "3m 9s (- 6m 28s) (9200 32%) 4.2392\n",
      "3m 11s (- 6m 27s) (9300 33%) 4.3375\n",
      "3m 14s (- 6m 26s) (9400 33%) 4.1791\n",
      "3m 16s (- 6m 24s) (9500 33%) 4.0485\n",
      "3m 18s (- 6m 23s) (9600 34%) 3.8481\n",
      "3m 21s (- 6m 21s) (9700 34%) 3.8089\n",
      "3m 23s (- 6m 19s) (9800 34%) 3.9469\n",
      "3m 25s (- 6m 18s) (9900 35%) 3.7896\n",
      "3m 28s (- 6m 16s) (10000 35%) 3.9732\n",
      "3m 30s (- 6m 14s) (10100 35%) 3.9308\n",
      "3m 32s (- 6m 13s) (10200 36%) 4.0544\n",
      "3m 34s (- 6m 11s) (10300 36%) 3.7113\n",
      "3m 37s (- 6m 9s) (10400 37%) 3.8502\n",
      "3m 39s (- 6m 7s) (10500 37%) 3.5106\n",
      "3m 41s (- 6m 5s) (10600 37%) 3.3926\n",
      "3m 43s (- 6m 3s) (10700 38%) 3.7169\n",
      "3m 46s (- 6m 2s) (10800 38%) 3.8950\n",
      "3m 48s (- 6m 0s) (10900 38%) 3.9964\n",
      "3m 50s (- 5m 58s) (11000 39%) 3.7920\n",
      "3m 53s (- 5m 56s) (11100 39%) 3.8282\n",
      "3m 55s (- 5m 55s) (11200 39%) 3.9295\n",
      "3m 57s (- 5m 53s) (11300 40%) 3.9157\n",
      "4m 0s (- 5m 52s) (11400 40%) 3.5709\n",
      "4m 2s (- 5m 50s) (11500 40%) 3.8321\n",
      "4m 5s (- 5m 48s) (11600 41%) 3.6077\n",
      "4m 7s (- 5m 47s) (11700 41%) 3.6868\n",
      "4m 9s (- 5m 45s) (11800 41%) 3.4819\n",
      "4m 12s (- 5m 43s) (11900 42%) 3.7906\n",
      "4m 14s (- 5m 41s) (12000 42%) 3.6190\n",
      "4m 16s (- 5m 39s) (12100 43%) 3.7861\n",
      "4m 19s (- 5m 37s) (12200 43%) 3.7292\n",
      "4m 21s (- 5m 35s) (12300 43%) 3.4549\n",
      "4m 23s (- 5m 33s) (12400 44%) 3.4440\n",
      "4m 25s (- 5m 31s) (12500 44%) 3.5039\n",
      "4m 28s (- 5m 29s) (12600 44%) 3.6764\n",
      "4m 30s (- 5m 27s) (12700 45%) 3.3455\n",
      "4m 32s (- 5m 25s) (12800 45%) 3.3137\n",
      "4m 35s (- 5m 24s) (12900 45%) 3.6386\n",
      "4m 37s (- 5m 22s) (13000 46%) 3.2969\n",
      "4m 39s (- 5m 20s) (13100 46%) 3.3815\n",
      "4m 42s (- 5m 18s) (13200 46%) 3.5212\n",
      "4m 44s (- 5m 16s) (13300 47%) 3.4866\n",
      "4m 46s (- 5m 14s) (13400 47%) 3.4841\n",
      "4m 48s (- 5m 12s) (13500 48%) 3.3951\n",
      "4m 51s (- 5m 10s) (13600 48%) 3.3612\n",
      "4m 53s (- 5m 8s) (13700 48%) 3.5303\n",
      "4m 55s (- 5m 6s) (13800 49%) 3.3890\n",
      "4m 58s (- 5m 4s) (13900 49%) 3.3179\n",
      "5m 0s (- 5m 2s) (14000 49%) 3.5465\n",
      "5m 3s (- 5m 0s) (14100 50%) 3.3468\n",
      "5m 5s (- 4m 59s) (14200 50%) 3.4579\n",
      "5m 7s (- 4m 57s) (14300 50%) 3.3754\n",
      "5m 10s (- 4m 55s) (14400 51%) 3.3182\n",
      "5m 12s (- 4m 53s) (14500 51%) 3.0530\n",
      "5m 14s (- 4m 51s) (14600 51%) 3.1908\n",
      "5m 17s (- 4m 49s) (14700 52%) 3.1640\n",
      "5m 19s (- 4m 47s) (14800 52%) 3.2948\n",
      "5m 21s (- 4m 45s) (14900 53%) 3.2847\n",
      "5m 24s (- 4m 43s) (15000 53%) 3.2214\n",
      "5m 26s (- 4m 41s) (15100 53%) 3.2647\n",
      "5m 29s (- 4m 39s) (15200 54%) 3.0327\n",
      "5m 31s (- 4m 37s) (15300 54%) 3.1245\n",
      "5m 33s (- 4m 35s) (15400 54%) 3.1599\n",
      "5m 36s (- 4m 33s) (15500 55%) 3.3077\n",
      "5m 38s (- 4m 31s) (15600 55%) 3.0285\n",
      "5m 41s (- 4m 29s) (15700 55%) 3.0014\n",
      "5m 43s (- 4m 27s) (15800 56%) 3.1071\n",
      "5m 45s (- 4m 25s) (15900 56%) 3.0978\n",
      "5m 48s (- 4m 23s) (16000 56%) 2.9698\n",
      "5m 50s (- 4m 21s) (16100 57%) 2.9601\n",
      "5m 52s (- 4m 19s) (16200 57%) 2.8147\n",
      "5m 55s (- 4m 17s) (16300 58%) 2.7692\n",
      "5m 57s (- 4m 15s) (16400 58%) 2.7179\n",
      "5m 59s (- 4m 13s) (16500 58%) 2.9106\n",
      "6m 2s (- 4m 10s) (16600 59%) 2.9901\n",
      "6m 4s (- 4m 8s) (16700 59%) 2.6899\n",
      "6m 6s (- 4m 6s) (16800 59%) 2.9533\n",
      "6m 9s (- 4m 4s) (16900 60%) 2.9750\n",
      "6m 11s (- 4m 2s) (17000 60%) 2.9381\n",
      "6m 13s (- 4m 0s) (17100 60%) 3.0060\n",
      "6m 16s (- 3m 58s) (17200 61%) 3.0031\n",
      "6m 18s (- 3m 56s) (17300 61%) 2.9594\n",
      "6m 21s (- 3m 54s) (17400 61%) 3.0163\n",
      "6m 23s (- 3m 52s) (17500 62%) 2.7870\n",
      "6m 25s (- 3m 50s) (17600 62%) 3.0067\n",
      "6m 28s (- 3m 48s) (17700 62%) 2.9589\n",
      "6m 30s (- 3m 46s) (17800 63%) 2.8993\n",
      "6m 33s (- 3m 44s) (17900 63%) 2.7289\n",
      "6m 35s (- 3m 41s) (18000 64%) 2.8765\n",
      "6m 38s (- 3m 39s) (18100 64%) 2.9150\n",
      "6m 40s (- 3m 37s) (18200 64%) 2.9362\n",
      "6m 42s (- 3m 35s) (18300 65%) 2.7615\n",
      "6m 45s (- 3m 33s) (18400 65%) 2.7532\n",
      "6m 47s (- 3m 31s) (18500 65%) 2.6568\n",
      "6m 49s (- 3m 29s) (18600 66%) 2.6494\n",
      "6m 52s (- 3m 27s) (18700 66%) 2.4819\n",
      "6m 54s (- 3m 25s) (18800 66%) 2.7780\n",
      "6m 56s (- 3m 22s) (18900 67%) 2.5619\n",
      "6m 59s (- 3m 20s) (19000 67%) 2.7188\n",
      "7m 1s (- 3m 18s) (19100 67%) 2.6690\n",
      "7m 4s (- 3m 16s) (19200 68%) 2.5864\n",
      "7m 6s (- 3m 14s) (19300 68%) 2.7075\n",
      "7m 9s (- 3m 12s) (19400 69%) 2.4401\n",
      "7m 11s (- 3m 10s) (19500 69%) 2.6085\n",
      "7m 13s (- 3m 8s) (19600 69%) 2.4304\n",
      "7m 16s (- 3m 6s) (19700 70%) 2.6535\n",
      "7m 18s (- 3m 4s) (19800 70%) 2.7754\n",
      "7m 21s (- 3m 1s) (19900 70%) 2.4593\n",
      "7m 23s (- 2m 59s) (20000 71%) 2.4072\n",
      "7m 26s (- 2m 57s) (20100 71%) 2.5675\n",
      "7m 28s (- 2m 55s) (20200 71%) 2.4146\n",
      "7m 31s (- 2m 53s) (20300 72%) 2.3688\n",
      "7m 33s (- 2m 51s) (20400 72%) 2.6001\n",
      "7m 35s (- 2m 49s) (20500 72%) 2.6348\n",
      "7m 38s (- 2m 46s) (20600 73%) 2.3041\n",
      "7m 40s (- 2m 44s) (20700 73%) 2.2711\n",
      "7m 43s (- 2m 42s) (20800 74%) 2.4134\n",
      "7m 45s (- 2m 40s) (20900 74%) 2.4408\n",
      "7m 48s (- 2m 38s) (21000 74%) 2.2509\n",
      "7m 50s (- 2m 36s) (21100 75%) 2.3436\n",
      "7m 52s (- 2m 33s) (21200 75%) 2.4325\n",
      "7m 55s (- 2m 31s) (21300 75%) 2.3425\n",
      "7m 57s (- 2m 29s) (21400 76%) 2.3561\n",
      "8m 0s (- 2m 27s) (21500 76%) 2.3357\n",
      "8m 2s (- 2m 25s) (21600 76%) 2.3664\n",
      "8m 4s (- 2m 23s) (21700 77%) 2.2229\n",
      "8m 7s (- 2m 20s) (21800 77%) 2.1274\n",
      "8m 10s (- 2m 18s) (21900 77%) 2.3221\n",
      "8m 12s (- 2m 16s) (22000 78%) 2.2845\n",
      "8m 15s (- 2m 14s) (22100 78%) 2.3583\n",
      "8m 18s (- 2m 12s) (22200 79%) 2.4823\n",
      "8m 20s (- 2m 10s) (22300 79%) 2.1882\n",
      "8m 23s (- 2m 8s) (22400 79%) 2.1838\n",
      "8m 26s (- 2m 6s) (22500 80%) 2.3652\n",
      "8m 28s (- 2m 3s) (22600 80%) 2.0735\n",
      "8m 31s (- 2m 1s) (22700 80%) 2.1086\n",
      "8m 34s (- 1m 59s) (22800 81%) 2.0895\n",
      "8m 36s (- 1m 57s) (22900 81%) 2.2035\n",
      "8m 39s (- 1m 55s) (23000 81%) 2.1406\n",
      "8m 42s (- 1m 53s) (23100 82%) 2.3563\n",
      "8m 44s (- 1m 50s) (23200 82%) 2.1582\n",
      "8m 47s (- 1m 48s) (23300 82%) 2.0104\n",
      "8m 50s (- 1m 46s) (23400 83%) 2.0368\n",
      "8m 52s (- 1m 44s) (23500 83%) 1.9430\n",
      "8m 55s (- 1m 42s) (23600 83%) 2.0699\n",
      "8m 57s (- 1m 39s) (23700 84%) 2.0948\n",
      "9m 0s (- 1m 37s) (23800 84%) 2.2232\n",
      "9m 2s (- 1m 35s) (23900 85%) 2.0377\n",
      "9m 4s (- 1m 33s) (24000 85%) 1.8349\n",
      "9m 7s (- 1m 30s) (24100 85%) 1.9511\n",
      "9m 9s (- 1m 28s) (24200 86%) 2.0818\n",
      "9m 12s (- 1m 26s) (24300 86%) 2.0715\n",
      "9m 14s (- 1m 24s) (24400 86%) 1.6787\n",
      "9m 17s (- 1m 21s) (24500 87%) 2.1380\n",
      "9m 19s (- 1m 19s) (24600 87%) 2.1558\n",
      "9m 22s (- 1m 17s) (24700 87%) 2.1075\n",
      "9m 24s (- 1m 15s) (24800 88%) 2.2752\n",
      "9m 27s (- 1m 12s) (24900 88%) 1.9564\n",
      "9m 30s (- 1m 10s) (25000 88%) 1.9972\n",
      "9m 32s (- 1m 8s) (25100 89%) 2.0283\n",
      "9m 35s (- 1m 6s) (25200 89%) 2.0362\n",
      "9m 37s (- 1m 3s) (25300 90%) 2.2305\n",
      "9m 40s (- 1m 1s) (25400 90%) 2.0764\n",
      "9m 42s (- 0m 59s) (25500 90%) 1.8636\n",
      "9m 44s (- 0m 57s) (25600 91%) 1.9536\n",
      "9m 47s (- 0m 54s) (25700 91%) 2.0868\n",
      "9m 49s (- 0m 52s) (25800 91%) 2.3331\n",
      "9m 52s (- 0m 50s) (25900 92%) 2.1750\n",
      "9m 54s (- 0m 48s) (26000 92%) 2.1045\n",
      "9m 57s (- 0m 45s) (26100 92%) 2.0307\n",
      "9m 59s (- 0m 43s) (26200 93%) 2.0005\n",
      "10m 1s (- 0m 41s) (26300 93%) 1.9657\n",
      "10m 4s (- 0m 38s) (26400 93%) 1.9951\n",
      "10m 6s (- 0m 36s) (26500 94%) 2.1296\n",
      "10m 9s (- 0m 34s) (26600 94%) 2.0560\n",
      "10m 11s (- 0m 32s) (26700 95%) 2.2085\n",
      "10m 14s (- 0m 29s) (26800 95%) 1.9712\n",
      "10m 16s (- 0m 27s) (26900 95%) 2.0296\n",
      "10m 18s (- 0m 25s) (27000 96%) 1.8859\n",
      "10m 21s (- 0m 22s) (27100 96%) 2.0549\n",
      "10m 23s (- 0m 20s) (27200 96%) 1.9435\n",
      "10m 26s (- 0m 18s) (27300 97%) 1.8067\n",
      "10m 28s (- 0m 16s) (27400 97%) 1.7299\n",
      "10m 31s (- 0m 13s) (27500 97%) 1.7877\n",
      "10m 33s (- 0m 11s) (27600 98%) 1.8706\n",
      "10m 36s (- 0m 9s) (27700 98%) 1.9519\n",
      "10m 38s (- 0m 6s) (27800 98%) 1.8979\n",
      "10m 40s (- 0m 4s) (27900 99%) 1.9004\n",
      "10m 43s (- 0m 2s) (28000 99%) 1.8086\n",
      "10m 45s (- 0m 0s) (28100 100%) 1.7657\n"
     ]
    },
    {
     "data": {
      "text/plain": [
       "<Figure size 432x288 with 0 Axes>"
      ]
     },
     "metadata": {},
     "output_type": "display_data"
    },
    {
     "data": {
      "image/png": "[encoded data removed]",
      "text/plain": [
       "<Figure size 432x288 with 1 Axes>"
      ]
     },
     "metadata": {
      "needs_background": "light"
     },
     "output_type": "display_data"
    }
   ],
   "source": [
    "MAX_LENGTH = 80\n",
    "batches = 28100 # In this case, the PyTorch train_per_epoch() and train() code is using batch_size=1\n",
    "hidden_size = 100\n",
    "\n",
    "my_encoder = EncoderRNN(len(english_vocab), hidden_size)\n",
    "my_decoder = DecoderRNN(hidden_size, len(indo_vocab))\n",
    "\n",
    "if use_cuda:\n",
    "    my_encoder = my_encoder.cuda()\n",
    "    my_decoder = my_decoder.cuda()\n",
    "\n",
    "train(my_encoder, my_decoder, batches, print_every=100)"
   ]
  },
  {
   "cell_type": "code",
   "execution_count": 35,
   "metadata": {},
   "outputs": [
    {
     "name": "stdout",
     "output_type": "stream",
     "text": [
      "100 28100\n",
      "encoder_vanilla_100_28100.pkl\n"
     ]
    }
   ],
   "source": [
    "# Here's a nice bleeding edge Python trick, (only works on Python3.6)\n",
    "# F-strings for the win!!\n",
    "# See https://www.python.org/dev/peps/pep-0498/\n",
    "print(hidden_size, batches)\n",
    "print(f'encoder_vanilla_{hidden_size}_{batches}.pkl')"
   ]
  },
  {
   "cell_type": "code",
   "execution_count": 36,
   "metadata": {},
   "outputs": [],
   "source": [
    "import pickle \n",
    "\n",
    "# In Python >= 3.6\n",
    "with open(f'./models/encoder_vanilla_{hidden_size}_{batches}.pkl', 'wb') as fout:\n",
    "    pickle.dump(my_encoder, fout)\n",
    "with open(f'./models/decoder_vanilla_{hidden_size}_{batches}.pkl', 'wb') as fout:\n",
    "    pickle.dump(my_decoder, fout)\n",
    "\n",
    "# For Python < 3.6\n",
    "with open('./models/encoder_vanilla_{}_{}.pkl'.format(hidden_size, batches), 'wb') as fout:\n",
    "    pickle.dump(my_encoder, fout)\n",
    "with open('./models/decoder_vanilla_{}_{}.pkl'.format(hidden_size, batches), 'wb') as fout:\n",
    "    pickle.dump(my_decoder, fout)"
   ]
  },
  {
   "cell_type": "code",
   "execution_count": null,
   "metadata": {},
   "outputs": [],
   "source": []
  },
  {
   "cell_type": "code",
   "execution_count": 37,
   "metadata": {},
   "outputs": [],
   "source": [
    "def translate(kopi_order):\n",
    "    output_words = translator(my_encoder, my_decoder, variable_from_sent(kopi_order, english_vocab))\n",
    "    print(output_words)\n",
    "    output_sentence = [indo_vocab[i] for i in output_words[1:output_words.index(1)]]\n",
    "    return ' '.join(output_sentence)"
   ]
  },
  {
   "cell_type": "code",
   "execution_count": 43,
   "metadata": {},
   "outputs": [
    {
     "name": "stdout",
     "output_type": "stream",
     "text": [
      "[0, 7, 8, 4, 6, 6, 3, 1]\n"
     ]
    },
    {
     "data": {
      "text/plain": [
       "'muslimah prancis didenda mengenakan mengenakan burka'"
      ]
     },
     "execution_count": 43,
     "metadata": {},
     "output_type": "execute_result"
    }
   ],
   "source": [
    "translate('French Muslims fined for face veils')"
   ]
  },
  {
   "cell_type": "code",
   "execution_count": 42,
   "metadata": {},
   "outputs": [
    {
     "name": "stdout",
     "output_type": "stream",
     "text": [
      "[0, 1315, 281, 1434, 98, 98, 1]\n"
     ]
    },
    {
     "data": {
      "text/plain": [
       "'bat tersebut rooney untuk untuk'"
      ]
     },
     "execution_count": 42,
     "metadata": {},
     "output_type": "execute_result"
    }
   ],
   "source": [
    "translate('face')"
   ]
  },
  {
   "cell_type": "code",
   "execution_count": null,
   "metadata": {},
   "outputs": [],
   "source": []
  }
 ],
 "metadata": {
  "kernelspec": {
   "display_name": "Python 3",
   "language": "python",
   "name": "python3"
  },
  "language_info": {
   "codemirror_mode": {
    "name": "ipython",
    "version": 3
   },
   "file_extension": ".py",
   "mimetype": "text/x-python",
   "name": "python",
   "nbconvert_exporter": "python",
   "pygments_lexer": "ipython3",
   "version": "3.6.8"
  }
 },
 "nbformat": 4,
 "nbformat_minor": 2
}
