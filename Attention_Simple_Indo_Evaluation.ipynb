{
 "cells": [
  {
   "cell_type": "code",
   "execution_count": 1,
   "metadata": {
    "pycharm": {
     "metadata": false,
     "name": "#%%\n"
    }
   },
   "outputs": [],
   "source": [
    "import pickle\n",
    "import torch\n",
    "import torch.nn as nn\n",
    "from torch import optim\n",
    "import torch.nn.functional as F\n",
    "from torch.autograd import Variable\n",
    "from nltk import word_tokenize\n",
    "\n",
    "MIN_LENGTH = 4\n",
    "MAX_LENGTH = 15\n",
    "START, START_IDX = '<s>',  0\n",
    "END, END_IDX = '</s>', 1\n",
    "UNK, UNK_IDX = 'UNK', 2\n",
    "\n",
    "SOS_token = START_IDX\n",
    "EOS_token = END_IDX\n",
    "\n",
    "device = torch.device(\"cuda\" if torch.cuda.is_available() else \"cpu\")\n",
    "use_cuda = torch.cuda.is_available()\n",
    "\n",
    "# Lets load our dictionaries.\n",
    "f_eng = open('./vocabs/simple_english_vocab.Dictionary.pkl', 'rb')\n",
    "english_vocab = pickle.load(f_eng)\n",
    "\n",
    "f_ind = open('./vocabs/simple_indo_vocab.Dictionary.pkl', 'rb')\n",
    "indo_vocab = pickle.load(f_ind)"
   ]
  },
  {
   "cell_type": "code",
   "execution_count": 2,
   "metadata": {
    "pycharm": {}
   },
   "outputs": [],
   "source": [
    "class EncoderRNN(nn.Module):\n",
    "    def __init__(self, input_size, hidden_size):\n",
    "        super(EncoderRNN, self).__init__()\n",
    "        self.hidden_size = hidden_size\n",
    "\n",
    "        self.embedding = nn.Embedding(input_size, hidden_size)\n",
    "        self.gru = nn.GRU(hidden_size, hidden_size)\n",
    "\n",
    "    def forward(self, input, hidden):\n",
    "        embedded = self.embedding(input).view(1, 1, -1)\n",
    "        output = embedded\n",
    "        output, hidden = self.gru(output, hidden)\n",
    "        return output, hidden\n",
    "\n",
    "    def initHidden(self):\n",
    "        return torch.zeros(1, 1, self.hidden_size, device=device)\n",
    "\n",
    "class AttnDecoderRNN(nn.Module):\n",
    "    def __init__(self, hidden_size, output_size, dropout_p=0.1, max_length=MAX_LENGTH):\n",
    "        super(AttnDecoderRNN, self).__init__()\n",
    "        self.hidden_size = hidden_size\n",
    "        self.output_size = output_size\n",
    "        self.dropout_p = dropout_p\n",
    "        self.max_length = max_length\n",
    "\n",
    "        self.embedding = nn.Embedding(self.output_size, self.hidden_size)\n",
    "        self.attn = nn.Linear(self.hidden_size * 2, self.max_length)\n",
    "        self.attn_combine = nn.Linear(self.hidden_size * 2, self.hidden_size)\n",
    "        self.dropout = nn.Dropout(self.dropout_p)\n",
    "        self.gru = nn.GRU(self.hidden_size, self.hidden_size)\n",
    "        self.out = nn.Linear(self.hidden_size, self.output_size)\n",
    "\n",
    "    def forward(self, input, hidden, encoder_outputs):\n",
    "        embedded = self.embedding(input).view(1, 1, -1)\n",
    "        embedded = self.dropout(embedded)\n",
    "\n",
    "        attn_weights = F.softmax(\n",
    "            self.attn(torch.cat((embedded[0], hidden[0]), 1)), dim=1)\n",
    "        attn_applied = torch.bmm(attn_weights.unsqueeze(0),\n",
    "                                 encoder_outputs.unsqueeze(0))\n",
    "\n",
    "        output = torch.cat((embedded[0], attn_applied[0]), 1)\n",
    "        output = self.attn_combine(output).unsqueeze(0)\n",
    "\n",
    "        output = F.relu(output)\n",
    "        output, hidden = self.gru(output, hidden)\n",
    "\n",
    "        output = F.log_softmax(self.out(output[0]), dim=1)\n",
    "        return output, hidden, attn_weights\n",
    "\n",
    "    def initHidden(self):\n",
    "        return torch.zeros(1, 1, self.hidden_size, device=device)"
   ]
  },
  {
   "cell_type": "code",
   "execution_count": 3,
   "metadata": {
    "pycharm": {}
   },
   "outputs": [],
   "source": [
    "def vectorize_sent(sent, vocab):\n",
    "    return vocab.doc2idx([START] + word_tokenize(sent.lower()) + [END], unknown_word_index=2)\n",
    "\n",
    "def variable_from_sent(sent, vocab):\n",
    "    vsent = vectorize_sent(sent, vocab)\n",
    "    #print(vsent)\n",
    "    result = Variable(torch.LongTensor(vsent).view(-1, 1))\n",
    "    #print(result)\n",
    "    return result.cuda() if use_cuda else result"
   ]
  },
  {
   "cell_type": "code",
   "execution_count": 4,
   "metadata": {
    "pycharm": {}
   },
   "outputs": [],
   "source": [
    "def evaluate(encoder, decoder, sentence, max_length=MAX_LENGTH):\n",
    "    with torch.no_grad():\n",
    "        # input_tensor = tensorFromSentence(input_lang, sentence)\n",
    "        input_tensor = variable_from_sent(sentence, english_vocab)\n",
    "        input_length = input_tensor.size()[0]\n",
    "        encoder_hidden = encoder.initHidden()\n",
    "\n",
    "        encoder_outputs = torch.zeros(max_length, encoder.hidden_size, device=device)\n",
    "\n",
    "        for ei in range(input_length):\n",
    "            encoder_output, encoder_hidden = encoder(input_tensor[ei],\n",
    "                                                     encoder_hidden)\n",
    "            encoder_outputs[ei] += encoder_output[0, 0]\n",
    "\n",
    "        decoder_input = torch.tensor([[SOS_token]], device=device)  # SOS\n",
    "\n",
    "        decoder_hidden = encoder_hidden\n",
    "\n",
    "        decoded_words = []\n",
    "        decoder_attentions = torch.zeros(max_length, max_length)\n",
    "\n",
    "        for di in range(max_length):\n",
    "            decoder_output, decoder_hidden, decoder_attention = decoder(\n",
    "                decoder_input, decoder_hidden, encoder_outputs)\n",
    "            decoder_attentions[di] = decoder_attention.data\n",
    "            topv, topi = decoder_output.data.topk(1)\n",
    "            if topi.item() == EOS_token:\n",
    "                decoded_words.append('</s>')\n",
    "                break\n",
    "            else:\n",
    "                decoded_words.append(indo_vocab.id2token[topi.item()])\n",
    "\n",
    "            decoder_input = topi.squeeze().detach()\n",
    "\n",
    "        return decoded_words, decoder_attentions[:di + 1]"
   ]
  },
  {
   "cell_type": "code",
   "execution_count": 5,
   "metadata": {
    "pycharm": {}
   },
   "outputs": [],
   "source": [
    "hidden_size = 256\n",
    "encoder = EncoderRNN(len(english_vocab), hidden_size).to(device)\n",
    "attn_decoder = AttnDecoderRNN(hidden_size, len(indo_vocab), dropout_p=0.1).to(device)"
   ]
  },
  {
   "cell_type": "markdown",
   "metadata": {
    "pycharm": {}
   },
   "source": [
    "### Load a network weight snapshot"
   ]
  },
  {
   "cell_type": "code",
   "execution_count": 6,
   "metadata": {
    "pycharm": {}
   },
   "outputs": [
    {
     "data": {
      "text/plain": [
       "EncoderRNN(\n",
       "  (embedding): Embedding(1249, 256)\n",
       "  (gru): GRU(256, 256)\n",
       ")"
      ]
     },
     "execution_count": 6,
     "metadata": {},
     "output_type": "execute_result"
    }
   ],
   "source": [
    "ENCODER_PATH = 'results/encoder-{}.pth'\n",
    "DECODER_PATH = 'results/decoder-{}.pth'\n",
    "\n",
    "EPOCH_NO = 70000\n",
    "\n",
    "encoder.load_state_dict(torch.load(ENCODER_PATH.format(EPOCH_NO),map_location=device))\n",
    "encoder.eval()"
   ]
  },
  {
   "cell_type": "code",
   "execution_count": 7,
   "metadata": {
    "pycharm": {}
   },
   "outputs": [
    {
     "data": {
      "text/plain": [
       "AttnDecoderRNN(\n",
       "  (embedding): Embedding(1363, 256)\n",
       "  (attn): Linear(in_features=512, out_features=15, bias=True)\n",
       "  (attn_combine): Linear(in_features=512, out_features=256, bias=True)\n",
       "  (dropout): Dropout(p=0.1)\n",
       "  (gru): GRU(256, 256)\n",
       "  (out): Linear(in_features=256, out_features=1363, bias=True)\n",
       ")"
      ]
     },
     "execution_count": 7,
     "metadata": {},
     "output_type": "execute_result"
    }
   ],
   "source": [
    "attn_decoder.load_state_dict(torch.load(DECODER_PATH.format(EPOCH_NO),map_location=device))\n",
    "attn_decoder.eval()"
   ]
  },
  {
   "cell_type": "code",
   "execution_count": 8,
   "metadata": {
    "pycharm": {}
   },
   "outputs": [
    {
     "name": "stdout",
     "output_type": "stream",
     "text": [
      "> Tom is a good man\n",
      "< <s> tom adalah pria yang baik . </s>\n"
     ]
    }
   ],
   "source": [
    "input_sentence = \"Tom is a good man\"\n",
    "output_words, attentions = evaluate(encoder, attn_decoder, input_sentence)\n",
    "output_sentence = ' '.join(output_words)\n",
    "print('>', input_sentence)\n",
    "print('<', output_sentence)"
   ]
  },
  {
   "cell_type": "markdown",
   "metadata": {
    "pycharm": {}
   },
   "source": [
    "### Load an array of network weights snapshots"
   ]
  },
  {
   "cell_type": "code",
   "execution_count": 27,
   "metadata": {},
   "outputs": [
    {
     "name": "stdout",
     "output_type": "stream",
     "text": [
      "[-1]\n"
     ]
    }
   ],
   "source": [
    "test_id = english_vocab.doc2idx([\"mofo\"])\n",
    "print(test_id)"
   ]
  },
  {
   "cell_type": "code",
   "execution_count": 49,
   "metadata": {
    "pycharm": {}
   },
   "outputs": [
    {
     "name": "stdout",
     "output_type": "stream",
     "text": [
      "> I am so tall\n",
      ">> i am so tall\n",
      "Epoch: 1000 <  tom di di . \n",
      "Epoch: 2000 <  aku sangat ? \n",
      "Epoch: 3000 <  aku lapar . \n",
      "Epoch: 4000 <  aku bukan siswa . \n",
      "Epoch: 8000 <  saya lapar . \n",
      "Epoch: 10000 <  saya bukan . \n",
      "Epoch: 20000 <  saya bosan . \n",
      "Epoch: 40000 <  saya bosan . \n",
      "Epoch: 70000 <  saya bosan . \n"
     ]
    }
   ],
   "source": [
    "ENCODER_PATH = 'results/encoder-{}.pth'\n",
    "DECODER_PATH = 'results/decoder-{}.pth'\n",
    "\n",
    "EPOCH_NO = [1000, 2000, 3000, 4000, 8000, 10000, 20000, 40000, 70000]\n",
    "\n",
    "def load_weights(encoder, decoder, epoch_no, device):\n",
    "    encoder.load_state_dict(torch.load(ENCODER_PATH.format(epoch_no),map_location=device))\n",
    "    decoder.load_state_dict(torch.load(DECODER_PATH.format(epoch_no),map_location=device))\n",
    "    return encoder, decoder\n",
    "\n",
    "\n",
    "def input_validation(input_text, english_vocab):\n",
    "    max_words_required = MAX_LENGTH - 2\n",
    "    min_words_required = MIN_LENGTH\n",
    "    input_tokenized = word_tokenize(input_text.lower())\n",
    "    final_text = None\n",
    "    message = \"\"\n",
    "    if not min_words_required <= len(input_tokenized) <= max_words_required:\n",
    "        message = \"The input sentence should be between {} and {} words\".format(MIN_LENGTH, MAX_LENGTH - 2)\n",
    "    else:\n",
    "        input_ids = english_vocab.doc2idx(input_tokenized)\n",
    "        unknown_tokens = []\n",
    "        for key, val in enumerate(input_ids):\n",
    "            if val == -1:\n",
    "                unknown_token = input_tokenized[key]\n",
    "                unknown_tokens.append(unknown_token)\n",
    "                input_tokenized[key] = UNK.lower()\n",
    "                print(\"'{}' is not found in the english corpus\".format(unknown_token))\n",
    "        final_text = \" \".join(input_tokenized)\n",
    "    return final_text, message\n",
    "\n",
    "input_sentence = \"I am so tall\"\n",
    "final_text, message = input_validation(input_sentence, english_vocab)\n",
    "\n",
    "if final_text:\n",
    "    print('>', input_sentence)\n",
    "    print('>>', final_text)\n",
    "\n",
    "    for epoch in EPOCH_NO:\n",
    "        encoder, decoder = load_weights(encoder, attn_decoder, epoch, device)\n",
    "        output_words, attentions = evaluate(encoder, decoder, final_text)\n",
    "        output_sentence = ' '.join(output_words).replace('<s>', '').replace('</s>', '')\n",
    "        print(\"Epoch:\", epoch, '<', output_sentence)"
   ]
  },
  {
   "cell_type": "code",
   "execution_count": null,
   "metadata": {
    "pycharm": {}
   },
   "outputs": [],
   "source": []
  }
 ],
 "metadata": {
  "kernelspec": {
   "display_name": "Python 3",
   "language": "python",
   "name": "python3"
  },
  "language_info": {
   "codemirror_mode": {
    "name": "ipython",
    "version": 3
   },
   "file_extension": ".py",
   "mimetype": "text/x-python",
   "name": "python",
   "nbconvert_exporter": "python",
   "pygments_lexer": "ipython3",
   "version": "3.6.7"
  },
  "stem_cell": {
   "cell_type": "raw",
   "metadata": {
    "pycharm": {
     "metadata": false
    }
   },
   "source": ""
  }
 },
 "nbformat": 4,
 "nbformat_minor": 2
}
