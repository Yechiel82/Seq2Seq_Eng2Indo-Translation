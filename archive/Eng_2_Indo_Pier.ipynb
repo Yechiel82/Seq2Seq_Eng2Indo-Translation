{
 "cells": [
  {
   "cell_type": "markdown",
   "metadata": {},
   "source": [
    "# English to Bahasa Indonesian Seq-2-Seq Translation"
   ]
  },
  {
   "cell_type": "code",
   "execution_count": 1,
   "metadata": {},
   "outputs": [],
   "source": [
    "# IPython candies...\n",
    "from IPython.display import Image\n",
    "from IPython.core.display import HTML \n",
    "# Imports we need.\n",
    "import random\n",
    "\n",
    "import torch\n",
    "import torch.nn as nn\n",
    "from torch.autograd import Variable\n",
    "from torch import optim\n",
    "import torch.nn.functional as F\n",
    "import pandas as pd\n",
    "\n",
    "use_cuda = torch.cuda.is_available()"
   ]
  },
  {
   "cell_type": "markdown",
   "metadata": {},
   "source": [
    "## Data Munging"
   ]
  },
  {
   "cell_type": "code",
   "execution_count": 2,
   "metadata": {},
   "outputs": [],
   "source": [
    "import pandas as pd\n",
    "from gensim.corpora.dictionary import Dictionary\n",
    "from nltk import word_tokenize\n",
    "\n",
    "fp = open('./corpus/bbc-468.en', 'r')\n",
    "#fp = open('./corpus/SMERU-26870.en', 'r')\n",
    "eng_text = fp.read()\n",
    "eng_text = eng_text.splitlines()\n",
    "fp.close()\n",
    "\n",
    "fp2 = open('./corpus/bbc-468.id', 'r')\n",
    "#fp2 = open('./corpus/SMERU-26870.id', 'r')\n",
    "id_text = fp2.read()\n",
    "id_text = id_text.splitlines()\n",
    "fp2.close()"
   ]
  },
  {
   "cell_type": "code",
   "execution_count": 3,
   "metadata": {},
   "outputs": [],
   "source": [
    "df_eng_text = pd.DataFrame(eng_text)\n",
    "df_eng_text = df_eng_text.rename(columns={0:'English'})\n",
    "\n",
    "df_id_text = pd.DataFrame(id_text)\n",
    "df_id_text = df_id_text.rename(columns={0:'Indonesian'})\n"
   ]
  },
  {
   "cell_type": "code",
   "execution_count": null,
   "metadata": {},
   "outputs": [],
   "source": []
  },
  {
   "cell_type": "code",
   "execution_count": 4,
   "metadata": {},
   "outputs": [],
   "source": [
    "df_eng_text['English'] = df_eng_text['English'].apply(lambda x : x.lstrip())\n",
    "df_id_text['Indonesian'] = df_id_text['Indonesian'].apply(lambda x : x.lstrip())"
   ]
  },
  {
   "cell_type": "code",
   "execution_count": 5,
   "metadata": {},
   "outputs": [
    {
     "data": {
      "text/html": [
       "<div>\n",
       "<style scoped>\n",
       "    .dataframe tbody tr th:only-of-type {\n",
       "        vertical-align: middle;\n",
       "    }\n",
       "\n",
       "    .dataframe tbody tr th {\n",
       "        vertical-align: top;\n",
       "    }\n",
       "\n",
       "    .dataframe thead th {\n",
       "        text-align: right;\n",
       "    }\n",
       "</style>\n",
       "<table border=\"1\" class=\"dataframe\">\n",
       "  <thead>\n",
       "    <tr style=\"text-align: right;\">\n",
       "      <th></th>\n",
       "      <th>English</th>\n",
       "      <th>Indonesian</th>\n",
       "    </tr>\n",
       "  </thead>\n",
       "  <tbody>\n",
       "    <tr>\n",
       "      <th>0</th>\n",
       "      <td>French Muslims fined for face veils</td>\n",
       "      <td>Muslimah Prancis didenda karena mengenakan burka</td>\n",
       "    </tr>\n",
       "    <tr>\n",
       "      <th>1</th>\n",
       "      <td>Two French Muslim women have become the first ...</td>\n",
       "      <td>Dua Muslimah Prancis menjadi orang-orang perta...</td>\n",
       "    </tr>\n",
       "    <tr>\n",
       "      <th>2</th>\n",
       "      <td>Hind Ahmas and Najaite Ali were each ordered t...</td>\n",
       "      <td>Hind Ahmas dan Najaite Ali diperintahkan memba...</td>\n",
       "    </tr>\n",
       "    <tr>\n",
       "      <th>3</th>\n",
       "      <td>Both say they'll appeal as far as the European...</td>\n",
       "      <td>Keduanya menyatakan akan mengajukan banding hi...</td>\n",
       "    </tr>\n",
       "    <tr>\n",
       "      <th>4</th>\n",
       "      <td>Some Muslim groups say veiled women have been ...</td>\n",
       "      <td>Sejumlah organisasi Muslim mengatakan wanita-w...</td>\n",
       "    </tr>\n",
       "  </tbody>\n",
       "</table>\n",
       "</div>"
      ],
      "text/plain": [
       "                                             English  \\\n",
       "0                French Muslims fined for face veils   \n",
       "1  Two French Muslim women have become the first ...   \n",
       "2  Hind Ahmas and Najaite Ali were each ordered t...   \n",
       "3  Both say they'll appeal as far as the European...   \n",
       "4  Some Muslim groups say veiled women have been ...   \n",
       "\n",
       "                                          Indonesian  \n",
       "0   Muslimah Prancis didenda karena mengenakan burka  \n",
       "1  Dua Muslimah Prancis menjadi orang-orang perta...  \n",
       "2  Hind Ahmas dan Najaite Ali diperintahkan memba...  \n",
       "3  Keduanya menyatakan akan mengajukan banding hi...  \n",
       "4  Sejumlah organisasi Muslim mengatakan wanita-w...  "
      ]
     },
     "execution_count": 5,
     "metadata": {},
     "output_type": "execute_result"
    }
   ],
   "source": [
    "import pandas as pd\n",
    "from gensim.corpora.dictionary import Dictionary\n",
    "from nltk import word_tokenize\n",
    "\n",
    "df = pd.concat([df_eng_text, df_id_text], axis=1)\n",
    "df.head()\n",
    "\n",
    "# corpus_df = pd.read_csv(\"./corpus/trimmed_combined_no_duplicate.csv\")\n",
    "# corpus_df = corpus_df.drop(columns=[\"English_num_words\", \"Indo_num_words\"])\n",
    "# corpus_df.head()"
   ]
  },
  {
   "cell_type": "code",
   "execution_count": 6,
   "metadata": {},
   "outputs": [],
   "source": [
    "# corpus_df['English'] = corpus_df['English'].apply(lambda x : x.lstrip())\n",
    "# corpus_df['Indonesian'] = corpus_df['Indonesian'].apply(lambda x : x.lstrip())"
   ]
  },
  {
   "cell_type": "code",
   "execution_count": 7,
   "metadata": {},
   "outputs": [
    {
     "name": "stdout",
     "output_type": "stream",
     "text": [
      "(397, 2)\n",
      "(71, 2)\n"
     ]
    }
   ],
   "source": [
    "from sklearn.model_selection import train_test_split\n",
    "df_train, df_val = train_test_split(df, test_size=0.15)\n",
    "print(df_train.shape)\n",
    "print(df_val.shape)"
   ]
  },
  {
   "cell_type": "code",
   "execution_count": 8,
   "metadata": {},
   "outputs": [
    {
     "name": "stdout",
     "output_type": "stream",
     "text": [
      "First Singlish sentence: ['<s>', 'french', 'muslims', 'fined', 'for', 'face', 'veils', '</s>']\n",
      "First English sentence: ['<s>', 'muslimah', 'prancis', 'didenda', 'karena', 'mengenakan', 'burka', '</s>']\n"
     ]
    }
   ],
   "source": [
    "# Use a unique string to indicate START and END of a sentence.\n",
    "# Assign a unique index to them.\n",
    "START, START_IDX = '<s>',  0\n",
    "END, END_IDX = '</s>', 1\n",
    "UNK, UNK_IDX = 'UNK', 2\n",
    "\n",
    "# We use this idiom to tokenize our sentences in the dataframe column:\n",
    "# >>> DataFrame['column'].apply(str.lower).apply(word_tokenize)\n",
    "\n",
    "# Also we added the START and the END symbol to the sentences. \n",
    "english_sents = [START] + df['English'].apply(str.lower).apply(word_tokenize) + [END]\n",
    "indo_sents = [START] + df['Indonesian'].apply(str.lower).apply(word_tokenize) + [END]\n",
    "\n",
    "# We're sort of getting into the data into the shape we want. \n",
    "# But now it's still too humanly readable and redundant.\n",
    "## Cut-away: Computers like it to be simpler, more concise. -_-|||\n",
    "print('First Singlish sentence:', english_sents[0])\n",
    "print('First English sentence:', indo_sents[0])"
   ]
  },
  {
   "cell_type": "code",
   "execution_count": null,
   "metadata": {},
   "outputs": [],
   "source": []
  },
  {
   "cell_type": "code",
   "execution_count": 9,
   "metadata": {},
   "outputs": [
    {
     "name": "stdout",
     "output_type": "stream",
     "text": [
      "First 10 Indonesian words in Dictionary:\n",
      " [(0, '<s>'), (1, '</s>'), (2, 'UNK'), (3, 'burka'), (4, 'didenda'), (5, 'karena'), (6, 'mengenakan'), (7, 'muslimah'), (8, 'prancis'), (9, ',')]\n",
      "\n",
      "First 10 English words in Dictionary:\n",
      " [(0, '<s>'), (1, '</s>'), (2, 'UNK'), (3, 'face'), (4, 'fined'), (5, 'for'), (6, 'french'), (7, 'muslims'), (8, 'veils'), (9, ',')]\n"
     ]
    }
   ],
   "source": [
    "english_vocab = Dictionary([['<s>'], ['</s>'],['UNK']])\n",
    "english_vocab.add_documents(english_sents)\n",
    "\n",
    "indo_vocab = Dictionary([['<s>'], ['</s>'], ['UNK']])\n",
    "indo_vocab.add_documents(indo_sents)\n",
    "\n",
    "# First ten words in the vocabulary.\n",
    "print('First 10 Indonesian words in Dictionary:\\n', sorted(indo_vocab.items())[:10])\n",
    "print()\n",
    "print('First 10 English words in Dictionary:\\n', sorted(english_vocab.items())[:10])"
   ]
  },
  {
   "cell_type": "code",
   "execution_count": 10,
   "metadata": {},
   "outputs": [],
   "source": [
    "import pickle\n",
    "# Lets save our dictionaries.\n",
    "with open('./vocabs/indo_vocab.Dictionary.pkl', 'wb') as fout:\n",
    "    pickle.dump(indo_vocab, fout)\n",
    "    \n",
    "with open('./vocabs/english_vocab.Dictionary.pkl', 'wb') as fout:\n",
    "    pickle.dump(english_vocab, fout)"
   ]
  },
  {
   "cell_type": "code",
   "execution_count": 11,
   "metadata": {},
   "outputs": [
    {
     "data": {
      "text/plain": [
       "tensor([[0],\n",
       "        [6],\n",
       "        [7],\n",
       "        [4],\n",
       "        [5],\n",
       "        [3],\n",
       "        [8],\n",
       "        [1]], device='cuda:0')"
      ]
     },
     "execution_count": 11,
     "metadata": {},
     "output_type": "execute_result"
    }
   ],
   "source": [
    "# Vectorizes a sentence with a given vocab\n",
    "def vectorize_sent(sent, vocab):\n",
    "    return vocab.doc2idx([START] + word_tokenize(sent.lower()) + [END], unknown_word_index=2)\n",
    "\n",
    "# Creates a PyTorch variable from a sentence against a given vocab\n",
    "def variable_from_sent(sent, vocab):\n",
    "    vsent = vectorize_sent(sent, vocab)\n",
    "    #print(vsent)\n",
    "    result = Variable(torch.LongTensor(vsent).view(-1, 1))\n",
    "    #print(result)\n",
    "    return result.cuda() if use_cuda else result\n",
    "\n",
    "# Test\n",
    "new_kopi = \"French Muslims fined for face veils\"\n",
    "variable_from_sent(new_kopi, english_vocab)"
   ]
  },
  {
   "cell_type": "code",
   "execution_count": 12,
   "metadata": {},
   "outputs": [
    {
     "name": "stdout",
     "output_type": "stream",
     "text": [
      "Pemerintah negara bagian Sao Paulo di Brasil menawarkan bantuan keuangan kepada ratusan keluarga yang secara paksa diusir dari pemukiman ilegal, hari Minggu.\n",
      "tensor([[0],\n",
      "        [7],\n",
      "        [8],\n",
      "        [4],\n",
      "        [5],\n",
      "        [6],\n",
      "        [3],\n",
      "        [1]], device='cuda:0')\n",
      "The government of Sao Paulo state in Brazil has offered financial help to hundreds of families who were forcibly evicted from an illegal settlement on Sunday.\n",
      "tensor([[0],\n",
      "        [6],\n",
      "        [7],\n",
      "        [4],\n",
      "        [5],\n",
      "        [3],\n",
      "        [8],\n",
      "        [1]], device='cuda:0')\n"
     ]
    }
   ],
   "source": [
    "# Prepare the whole training corpus.\n",
    "indo_tensors = df_train['Indonesian'].apply(lambda s: variable_from_sent(s, indo_vocab))\n",
    "print(df_train.iloc[0]['Indonesian'])\n",
    "print(indo_tensors[0])\n",
    "english_tensors = df_train['English'].apply(lambda s: variable_from_sent(s, english_vocab))\n",
    "print(df_train.iloc[0]['English'])\n",
    "print(english_tensors[0])\n",
    "# Now, each item in `sent_pairs` is our data point. \n",
    "sent_pairs = list(zip(english_tensors, indo_tensors))"
   ]
  },
  {
   "cell_type": "code",
   "execution_count": 13,
   "metadata": {},
   "outputs": [
    {
     "name": "stdout",
     "output_type": "stream",
     "text": [
      "Popularitas Cain terpengaruh oleh sejumlah kasus dugaan pelecehan seksual, yang juga telah ia bantah.\n",
      "tensor([[   0],\n",
      "        [1289],\n",
      "        [1260],\n",
      "        [1291],\n",
      "        [ 194],\n",
      "        [  59],\n",
      "        [ 893],\n",
      "        [ 607],\n",
      "        [  57],\n",
      "        [1290],\n",
      "        [   9],\n",
      "        [  24],\n",
      "        [ 157],\n",
      "        [  77],\n",
      "        [ 334],\n",
      "        [1259],\n",
      "        [  10],\n",
      "        [   1]], device='cuda:0')\n",
      "Mr Cain's popularity has already been affected by multiple allegations of sexual harassment -- which he also denies.\n",
      "tensor([[   0],\n",
      "        [1327],\n",
      "        [1316],\n",
      "        [  88],\n",
      "        [1344],\n",
      "        [  96],\n",
      "        [ 854],\n",
      "        [  62],\n",
      "        [1341],\n",
      "        [ 120],\n",
      "        [1343],\n",
      "        [ 618],\n",
      "        [  24],\n",
      "        [1345],\n",
      "        [1342],\n",
      "        [ 163],\n",
      "        [ 115],\n",
      "        [ 345],\n",
      "        [ 165],\n",
      "        [1251],\n",
      "        [  10],\n",
      "        [   1]], device='cuda:0')\n"
     ]
    }
   ],
   "source": [
    "# Prepare validation data\n",
    "# Prepare the whole training corpus.\n",
    "df_val = df_val.reset_index(drop=True)\n",
    "indo_tensors_val = df_val['Indonesian'].apply(lambda s: variable_from_sent(s, indo_vocab))\n",
    "print(df_val.iloc[0]['Indonesian'])\n",
    "print(indo_tensors_val[0])\n",
    "english_tensors_val = df_val['English'].apply(lambda s: variable_from_sent(s, english_vocab))\n",
    "print(df_val.iloc[0]['English'])\n",
    "print(english_tensors_val[0])\n",
    "# # Now, each item in `sent_pairs` is our data point. \n",
    "sent_pairs_val = list(zip(english_tensors_val, indo_tensors_val))\n"
   ]
  },
  {
   "cell_type": "code",
   "execution_count": null,
   "metadata": {},
   "outputs": [],
   "source": [
    "\n"
   ]
  },
  {
   "cell_type": "markdown",
   "metadata": {},
   "source": [
    "# Seq2Seq Model"
   ]
  },
  {
   "cell_type": "code",
   "execution_count": null,
   "metadata": {},
   "outputs": [],
   "source": []
  },
  {
   "cell_type": "markdown",
   "metadata": {},
   "source": [
    "## Encoder Definition"
   ]
  },
  {
   "cell_type": "code",
   "execution_count": 14,
   "metadata": {},
   "outputs": [],
   "source": [
    "class EncoderRNN(nn.Module):\n",
    "    def __init__(self, input_size, hidden_size):\n",
    "        super(EncoderRNN, self).__init__()\n",
    "        # Set the no. of nodes for the hidden layer.\n",
    "        self.hidden_size = hidden_size\n",
    "        # Initialize the embedding layer with the \n",
    "        # - size of input (i.e. no. of words in input vocab)\n",
    "        # - no. of hidden nodes in the embedding layer\n",
    "        self.embedding = nn.Embedding(input_size, hidden_size)\n",
    "        # Initialize the GRU with the \n",
    "        # - size of the hidden layer from the previous state\n",
    "        # - size of the hidden layer from the current state\n",
    "        self.gru = nn.GRU(hidden_size, hidden_size)\n",
    "\n",
    "    def forward(self, input, hidden):\n",
    "        # Feed the input into the embedding layer.\n",
    "        embedded = self.embedding(input).view(1, 1, -1) # Question: why (1, 1, -1)\n",
    "        # Feed the embedded layer with the hidden layer to the GRU.\n",
    "        # Update the output and hidden layer.\n",
    "        output, hidden = self.gru(embedded, hidden)\n",
    "        return output, hidden\n",
    "\n",
    "    def initialize_hidden_states(self):\n",
    "        result = Variable(torch.zeros(1, 1, self.hidden_size))\n",
    "        return result.cuda() if use_cuda else result\n"
   ]
  },
  {
   "cell_type": "markdown",
   "metadata": {},
   "source": [
    "# Decoder Definition"
   ]
  },
  {
   "cell_type": "code",
   "execution_count": 15,
   "metadata": {},
   "outputs": [],
   "source": [
    "class DecoderRNN(nn.Module):\n",
    "    def __init__(self, hidden_size, output_size):\n",
    "        super(DecoderRNN, self).__init__()\n",
    "        # Set the no. of nodes for the hidden layer.\n",
    "        self.hidden_size = hidden_size\n",
    "        # Initialize the embedding layer with the \n",
    "        # - size of output (i.e. no. of words in output vocab)\n",
    "        # - no. of hidden nodes in the embedding layer\n",
    "        self.embedding = nn.Embedding(output_size, hidden_size)\n",
    "        # Initialize the GRU with the \n",
    "        # - size of the hidden layer from the previous state\n",
    "        # - size of the hidden layer from the current state\n",
    "        self.gru = nn.GRU(hidden_size, hidden_size)\n",
    "        # Set the output layer to output a specific symbol \n",
    "        # from the output vocabulary\n",
    "        self.softmax = nn.LogSoftmax(dim=1)\n",
    "        self.out = nn.Linear(hidden_size, output_size)\n",
    "\n",
    "    def forward(self, input, hidden):\n",
    "        # Feed the input into the embedding layer.\n",
    "        output = self.embedding(input).view(1, 1, -1)\n",
    "        # Transform the embedded output with a relu function. \n",
    "        output = F.relu(output)\n",
    "        # Feed the embedded layer with the hidden layer to the GRU.\n",
    "        # Update the output and hidden layer.\n",
    "        output, hidden = self.gru(output, hidden)\n",
    "        # Take the updated output and find the most appropriate\n",
    "        # output symbol. \n",
    "        output = self.softmax(self.out(output[0]))\n",
    "        return output, hidden\n",
    "\n",
    "    def initialize_hidden_states(self):\n",
    "        result = Variable(torch.zeros(1, 1, self.hidden_size))\n",
    "        return result.cuda() if use_cuda else result\n",
    "        "
   ]
  },
  {
   "cell_type": "code",
   "execution_count": null,
   "metadata": {},
   "outputs": [],
   "source": []
  },
  {
   "cell_type": "code",
   "execution_count": 16,
   "metadata": {},
   "outputs": [],
   "source": [
    "hidden_size = 100\n",
    "learning_rate=0.01\n",
    "batch_size = 2\n",
    "epochs = 30 # Since we are taking batch_size=2 and epochs=30, we only look at 60 data points.\n",
    "criterion = nn.NLLLoss()\n",
    "MAX_LENGTH=80\n",
    "\n",
    "# Initialize the network for encoder and decoder.\n",
    "input_vocab, output_vocab = english_vocab, indo_vocab\n",
    "encoder = EncoderRNN(len(input_vocab), hidden_size)\n",
    "decoder = DecoderRNN(hidden_size, len(output_vocab))\n",
    "if use_cuda:\n",
    "    encoder = encoder.cuda()\n",
    "    decoder = decoder.cuda()\n",
    "\n",
    "# Initialize the optimizer for encoder and decoder.\n",
    "encoder_optimizer = optim.SGD(encoder.parameters(), lr=learning_rate)\n",
    "decoder_optimizer = optim.SGD(decoder.parameters(), lr=learning_rate)\n",
    "\n",
    "# If batchsize == 1, choose 1 data points per batch:\n",
    "##training_data = [[random.choice(sent_pairs)] for i in range(epochs)]\n",
    "\n",
    "# If batch_size > 1, use random.sample() instead of random.choice:\n",
    "training_data = [random.sample(sent_pairs, batch_size) for i in range(epochs)]"
   ]
  },
  {
   "cell_type": "markdown",
   "metadata": {},
   "source": [
    "## Checking the encoder"
   ]
  },
  {
   "cell_type": "code",
   "execution_count": 17,
   "metadata": {},
   "outputs": [],
   "source": [
    "#############################################\n",
    "# 2.3.2. Loop through the batches.\n",
    "#############################################\n",
    "# Start the training.\n",
    "for data_batch in training_data:\n",
    "    # (Re-)Initialize the optimizers, clear all gradients after every batch.\n",
    "    encoder_optimizer.zero_grad()\n",
    "    decoder_optimizer.zero_grad()\n",
    "    # Reset the loss for every batch.\n",
    "    loss = 0\n",
    "    for input_variable, target_variable in data_batch:\n",
    "        # Initialize the hidden_states for the encoder.\n",
    "        encoder_hidden = encoder.initialize_hidden_states()\n",
    "        # Initialize the length of the PyTorch variables.\n",
    "        input_length = input_variable.size()[0]\n",
    "        target_length = target_variable.size()[0]\n",
    "        encoder_outputs = Variable(torch.zeros(MAX_LENGTH, encoder.hidden_size))\n",
    "        encoder_outputs = encoder_outputs.cuda() if use_cuda else encoder_outputs"
   ]
  },
  {
   "cell_type": "code",
   "execution_count": 18,
   "metadata": {},
   "outputs": [
    {
     "name": "stdout",
     "output_type": "stream",
     "text": [
      "Input variable first: tensor([[   0],\n",
      "        [1099],\n",
      "        [1118],\n",
      "        [ 108],\n",
      "        [1116],\n",
      "        [1120],\n",
      "        [  20],\n",
      "        [1121],\n",
      "        [1026],\n",
      "        [  20],\n",
      "        [1115],\n",
      "        [1113],\n",
      "        [  35],\n",
      "        [  47],\n",
      "        [1114],\n",
      "        [1117],\n",
      "        [  20],\n",
      "        [  26],\n",
      "        [1119],\n",
      "        [1115],\n",
      "        [  10],\n",
      "        [   1]], device='cuda:0')\n",
      "Target variable first: tensor([[   0],\n",
      "        [1073],\n",
      "        [1057],\n",
      "        [1078],\n",
      "        [1074],\n",
      "        [ 141],\n",
      "        [1076],\n",
      "        [1080],\n",
      "        [  15],\n",
      "        [1071],\n",
      "        [1079],\n",
      "        [  29],\n",
      "        [ 141],\n",
      "        [1075],\n",
      "        [1077],\n",
      "        [1072],\n",
      "        [  15],\n",
      "        [1079],\n",
      "        [ 407],\n",
      "        [  10],\n",
      "        [   1]], device='cuda:0')\n",
      "34\n"
     ]
    }
   ],
   "source": [
    "print(\"Input variable first: {0}\".format(data_batch[0][0]))\n",
    "print(\"Target variable first: {0}\".format(data_batch[0][1]))\n",
    "print(input_length)"
   ]
  },
  {
   "cell_type": "code",
   "execution_count": 19,
   "metadata": {},
   "outputs": [],
   "source": [
    "#############################################\n",
    "# 2.3.2. Loop through the batches.\n",
    "#############################################\n",
    "# Start the training.\n",
    "for data_batch in training_data:\n",
    "    # (Re-)Initialize the optimizers, clear all gradients after every batch.\n",
    "    encoder_optimizer.zero_grad()\n",
    "    decoder_optimizer.zero_grad()\n",
    "    # Reset the loss for every batch.\n",
    "    loss = 0\n",
    "    for input_variable, target_variable in data_batch:\n",
    "        # Initialize the hidden_states for the encoder.\n",
    "        encoder_hidden = encoder.initialize_hidden_states()\n",
    "        # Initialize the length of the PyTorch variables.\n",
    "        input_length = input_variable.size()[0]\n",
    "        target_length = target_variable.size()[0]\n",
    "        encoder_outputs = Variable(torch.zeros(MAX_LENGTH, encoder.hidden_size))\n",
    "        encoder_outputs = encoder_outputs.cuda() if use_cuda else encoder_outputs\n",
    "        #############################################\n",
    "        # 2.3.3.  Iterating through each word in the encoder.\n",
    "        #############################################\n",
    "        # Iterating through each word in the input.\n",
    "        for ei in range(input_length):\n",
    "            # We move forward through each state.\n",
    "            encoder_output, encoder_hidden = encoder(input_variable[ei], encoder_hidden)\n",
    "            # And we save the encoder outputs. \n",
    "            # Note: We're retrieving [0][0] cos remember the weird .view(1,1,-1) for the GRU.\n",
    "            encoder_outputs[ei] = encoder_output[0][0] "
   ]
  },
  {
   "cell_type": "code",
   "execution_count": 20,
   "metadata": {},
   "outputs": [
    {
     "name": "stdout",
     "output_type": "stream",
     "text": [
      "EncoderRNN(\n",
      "  (embedding): Embedding(2563, 100)\n",
      "  (gru): GRU(100, 100)\n",
      ") \n",
      "\n",
      "Dictionary(2563 unique tokens: ['<s>', '</s>', 'UNK', 'face', 'fined']...)\n",
      "\n",
      "########\n",
      "\n"
     ]
    }
   ],
   "source": [
    "# The encoded output for the last sentence in out training_data\"\n",
    "\n",
    "# The encoder has 68 unique words\n",
    "print(encoder, '\\n')\n",
    "print(english_vocab)\n",
    "print('\\n########\\n')"
   ]
  },
  {
   "cell_type": "code",
   "execution_count": 21,
   "metadata": {},
   "outputs": [
    {
     "data": {
      "text/plain": [
       "34"
      ]
     },
     "execution_count": 21,
     "metadata": {},
     "output_type": "execute_result"
    }
   ],
   "source": [
    "input_length\n"
   ]
  },
  {
   "cell_type": "code",
   "execution_count": 22,
   "metadata": {},
   "outputs": [
    {
     "name": "stdout",
     "output_type": "stream",
     "text": [
      "tensor([[   0],\n",
      "        [1533],\n",
      "        [ 258],\n",
      "        [  26],\n",
      "        [1527],\n",
      "        [1529],\n",
      "        [  24],\n",
      "        [ 132],\n",
      "        [  88],\n",
      "        [1530],\n",
      "        [ 390],\n",
      "        [  26],\n",
      "        [ 394],\n",
      "        [1522],\n",
      "        [1532],\n",
      "        [   9],\n",
      "        [1327],\n",
      "        [1524],\n",
      "        [ 126],\n",
      "        [ 551],\n",
      "        [1519],\n",
      "        [ 451],\n",
      "        [1531],\n",
      "        [ 277],\n",
      "        [1528],\n",
      "        [1534],\n",
      "        [ 206],\n",
      "        [  26],\n",
      "        [ 521],\n",
      "        [ 871],\n",
      "        [ 212],\n",
      "        [ 550],\n",
      "        [  10],\n",
      "        [   1]], device='cuda:0')\n",
      "########\n",
      "\n"
     ]
    }
   ],
   "source": [
    "# The last input sentence, in PyTorch Tensor data structure.\n",
    "print(data_batch[-1][0]) \n",
    "print('########\\n')\n"
   ]
  },
  {
   "cell_type": "code",
   "execution_count": 23,
   "metadata": {},
   "outputs": [
    {
     "name": "stdout",
     "output_type": "stream",
     "text": [
      "[0, 1533, 258, 26, 1527, 1529, 24, 132, 88, 1530, 390, 26, 394, 1522, 1532, 9, 1327, 1524, 126, 551, 1519, 451, 1531, 277, 1528, 1534, 206, 26, 521, 871, 212, 550, 10, 1] \n",
      "\n",
      "########\n",
      "\n",
      "<s> speaking on the 10th anniversary of china 's entry into the world trade organization , mr hu said `` imports may exceed $ 8 trillion over the next five years '' . </s>\n",
      "\n",
      "########\n",
      "\n"
     ]
    }
   ],
   "source": [
    "\n",
    "# The last input sentence as list(int)\n",
    "print(list(map(int, data_batch[-1][0])), '\\n')\n",
    "print('########\\n')\n",
    "\n",
    "# The last input sentence as list(int)\n",
    "print(' '.join([english_vocab[i] for i in map(int, data_batch[-1][0])]))\n",
    "print('\\n########\\n')\n"
   ]
  },
  {
   "cell_type": "code",
   "execution_count": 24,
   "metadata": {},
   "outputs": [
    {
     "name": "stdout",
     "output_type": "stream",
     "text": [
      "tensor([[-0.1278, -0.2508,  0.1069,  ...,  0.2504, -0.0126, -0.0582],\n",
      "        [ 0.2778, -0.1479,  0.5021,  ...,  0.7497,  0.2774,  0.3082],\n",
      "        [ 0.1153, -0.1580, -0.0455,  ...,  0.8161, -0.1769, -0.0392],\n",
      "        ...,\n",
      "        [ 0.0000,  0.0000,  0.0000,  ...,  0.0000,  0.0000,  0.0000],\n",
      "        [ 0.0000,  0.0000,  0.0000,  ...,  0.0000,  0.0000,  0.0000],\n",
      "        [ 0.0000,  0.0000,  0.0000,  ...,  0.0000,  0.0000,  0.0000]],\n",
      "       device='cuda:0', grad_fn=<CopySlices>)\n",
      "tensor([[[-0.0502, -0.3607, -0.5675,  0.0992, -0.2997, -0.3509,  0.0996,\n",
      "          -0.1013,  0.1390, -0.1148, -0.1984, -0.2270,  0.3256,  0.1955,\n",
      "          -0.4675, -0.0921,  0.0981,  0.4299, -0.0900, -0.2975,  0.1595,\n",
      "           0.1148,  0.0369, -0.0912,  0.3450, -0.2704,  0.0496, -0.1259,\n",
      "          -0.1696,  0.0475,  0.0504, -0.0303, -0.1359, -0.7085,  0.2127,\n",
      "          -0.1368, -0.4027,  0.4303, -0.4283, -0.1976, -0.1000,  0.2003,\n",
      "           0.0970,  0.5020, -0.6272,  0.3593, -0.2182,  0.3694, -0.1768,\n",
      "          -0.1235, -0.4191, -0.0355, -0.2476, -0.1265, -0.0888, -0.0855,\n",
      "           0.1434, -0.2462, -0.1454,  0.0384, -0.1609, -0.1918, -0.3844,\n",
      "           0.4687, -0.0091, -0.0578,  0.1357,  0.0525, -0.2709,  0.4163,\n",
      "          -0.2615,  0.1169, -0.2224, -0.1977, -0.1576, -0.3363,  0.1695,\n",
      "          -0.0017,  0.2683, -0.0596,  0.3382,  0.2812,  0.3895,  0.0977,\n",
      "          -0.2481,  0.2611, -0.1400, -0.2642, -0.1152,  0.1392,  0.3283,\n",
      "          -0.2408,  0.5391, -0.4716, -0.0842,  0.1193, -0.1307,  0.1211,\n",
      "          -0.0299, -0.5303]]], device='cuda:0', grad_fn=<CudnnRnnBackward>)\n"
     ]
    }
   ],
   "source": [
    "print(encoder_outputs)\n",
    "# The last hidden state of the last input sentence. \n",
    "# Note: For vanilla RNN (Elman Net), the last hidden state of the encoder\n",
    "#       is the start state of the decoder's hidden state.\n",
    "print(encoder_hidden)"
   ]
  },
  {
   "cell_type": "code",
   "execution_count": null,
   "metadata": {},
   "outputs": [],
   "source": []
  },
  {
   "cell_type": "markdown",
   "metadata": {},
   "source": [
    "## Checking the decoder "
   ]
  },
  {
   "cell_type": "code",
   "execution_count": 25,
   "metadata": {},
   "outputs": [],
   "source": [
    "#############################################\n",
    "# 2.3.2. Loop through the batches.\n",
    "#############################################\n",
    "# Start the training.\n",
    "for data_batch in training_data:\n",
    "    # (Re-)Initialize the optimizers, clear all gradients after every batch.\n",
    "    encoder_optimizer.zero_grad()\n",
    "    decoder_optimizer.zero_grad()\n",
    "    # Reset the loss for every batch.\n",
    "    loss = 0\n",
    "    for input_variable, target_variable in data_batch:\n",
    "        # Initialize the hidden_states for the encoder.\n",
    "        encoder_hidden = encoder.initialize_hidden_states()\n",
    "        # Initialize the length of the PyTorch variables.\n",
    "        input_length = input_variable.size()[0]\n",
    "        target_length = target_variable.size()[0]\n",
    "        encoder_outputs = Variable(torch.zeros(MAX_LENGTH, encoder.hidden_size))\n",
    "        encoder_outputs = encoder_outputs.cuda() if use_cuda else encoder_outputs\n",
    "        \n",
    "        #############################################\n",
    "        # 2.3.3.  Iterating through each word in the encoder.\n",
    "        #############################################\n",
    "        # Iterating through each word in the input.\n",
    "        for ei in range(input_length):\n",
    "            # We move forward through each state.\n",
    "            encoder_output, encoder_hidden = encoder(input_variable[ei], encoder_hidden)\n",
    "            # And we save the encoder outputs. \n",
    "            # Note: We're retrieving [0][0] cos remember the weird .view(1,1,-1) -_-|||\n",
    "            encoder_outputs[ei] = encoder_output[0][0] \n",
    "            \n",
    "            #############################################\n",
    "            # 2.3.4.  Iterating through each word in the decoder.\n",
    "            #############################################\n",
    "            # Initialize the variable input with the index of the START.\n",
    "            decoder_input = Variable(torch.LongTensor([[START_IDX]]))\n",
    "            decoder_input = decoder_input.cuda() if use_cuda else decoder_input\n",
    "            # As the first state of the decoder, we take the last step of the encoder.\n",
    "            decoder_hidden = encoder_hidden\n",
    "            # Iterate through each state in the decoder.\n",
    "            # Note: when we are training we know the length of the decoder.\n",
    "            #       so we can use the trick to restrict the loop when decoding.\n",
    "            for di in range(target_length):\n",
    "                # We move forward through each state.\n",
    "                decoder_output, decoder_hidden = decoder(decoder_input, decoder_hidden)\n",
    "                # What are all these weird syntax, refer to 2.3.4.1\n",
    "                topv, topi = decoder_output.data.topk(1) # topk gives k largest values along a certain dimension, A tuple of (values, indices) is returned,\n",
    "                ni = topi[0][0]\n",
    "\n",
    "                # Replace our decoder input for the next state with the\n",
    "                # embedding of the decoded topi guess. \n",
    "                decoder_input = Variable(torch.LongTensor([[ni]]))\n",
    "                decoder_input = decoder_input.cuda() if use_cuda else decoder_input\n",
    "                \n",
    "                # Update our loss for this batch.\n",
    "                loss += criterion(decoder_output, target_variable[di])\n",
    "                \n",
    "                # If we see the </s> symbol, break the training.\n",
    "                if ni == END_IDX:\n",
    "                    break\n"
   ]
  },
  {
   "cell_type": "code",
   "execution_count": 26,
   "metadata": {},
   "outputs": [
    {
     "name": "stdout",
     "output_type": "stream",
     "text": [
      "DecoderRNN(\n",
      "  (embedding): Embedding(2343, 100)\n",
      "  (gru): GRU(100, 100)\n",
      "  (softmax): LogSoftmax()\n",
      "  (out): Linear(in_features=100, out_features=2343, bias=True)\n",
      ") \n",
      "\n",
      "Dictionary(2343 unique tokens: ['<s>', '</s>', 'UNK', 'burka', 'didenda']...)\n",
      "\n",
      "########\n",
      "\n",
      "<s> speaking on the 10th anniversary of china 's entry into the world trade organization , mr hu said `` imports may exceed $ 8 trillion over the next five years '' . </s>\n",
      "<s> janji ini diucapkan presiden hu dalam peringatan sepuluh tahun masuknya cina dalam organisasi perdagangan dunia ( wto ) . menurutnya dalam lima tahun mendatang impor ke cina akan melebihi us $ 8 triliun . </s>\n",
      "\n",
      "########\n",
      "\n"
     ]
    }
   ],
   "source": [
    "# Cut-away: The decoded output for the last sentence in out training_data\"\n",
    "\n",
    "# The encoder has 117 unique words\n",
    "print(decoder, '\\n')\n",
    "print(indo_vocab)\n",
    "print('\\n########\\n')\n",
    "\n",
    "# The last input sentence.\n",
    "print(' '.join([english_vocab[i] for i in map(int, data_batch[-1][0])]))\n",
    "# The last target sentence.\n",
    "print(' '.join([indo_vocab[i] for i in map(int, data_batch[-1][1])]))\n",
    "\n",
    "print('\\n########\\n')"
   ]
  },
  {
   "cell_type": "markdown",
   "metadata": {},
   "source": [
    "## Actual Training Starts Here - Backpropagation Portion Added"
   ]
  },
  {
   "cell_type": "code",
   "execution_count": 27,
   "metadata": {},
   "outputs": [],
   "source": [
    "#############################################\n",
    "# 2.3.2. Loop through the batches.\n",
    "#############################################\n",
    "# Start the training.\n",
    "for data_batch in training_data:\n",
    "    # (Re-)Initialize the optimizers, clear all gradients after every batch.\n",
    "    encoder_optimizer.zero_grad()\n",
    "    decoder_optimizer.zero_grad()\n",
    "    # Reset the loss for every batch.\n",
    "    loss = 0\n",
    "    for input_variable, target_variable in data_batch:\n",
    "        # Initialize the hidden_states for the encoder.\n",
    "        encoder_hidden = encoder.initialize_hidden_states()\n",
    "        # Initialize the length of the PyTorch variables.\n",
    "        input_length = input_variable.size()[0]\n",
    "        target_length = target_variable.size()[0]\n",
    "        encoder_outputs = Variable(torch.zeros(MAX_LENGTH, encoder.hidden_size))\n",
    "        encoder_outputs = encoder_outputs.cuda() if use_cuda else encoder_outputs\n",
    "        \n",
    "        #############################################\n",
    "        # 2.3.3.  Iterating through each word in the encoder.\n",
    "        #############################################\n",
    "        # Iterating through each word in the input.\n",
    "        for ei in range(input_length):\n",
    "            # We move forward through each state.\n",
    "            encoder_output, encoder_hidden = encoder(input_variable[ei], encoder_hidden)\n",
    "            # And we save the encoder outputs. \n",
    "            # Note: We're retrieving [0][0] cos remember the weird .view(1,1,-1) -_-|||\n",
    "            encoder_outputs[ei] = encoder_output[0][0] \n",
    "            \n",
    "            #############################################\n",
    "            # 2.3.4.  Iterating through each word in the decoder.\n",
    "            #############################################\n",
    "            # Initialize the variable input with the index of the START.\n",
    "            decoder_input = Variable(torch.LongTensor([[START_IDX]]))\n",
    "            decoder_input = decoder_input.cuda() if use_cuda else decoder_input\n",
    "            # As the first state of the decoder, we take the last step of the encoder.\n",
    "            decoder_hidden = encoder_hidden\n",
    "            # Iterate through each state in the decoder.\n",
    "            # Note: when we are training we know the length of the decoder.\n",
    "            #       so we can use the trick to restrict the loop when decoding.\n",
    "            for di in range(target_length):\n",
    "                # We move forward through each state.\n",
    "                decoder_output, decoder_hidden = decoder(decoder_input, decoder_hidden)\n",
    "                # What are alll these weird syntax, refer to 2.3.4.1\n",
    "                topv, topi = decoder_output.data.topk(1)\n",
    "                ni = topi[0][0]\n",
    "\n",
    "                # Replace our decoder input for the next state with the\n",
    "                # embedding of the decoded topi guess. \n",
    "                decoder_input = Variable(torch.LongTensor([[ni]]))\n",
    "                decoder_input = decoder_input.cuda() if use_cuda else decoder_input\n",
    "                \n",
    "                # Update our loss for this batch.\n",
    "                loss += criterion(decoder_output, target_variable[di])\n",
    "                \n",
    "                # If we see the </s> symbol, break the training.\n",
    "                if ni == END_IDX:\n",
    "                    break\n",
    "    #####################################################\n",
    "    # 2.3.5 Backpropagate the Loss and Optimizers Takes a Step.\n",
    "    #####################################################\n",
    "    loss.backward() # Backpropagate.\n",
    "    encoder_optimizer.step()\n",
    "    decoder_optimizer.step()\n"
   ]
  },
  {
   "cell_type": "code",
   "execution_count": 28,
   "metadata": {},
   "outputs": [
    {
     "data": {
      "text/plain": [
       "80"
      ]
     },
     "execution_count": 28,
     "metadata": {},
     "output_type": "execute_result"
    }
   ],
   "source": [
    "MAX_LENGTH"
   ]
  },
  {
   "cell_type": "code",
   "execution_count": 29,
   "metadata": {},
   "outputs": [
    {
     "data": {
      "text/plain": [
       "torch.Size([80, 100])"
      ]
     },
     "execution_count": 29,
     "metadata": {},
     "output_type": "execute_result"
    }
   ],
   "source": [
    "encoder_outputs.shape"
   ]
  },
  {
   "cell_type": "code",
   "execution_count": 30,
   "metadata": {},
   "outputs": [],
   "source": [
    "def translator(encoder, decoder, input_variable, max_length=MAX_LENGTH):\n",
    "    # The length of the input.\n",
    "    input_length = input_variable.size()[0]\n",
    "    # For each sentence, initilize the hidden states with zeros.\n",
    "    encoder_hidden = encoder.initialize_hidden_states()\n",
    "    # Initialize the encoder outputs. \n",
    "    encoder_outputs = Variable(torch.zeros(max_length, encoder.hidden_size))\n",
    "    encoder_outputs = encoder_outputs.cuda() if use_cuda else encoder_outputs\n",
    "    # Iterate through the input words.\n",
    "    for ei in range(input_length):\n",
    "        encoder_output, encoder_hidden = encoder(input_variable[ei], encoder_hidden)\n",
    "    # Initialize the decoder with the start symbol <s>.\n",
    "    decoder_input = Variable(torch.LongTensor([[START_IDX]])) \n",
    "    decoder_input = decoder_input.cuda() if use_cuda else decoder_input\n",
    "    # Use the last encoder hidden state as the first decoder's hidden state.\n",
    "    decoder_hidden = encoder_hidden\n",
    "    # Keep a list of the decoded words.\n",
    "    decoded_words = []\n",
    "    \n",
    "    # Iterate through the decoder states.\n",
    "    for di in range(max_length):\n",
    "        # Very similar to how the training works.\n",
    "        decoder_output, decoder_hidden = decoder(decoder_input, \n",
    "                                                 decoder_hidden)\n",
    "        topv, topi = decoder_output.data.topk(1)\n",
    "        ni = topi[0][0]\n",
    "        if ni == END_IDX:\n",
    "            decoded_words.append(END_IDX)\n",
    "            break\n",
    "        else:\n",
    "            decoded_words.append(ni.item())# changed from ni to ni.item()\n",
    "        # Replace the new decoder input for the next state \n",
    "        # with the top guess of this state.\n",
    "        decoder_input = Variable(torch.LongTensor([[ni]]))\n",
    "        decoder_input = decoder_input.cuda() if use_cuda else decoder_input\n",
    "\n",
    "    return decoded_words"
   ]
  },
  {
   "cell_type": "code",
   "execution_count": 31,
   "metadata": {},
   "outputs": [
    {
     "data": {
      "text/plain": [
       "tensor([[  0],\n",
       "        [223],\n",
       "        [230],\n",
       "        [ 26],\n",
       "        [221],\n",
       "        [  1]], device='cuda:0')"
      ]
     },
     "execution_count": 31,
     "metadata": {},
     "output_type": "execute_result"
    }
   ],
   "source": [
    "sent = 'caffeine protects the brain' # if words don't appear in corpus, it will be marked as 2 <unk>\n",
    "variable_from_sent(sent, english_vocab)"
   ]
  },
  {
   "cell_type": "code",
   "execution_count": 32,
   "metadata": {},
   "outputs": [],
   "source": [
    "MAX_LENGTH = 80\n",
    "batches = 100000 # In this case, the PyTorch train_per_epoch() and train() code is using batch_size=1\n",
    "hidden_size = 10\n",
    "\n",
    "my_encoder = EncoderRNN(len(english_vocab), hidden_size)\n",
    "my_decoder = DecoderRNN(hidden_size, len(indo_vocab))\n",
    "\n",
    "if use_cuda:\n",
    "    my_encoder = my_encoder.cuda()\n",
    "    my_decoder = my_decoder.cuda()"
   ]
  },
  {
   "cell_type": "code",
   "execution_count": 33,
   "metadata": {},
   "outputs": [
    {
     "data": {
      "text/plain": [
       "80"
      ]
     },
     "execution_count": 33,
     "metadata": {},
     "output_type": "execute_result"
    }
   ],
   "source": [
    "output_words = translator(my_encoder, my_decoder, \n",
    "                          variable_from_sent(sent, english_vocab))\n",
    "len(output_words)"
   ]
  },
  {
   "cell_type": "code",
   "execution_count": 34,
   "metadata": {},
   "outputs": [
    {
     "data": {
      "text/plain": [
       "['sebanyak',\n",
       " 'sebanyak',\n",
       " 'sebanyak',\n",
       " 'sebanyak',\n",
       " 'mengijinkan',\n",
       " 'sebanyak',\n",
       " 'sebanyak',\n",
       " 'sebanyak',\n",
       " 'desain',\n",
       " 'sebanyak',\n",
       " 'sebanyak',\n",
       " 'sebanyak',\n",
       " 'mengijinkan',\n",
       " 'sebanyak',\n",
       " 'sebanyak',\n",
       " 'sebanyak',\n",
       " 'desain',\n",
       " 'sebanyak',\n",
       " 'sebanyak',\n",
       " 'sebanyak',\n",
       " 'mengijinkan',\n",
       " 'sebanyak',\n",
       " 'sebanyak',\n",
       " 'sebanyak',\n",
       " 'desain',\n",
       " 'sebanyak',\n",
       " 'sebanyak',\n",
       " 'sebanyak',\n",
       " 'mengijinkan']"
      ]
     },
     "execution_count": 34,
     "metadata": {},
     "output_type": "execute_result"
    }
   ],
   "source": [
    "[indo_vocab[i] for i in output_words[1:30]]"
   ]
  },
  {
   "cell_type": "code",
   "execution_count": 35,
   "metadata": {},
   "outputs": [],
   "source": [
    "def validate(encoder, decoder, input_variable, target_variable, criterion, max_length=MAX_LENGTH):\n",
    "    # The length of the input.\n",
    "    input_length = input_variable.size()[0]\n",
    "    target_length = target_variable.size()[0]\n",
    "    \n",
    "    # For each sentence, initilize the hidden states with zeros.\n",
    "    encoder_hidden = encoder.initialize_hidden_states()\n",
    "    # Initialize the encoder outputs. \n",
    "    encoder_outputs = Variable(torch.zeros(max_length, encoder.hidden_size))\n",
    "    encoder_outputs = encoder_outputs.cuda() if use_cuda else encoder_outputs\n",
    "    \n",
    "    loss = 0\n",
    "    \n",
    "    # Iterate through the input words.\n",
    "    for ei in range(input_length):\n",
    "        encoder_output, encoder_hidden = encoder(input_variable[ei], encoder_hidden)\n",
    "    # Initialize the decoder with the start symbol <s>.\n",
    "    decoder_input = Variable(torch.LongTensor([[START_IDX]])) \n",
    "    decoder_input = decoder_input.cuda() if use_cuda else decoder_input\n",
    "    # Use the last encoder hidden state as the first decoder's hidden state.\n",
    "    decoder_hidden = encoder_hidden\n",
    "    # Keep a list of the decoded words.\n",
    "    decoded_words = []\n",
    "    \n",
    "    # Iterate through the decoder states.\n",
    "    for di in range(target_length):\n",
    "        # Very similar to how the training works.\n",
    "        decoder_output, decoder_hidden = decoder(decoder_input, \n",
    "                                                 decoder_hidden)\n",
    "#         print(f'Decoder output shape {decoder_output.shape}')\n",
    "#         print(f'Target variable shape {target_variable.shape}')\n",
    "        topv, topi = decoder_output.data.topk(1)\n",
    "        ni = topi[0][0]\n",
    "        # Replace the new decoder input for the next state \n",
    "        # with the top guess of this state.\n",
    "        decoder_input = Variable(torch.LongTensor([[ni]]))\n",
    "        decoder_input = decoder_input.cuda() if use_cuda else decoder_input\n",
    "        loss += criterion(decoder_output, target_variable[di])\n",
    "        if ni == END_IDX:\n",
    "            break\n",
    "            \n",
    "    return loss.item() / target_length\n"
   ]
  },
  {
   "cell_type": "code",
   "execution_count": 52,
   "metadata": {},
   "outputs": [],
   "source": [
    "#########################################################\n",
    "# Some Logging and Plotting Candies to Monitor Training\n",
    "#########################################################\n",
    "\n",
    "import time\n",
    "import math\n",
    "\n",
    "import matplotlib.pyplot as plt\n",
    "import matplotlib.ticker as ticker\n",
    "import numpy as np\n",
    "\n",
    "\n",
    "def asMinutes(s):\n",
    "    m = math.floor(s / 60)\n",
    "    s -= m * 60\n",
    "    return '%dm %ds' % (m, s)\n",
    "\n",
    "def timeSince(since, percent):\n",
    "    now = time.time()\n",
    "    s = now - since\n",
    "    es = s / (percent)\n",
    "    rs = es - s\n",
    "    return '%s (- %s)' % (asMinutes(s), asMinutes(rs))\n",
    "\n",
    "\n",
    "def showPlot(points):\n",
    "    plt.figure()\n",
    "    fig, ax = plt.subplots()\n",
    "    # this locator puts ticks at regular intervals\n",
    "    loc = ticker.MultipleLocator(base=0.2)\n",
    "    ax.yaxis.set_major_locator(loc)\n",
    "    plt.plot(points)\n",
    "    \n",
    "    \n",
    "#########################################################\n",
    "# Training per epoch,\n",
    "# Iterates across data points per epoch.\n",
    "#########################################################\n",
    "def train_one_epoch(input_variable, target_variable, encoder, decoder, \n",
    "                    encoder_optimizer, decoder_optimizer, criterion):\n",
    "    \"\"\"\n",
    "    Function to put the variables, decoder and optimizers to train per epoch.\n",
    "    \"\"\"\n",
    "    encoder_hidden = encoder.initialize_hidden_states()\n",
    "\n",
    "    # (Re-)Initialize the optimizers, clear all gradients. \n",
    "    encoder_optimizer.zero_grad()\n",
    "    decoder_optimizer.zero_grad()\n",
    "    \n",
    "    # Initialize the length of the PyTorch variables.\n",
    "    input_length = input_variable.size()[0]\n",
    "    target_length = target_variable.size()[0]\n",
    "    encoder_outputs = Variable(torch.zeros(MAX_LENGTH, encoder.hidden_size))\n",
    "    encoder_outputs = encoder_outputs.cuda() if use_cuda else encoder_outputs\n",
    "\n",
    "    loss = 0\n",
    "    \n",
    "    # Iterating through each word in the input.\n",
    "    for ei in range(input_length):\n",
    "        # We move forward through each state.\n",
    "        encoder_output, encoder_hidden = encoder(input_variable[ei], encoder_hidden)\n",
    "        # And we save the encoder outputs. \n",
    "        encoder_outputs[ei] = encoder_output[0][0]\n",
    "\n",
    "    # Initialize the variable input with the index of the START.\n",
    "    decoder_input = Variable(torch.LongTensor([[START_IDX]]))\n",
    "    decoder_input = decoder_input.cuda() if use_cuda else decoder_input\n",
    "    \n",
    "    # As the first state of the decoder, we take the last step of the encoder.\n",
    "    decoder_hidden = encoder_hidden\n",
    "    \n",
    "    # Without teacher forcing: use its own predictions as the next input\n",
    "    for di in range(target_length):\n",
    "        decoder_output, decoder_hidden = decoder(\n",
    "            decoder_input, decoder_hidden)\n",
    "        topv, topi = decoder_output.data.topk(1)\n",
    "        ni = topi[0][0]\n",
    "\n",
    "        decoder_input = Variable(torch.LongTensor([[ni]]))\n",
    "        decoder_input = decoder_input.cuda() if use_cuda else decoder_input\n",
    "\n",
    "        loss += criterion(decoder_output, target_variable[di])\n",
    "        if ni == END_IDX:\n",
    "            break\n",
    "\n",
    "    loss.backward()\n",
    "\n",
    "    encoder_optimizer.step()\n",
    "    decoder_optimizer.step()\n",
    "\n",
    "    #return loss.data[0] / target_length\n",
    "    return loss.item() / target_length\n",
    "\n",
    "#########################################################\n",
    "# Top-level function to start the training,\n",
    "# iterates across epochs.\n",
    "#########################################################\n",
    "\n",
    "def train(encoder, decoder, n_iters, print_every=1000, plot_every=100, learning_rate=0.005):\n",
    "    start = time.time()\n",
    "    plot_losses = []\n",
    "    plot_losses_val = []\n",
    "    print_loss_total = 0  # Reset every print_every\n",
    "    plot_loss_total = 0  # Reset every plot_every\n",
    "    val_loss_total = 0\n",
    "\n",
    "    encoder_optimizer = optim.Adam(encoder.parameters(), lr=learning_rate)\n",
    "    decoder_optimizer = optim.Adam(decoder.parameters(), lr=learning_rate)\n",
    "\n",
    "    training_pairs = [random.choice(sent_pairs) for i in range(n_iters)] \n",
    "    validation_pairs = [random.choice(sent_pairs_val) for i in range(n_iters)]\n",
    "    criterion = nn.NLLLoss()\n",
    "    \n",
    "    lowest_loss = np.inf\n",
    "    stopping_criteria = True\n",
    "    patience_val = 100\n",
    "    patience = patience_val # iterations for which loss does not go down before giving up\n",
    "    \n",
    "    for iter in range(1, n_iters + 1):\n",
    "        training_pair = training_pairs[iter - 1]\n",
    "        input_variable = training_pair[0]\n",
    "        target_variable = training_pair[1]\n",
    "\n",
    "        loss = train_one_epoch(input_variable, target_variable, encoder,\n",
    "                     decoder, encoder_optimizer, decoder_optimizer, criterion)\n",
    "        \n",
    "        validation_pair = validation_pairs[iter - 1]\n",
    "        input_variable_val = validation_pair[0]\n",
    "        target_variable_val = validation_pair[1]\n",
    "        \n",
    "        val_loss = validate(encoder, decoder, input_variable_val, target_variable_val, criterion, max_length=MAX_LENGTH)\n",
    "        \n",
    "        print_loss_total += loss\n",
    "        plot_loss_total += loss\n",
    "        val_loss_total += val_loss\n",
    "        \n",
    "        if iter % print_every == 0:\n",
    "            print_loss_avg = print_loss_total / print_every\n",
    "            print_loss_total = 0\n",
    "            print('%s (%d %d%%) Training Loss: %.4f Patience left: %.2f' % (timeSince(start, iter / n_iters),\n",
    "                                         iter, iter / n_iters * 100, print_loss_avg, patience))\n",
    "            \n",
    "            val_loss_avg = val_loss_total / print_every\n",
    "            print(f'Validation loss : {val_loss_avg}')\n",
    "            \n",
    "            if stopping_criteria:\n",
    "                if val_loss_avg < lowest_loss:\n",
    "                    patience = patience_val # reset the patience\n",
    "                    print(f'Lowest val loss so far {val_loss_avg}, updating and saving model..')\n",
    "                    lowest_loss = val_loss_avg\n",
    "                    # In Python >= 3.6\n",
    "                    with open(f'./models/encoder_vanilla_{hidden_size}_{batches}.pkl', 'wb') as fout:\n",
    "                        pickle.dump(my_encoder, fout)\n",
    "                    with open(f'./models/decoder_vanilla_{hidden_size}_{batches}.pkl', 'wb') as fout:\n",
    "                        pickle.dump(my_decoder, fout)\n",
    "                else: \n",
    "                    patience -= 1\n",
    "\n",
    "                if patience == 0:\n",
    "                    break\n",
    "\n",
    "        if iter % plot_every == 0:\n",
    "            plot_loss_avg = plot_loss_total / plot_every\n",
    "            plot_losses.append(plot_loss_avg)\n",
    "            plot_loss_total = 0\n",
    "            \n",
    "        if iter % plot_every == 0:\n",
    "            val_loss_avg = val_loss_total / plot_every\n",
    "            plot_losses_val.append(val_loss_avg)\n",
    "            val_loss_total = 0\n",
    "            \n",
    "\n",
    "            \n",
    "        \n",
    "                \n",
    "    showPlot(plot_losses)\n",
    "    showPlot(plot_losses_val)"
   ]
  },
  {
   "cell_type": "code",
   "execution_count": 53,
   "metadata": {},
   "outputs": [
    {
     "name": "stdout",
     "output_type": "stream",
     "text": [
      "0m 2s (- 12m 3s) (100 0%) Training Loss: 3.6886 Patience left: 100.00\n",
      "Validation loss : 3.460494618228349\n",
      "Lowest val loss so far 3.460494618228349, updating and saving model..\n",
      "0m 5s (- 12m 14s) (200 0%) Training Loss: 3.5643 Patience left: 100.00\n",
      "Validation loss : 3.203315412687205\n",
      "Lowest val loss so far 3.203315412687205, updating and saving model..\n",
      "0m 7s (- 11m 38s) (300 1%) Training Loss: 2.8707 Patience left: 100.00\n",
      "Validation loss : 2.485880579211485\n",
      "Lowest val loss so far 2.485880579211485, updating and saving model..\n",
      "0m 10s (- 11m 41s) (400 1%) Training Loss: 3.1159 Patience left: 100.00\n",
      "Validation loss : 3.1491431977450413\n",
      "0m 12s (- 11m 54s) (500 1%) Training Loss: 3.9631 Patience left: 99.00\n",
      "Validation loss : 3.8334400542183253\n",
      "0m 15s (- 11m 58s) (600 2%) Training Loss: 4.0371 Patience left: 98.00\n",
      "Validation loss : 4.247086975296836\n",
      "0m 18s (- 11m 59s) (700 2%) Training Loss: 3.3791 Patience left: 97.00\n",
      "Validation loss : 3.876949331363865\n",
      "0m 20s (- 11m 54s) (800 2%) Training Loss: 3.4185 Patience left: 96.00\n",
      "Validation loss : 3.779815028588674\n",
      "0m 23s (- 11m 50s) (900 3%) Training Loss: 3.2510 Patience left: 95.00\n",
      "Validation loss : 3.4661505733114124\n",
      "0m 26s (- 11m 53s) (1000 3%) Training Loss: 3.7907 Patience left: 94.00\n",
      "Validation loss : 4.135881289648026\n",
      "0m 29s (- 11m 56s) (1100 3%) Training Loss: 3.8120 Patience left: 93.00\n",
      "Validation loss : 3.742941970890891\n",
      "0m 32s (- 11m 59s) (1200 4%) Training Loss: 3.4850 Patience left: 92.00\n",
      "Validation loss : 3.9635967015000713\n",
      "0m 35s (- 12m 2s) (1300 4%) Training Loss: 3.4031 Patience left: 91.00\n",
      "Validation loss : 4.095437833157986\n",
      "0m 38s (- 12m 6s) (1400 4%) Training Loss: 3.2804 Patience left: 90.00\n",
      "Validation loss : 4.292687493331429\n",
      "0m 40s (- 12m 7s) (1500 5%) Training Loss: 3.2520 Patience left: 89.00\n",
      "Validation loss : 4.1240651126853995\n",
      "0m 44s (- 12m 8s) (1600 5%) Training Loss: 3.4188 Patience left: 88.00\n",
      "Validation loss : 4.625254479717855\n",
      "0m 47s (- 12m 10s) (1700 6%) Training Loss: 3.4146 Patience left: 87.00\n",
      "Validation loss : 4.787098046644361\n",
      "0m 49s (- 12m 8s) (1800 6%) Training Loss: 3.1328 Patience left: 86.00\n",
      "Validation loss : 4.331537373929005\n",
      "0m 53s (- 12m 13s) (1900 6%) Training Loss: 3.4075 Patience left: 85.00\n",
      "Validation loss : 5.057128991995365\n",
      "0m 56s (- 12m 14s) (2000 7%) Training Loss: 3.4943 Patience left: 84.00\n",
      "Validation loss : 4.717971573418813\n",
      "0m 59s (- 12m 14s) (2100 7%) Training Loss: 3.3656 Patience left: 83.00\n",
      "Validation loss : 5.085879113845511\n",
      "1m 2s (- 12m 17s) (2200 7%) Training Loss: 3.6348 Patience left: 82.00\n",
      "Validation loss : 5.201101274108653\n",
      "1m 5s (- 12m 17s) (2300 8%) Training Loss: 3.2346 Patience left: 81.00\n",
      "Validation loss : 4.978510878904846\n",
      "1m 8s (- 12m 17s) (2400 8%) Training Loss: 2.9532 Patience left: 80.00\n",
      "Validation loss : 5.062167517761543\n",
      "1m 11s (- 12m 16s) (2500 8%) Training Loss: 2.9240 Patience left: 79.00\n",
      "Validation loss : 4.484687918174736\n",
      "1m 15s (- 12m 16s) (2600 9%) Training Loss: 3.0270 Patience left: 78.00\n",
      "Validation loss : 5.406482454753826\n",
      "1m 18s (- 12m 16s) (2700 9%) Training Loss: 3.1400 Patience left: 77.00\n",
      "Validation loss : 4.790410727512977\n",
      "1m 21s (- 12m 16s) (2800 9%) Training Loss: 3.0485 Patience left: 76.00\n",
      "Validation loss : 5.357057714556444\n",
      "1m 24s (- 12m 16s) (2900 10%) Training Loss: 3.1102 Patience left: 75.00\n",
      "Validation loss : 5.639848448153856\n",
      "1m 28s (- 12m 16s) (3000 10%) Training Loss: 3.1441 Patience left: 74.00\n",
      "Validation loss : 5.220308074014608\n",
      "1m 31s (- 12m 15s) (3100 11%) Training Loss: 3.1254 Patience left: 73.00\n",
      "Validation loss : 5.589939741422682\n",
      "1m 34s (- 12m 14s) (3200 11%) Training Loss: 2.8651 Patience left: 72.00\n",
      "Validation loss : 6.226333503981731\n",
      "1m 37s (- 12m 13s) (3300 11%) Training Loss: 3.0851 Patience left: 71.00\n",
      "Validation loss : 5.679599090559492\n",
      "1m 40s (- 12m 11s) (3400 12%) Training Loss: 2.6103 Patience left: 70.00\n",
      "Validation loss : 5.139630218433395\n",
      "1m 44s (- 12m 12s) (3500 12%) Training Loss: 2.8061 Patience left: 69.00\n",
      "Validation loss : 6.370520724435262\n",
      "1m 47s (- 12m 11s) (3600 12%) Training Loss: 2.5158 Patience left: 68.00\n",
      "Validation loss : 6.202007861803034\n",
      "1m 50s (- 12m 9s) (3700 13%) Training Loss: 2.6152 Patience left: 67.00\n",
      "Validation loss : 5.856482047548748\n",
      "1m 53s (- 12m 8s) (3800 13%) Training Loss: 2.7641 Patience left: 66.00\n",
      "Validation loss : 6.136635655190296\n",
      "1m 57s (- 12m 7s) (3900 13%) Training Loss: 2.8722 Patience left: 65.00\n",
      "Validation loss : 6.104137709918803\n",
      "2m 0s (- 12m 7s) (4000 14%) Training Loss: 2.6834 Patience left: 64.00\n",
      "Validation loss : 5.448929834196609\n",
      "2m 4s (- 12m 7s) (4100 14%) Training Loss: 2.8424 Patience left: 63.00\n",
      "Validation loss : 5.971664855747496\n",
      "2m 7s (- 12m 5s) (4200 14%) Training Loss: 2.6106 Patience left: 62.00\n",
      "Validation loss : 6.327230355434443\n",
      "2m 11s (- 12m 5s) (4300 15%) Training Loss: 2.5112 Patience left: 61.00\n",
      "Validation loss : 6.433834477702778\n",
      "2m 14s (- 12m 4s) (4400 15%) Training Loss: 2.6898 Patience left: 60.00\n",
      "Validation loss : 6.0287303848906255\n",
      "2m 17s (- 12m 3s) (4500 16%) Training Loss: 2.8027 Patience left: 59.00\n",
      "Validation loss : 6.118288990218433\n",
      "2m 21s (- 12m 0s) (4600 16%) Training Loss: 2.5362 Patience left: 58.00\n",
      "Validation loss : 5.7230217929088125\n",
      "2m 24s (- 11m 58s) (4700 16%) Training Loss: 2.6250 Patience left: 57.00\n",
      "Validation loss : 6.039234817148866\n",
      "2m 28s (- 11m 58s) (4800 17%) Training Loss: 2.9156 Patience left: 56.00\n",
      "Validation loss : 6.531312841474927\n",
      "2m 31s (- 11m 56s) (4900 17%) Training Loss: 2.7235 Patience left: 55.00\n",
      "Validation loss : 5.951814187328576\n",
      "2m 34s (- 11m 55s) (5000 17%) Training Loss: 2.4757 Patience left: 54.00\n",
      "Validation loss : 5.68844619728066\n",
      "2m 38s (- 11m 54s) (5100 18%) Training Loss: 2.7570 Patience left: 53.00\n",
      "Validation loss : 6.989176823868938\n",
      "2m 42s (- 11m 55s) (5200 18%) Training Loss: 2.8445 Patience left: 52.00\n",
      "Validation loss : 6.243873129141587\n",
      "2m 45s (- 11m 53s) (5300 18%) Training Loss: 2.6989 Patience left: 51.00\n",
      "Validation loss : 6.5719642488631544\n",
      "2m 49s (- 11m 51s) (5400 19%) Training Loss: 2.8330 Patience left: 50.00\n",
      "Validation loss : 6.86031880456961\n",
      "2m 52s (- 11m 50s) (5500 19%) Training Loss: 2.9821 Patience left: 49.00\n",
      "Validation loss : 6.69277893834491\n",
      "2m 56s (- 11m 49s) (5600 19%) Training Loss: 2.9923 Patience left: 48.00\n",
      "Validation loss : 6.712925130736743\n",
      "3m 0s (- 11m 48s) (5700 20%) Training Loss: 2.7733 Patience left: 47.00\n",
      "Validation loss : 6.490390748312373\n",
      "3m 3s (- 11m 46s) (5800 20%) Training Loss: 2.5513 Patience left: 46.00\n",
      "Validation loss : 6.338664788255411\n",
      "3m 7s (- 11m 44s) (5900 20%) Training Loss: 2.6015 Patience left: 45.00\n",
      "Validation loss : 6.6122715090064785\n",
      "3m 10s (- 11m 41s) (6000 21%) Training Loss: 2.6142 Patience left: 44.00\n",
      "Validation loss : 6.8306926446939835\n",
      "3m 13s (- 11m 38s) (6100 21%) Training Loss: 2.4843 Patience left: 43.00\n",
      "Validation loss : 5.902194574605985\n",
      "3m 16s (- 11m 35s) (6200 22%) Training Loss: 2.5694 Patience left: 42.00\n",
      "Validation loss : 6.374132756427178\n",
      "3m 20s (- 11m 33s) (6300 22%) Training Loss: 2.7249 Patience left: 41.00\n",
      "Validation loss : 7.317432273198993\n",
      "3m 23s (- 11m 30s) (6400 22%) Training Loss: 2.6947 Patience left: 40.00\n",
      "Validation loss : 6.849041939463552\n",
      "3m 27s (- 11m 28s) (6500 23%) Training Loss: 2.5311 Patience left: 39.00\n",
      "Validation loss : 7.059464485104419\n",
      "3m 30s (- 11m 25s) (6600 23%) Training Loss: 2.5615 Patience left: 38.00\n",
      "Validation loss : 7.123279860912895\n",
      "3m 33s (- 11m 23s) (6700 23%) Training Loss: 2.5877 Patience left: 37.00\n",
      "Validation loss : 6.513216791092635\n",
      "3m 37s (- 11m 20s) (6800 24%) Training Loss: 2.6240 Patience left: 36.00\n",
      "Validation loss : 6.84305850021998\n",
      "3m 40s (- 11m 17s) (6900 24%) Training Loss: 2.4357 Patience left: 35.00\n",
      "Validation loss : 7.366541044849917\n",
      "3m 43s (- 11m 14s) (7000 24%) Training Loss: 2.4879 Patience left: 34.00\n",
      "Validation loss : 6.760339097036847\n",
      "3m 47s (- 11m 11s) (7100 25%) Training Loss: 2.5212 Patience left: 33.00\n",
      "Validation loss : 6.6110305398905505\n",
      "3m 50s (- 11m 8s) (7200 25%) Training Loss: 2.4305 Patience left: 32.00\n",
      "Validation loss : 7.2971268741207105\n",
      "3m 53s (- 11m 5s) (7300 25%) Training Loss: 2.4075 Patience left: 31.00\n",
      "Validation loss : 6.892638250992633\n",
      "3m 56s (- 11m 2s) (7400 26%) Training Loss: 2.4264 Patience left: 30.00\n",
      "Validation loss : 7.488808347645276\n",
      "4m 0s (- 11m 0s) (7500 26%) Training Loss: 2.5813 Patience left: 29.00\n",
      "Validation loss : 8.020304524894504\n",
      "4m 3s (- 10m 57s) (7600 27%) Training Loss: 2.3937 Patience left: 28.00\n",
      "Validation loss : 7.548123574204456\n",
      "4m 7s (- 10m 54s) (7700 27%) Training Loss: 2.5759 Patience left: 27.00\n",
      "Validation loss : 7.633025794580024\n",
      "4m 10s (- 10m 52s) (7800 27%) Training Loss: 2.6697 Patience left: 26.00\n",
      "Validation loss : 7.838145623683326\n",
      "4m 14s (- 10m 50s) (7900 28%) Training Loss: 2.8036 Patience left: 25.00\n",
      "Validation loss : 7.57775858441082\n",
      "4m 17s (- 10m 47s) (8000 28%) Training Loss: 2.5180 Patience left: 24.00\n",
      "Validation loss : 7.399734195283935\n",
      "4m 21s (- 10m 45s) (8100 28%) Training Loss: 2.8036 Patience left: 23.00\n",
      "Validation loss : 7.748325749396949\n",
      "4m 25s (- 10m 43s) (8200 29%) Training Loss: 2.6262 Patience left: 22.00\n",
      "Validation loss : 6.670227481180116\n",
      "4m 29s (- 10m 42s) (8300 29%) Training Loss: 2.3591 Patience left: 21.00\n",
      "Validation loss : 7.546863763412896\n",
      "4m 33s (- 10m 40s) (8400 29%) Training Loss: 2.6678 Patience left: 20.00\n",
      "Validation loss : 7.815799351986011\n",
      "4m 36s (- 10m 38s) (8500 30%) Training Loss: 2.5632 Patience left: 19.00\n",
      "Validation loss : 7.6999863444589565\n",
      "4m 40s (- 10m 36s) (8600 30%) Training Loss: 2.6741 Patience left: 18.00\n",
      "Validation loss : 7.7489282924394844\n",
      "4m 44s (- 10m 35s) (8700 30%) Training Loss: 2.4337 Patience left: 17.00\n",
      "Validation loss : 7.964736703927811\n",
      "4m 48s (- 10m 32s) (8800 31%) Training Loss: 2.6463 Patience left: 16.00\n",
      "Validation loss : 7.506705367255643\n",
      "4m 52s (- 10m 30s) (8900 31%) Training Loss: 2.4415 Patience left: 15.00\n",
      "Validation loss : 7.752345633352479\n",
      "4m 56s (- 10m 28s) (9000 32%) Training Loss: 2.7030 Patience left: 14.00\n",
      "Validation loss : 7.215934121755258\n",
      "4m 59s (- 10m 25s) (9100 32%) Training Loss: 2.3396 Patience left: 13.00\n",
      "Validation loss : 7.620282588250129\n",
      "5m 2s (- 10m 22s) (9200 32%) Training Loss: 2.3954 Patience left: 12.00\n",
      "Validation loss : 7.543625355593332\n",
      "5m 6s (- 10m 19s) (9300 33%) Training Loss: 2.7117 Patience left: 11.00\n",
      "Validation loss : 7.524287165322141\n",
      "5m 10s (- 10m 16s) (9400 33%) Training Loss: 2.5559 Patience left: 10.00\n",
      "Validation loss : 7.126183265941627\n",
      "5m 13s (- 10m 13s) (9500 33%) Training Loss: 2.2072 Patience left: 9.00\n",
      "Validation loss : 7.243160698534791\n",
      "5m 16s (- 10m 10s) (9600 34%) Training Loss: 2.4876 Patience left: 8.00\n",
      "Validation loss : 7.808348515650894\n",
      "5m 20s (- 10m 7s) (9700 34%) Training Loss: 2.4993 Patience left: 7.00\n",
      "Validation loss : 7.629429653631725\n",
      "5m 23s (- 10m 4s) (9800 34%) Training Loss: 2.3790 Patience left: 6.00\n",
      "Validation loss : 7.621169398079952\n",
      "5m 27s (- 10m 1s) (9900 35%) Training Loss: 2.3641 Patience left: 5.00\n",
      "Validation loss : 8.151532784758603\n",
      "5m 30s (- 9m 58s) (10000 35%) Training Loss: 2.0668 Patience left: 4.00\n",
      "Validation loss : 7.638611893004447\n",
      "5m 34s (- 9m 55s) (10100 35%) Training Loss: 2.3348 Patience left: 3.00\n",
      "Validation loss : 7.832581091757328\n",
      "5m 37s (- 9m 52s) (10200 36%) Training Loss: 2.3688 Patience left: 2.00\n",
      "Validation loss : 8.279486155590426\n",
      "5m 41s (- 9m 49s) (10300 36%) Training Loss: 2.4565 Patience left: 1.00\n",
      "Validation loss : 7.632962906084898\n"
     ]
    },
    {
     "data": {
      "text/plain": [
       "<Figure size 432x288 with 0 Axes>"
      ]
     },
     "metadata": {},
     "output_type": "display_data"
    },
    {
     "data": {
      "image/png": "[encoded data removed]",
      "text/plain": [
       "<Figure size 432x288 with 1 Axes>"
      ]
     },
     "metadata": {
      "needs_background": "light"
     },
     "output_type": "display_data"
    },
    {
     "data": {
      "text/plain": [
       "<Figure size 432x288 with 0 Axes>"
      ]
     },
     "metadata": {},
     "output_type": "display_data"
    },
    {
     "data": {
      "image/png": "[encoded data removed]",
      "text/plain": [
       "<Figure size 432x288 with 1 Axes>"
      ]
     },
     "metadata": {
      "needs_background": "light"
     },
     "output_type": "display_data"
    }
   ],
   "source": [
    "MAX_LENGTH = 80\n",
    "batches = 28100 # In this case, the PyTorch train_per_epoch() and train() code is using batch_size=1\n",
    "hidden_size = 100\n",
    "\n",
    "my_encoder = EncoderRNN(len(english_vocab), hidden_size)\n",
    "my_decoder = DecoderRNN(hidden_size, len(indo_vocab))\n",
    "\n",
    "if use_cuda:\n",
    "    my_encoder = my_encoder.cuda()\n",
    "    my_decoder = my_decoder.cuda()\n",
    "\n",
    "train(my_encoder, my_decoder, batches, print_every=100)"
   ]
  },
  {
   "cell_type": "code",
   "execution_count": 44,
   "metadata": {},
   "outputs": [
    {
     "name": "stdout",
     "output_type": "stream",
     "text": [
      "100 28100\n",
      "encoder_vanilla_100_28100.pkl\n"
     ]
    }
   ],
   "source": [
    "print(hidden_size, batches)\n",
    "print(f'encoder_vanilla_{hidden_size}_{batches}.pkl')"
   ]
  },
  {
   "cell_type": "code",
   "execution_count": 45,
   "metadata": {},
   "outputs": [],
   "source": [
    "# import pickle \n",
    "\n",
    "# # In Python >= 3.6\n",
    "# with open(f'./models/encoder_vanilla_{hidden_size}_{batches}.pkl', 'wb') as fout:\n",
    "#     pickle.dump(my_encoder, fout)\n",
    "# with open(f'./models/decoder_vanilla_{hidden_size}_{batches}.pkl', 'wb') as fout:\n",
    "#     pickle.dump(my_decoder, fout)\n",
    "\n",
    "# # For Python < 3.6\n",
    "# with open('./models/encoder_vanilla_{}_{}.pkl'.format(hidden_size, batches), 'wb') as fout:\n",
    "#     pickle.dump(my_encoder, fout)\n",
    "# with open('./models/decoder_vanilla_{}_{}.pkl'.format(hidden_size, batches), 'wb') as fout:\n",
    "#     pickle.dump(my_decoder, fout)"
   ]
  },
  {
   "cell_type": "code",
   "execution_count": 46,
   "metadata": {},
   "outputs": [
    {
     "name": "stdout",
     "output_type": "stream",
     "text": [
      "./models/encoder_vanilla_100_28100.pkl\n",
      "./models/decoder_vanilla_100_28100.pkl\n"
     ]
    }
   ],
   "source": [
    "# Load the best model\n",
    "filename = f'./models/encoder_vanilla_{hidden_size}_{batches}.pkl'\n",
    "print(filename)\n",
    "my_encoder = pickle.load(open(filename, 'rb'))\n",
    "\n",
    "filename = f'./models/decoder_vanilla_{hidden_size}_{batches}.pkl'\n",
    "print(filename)\n",
    "my_decoder = pickle.load(open(filename, 'rb'))"
   ]
  },
  {
   "cell_type": "code",
   "execution_count": null,
   "metadata": {},
   "outputs": [],
   "source": []
  },
  {
   "cell_type": "code",
   "execution_count": 47,
   "metadata": {},
   "outputs": [],
   "source": [
    "def translate(kopi_order):\n",
    "    output_words = translator(my_encoder, my_decoder, variable_from_sent(kopi_order, english_vocab))\n",
    "    print(output_words)\n",
    "    output_sentence = [indo_vocab[i] for i in output_words[1:output_words.index(1)]]\n",
    "    return ' '.join(output_sentence)"
   ]
  },
  {
   "cell_type": "code",
   "execution_count": 48,
   "metadata": {},
   "outputs": [
    {
     "name": "stdout",
     "output_type": "stream",
     "text": [
      "[0, 0, 1]\n"
     ]
    },
    {
     "name": "stderr",
     "output_type": "stream",
     "text": [
      "/home/pier/anaconda3/envs/gensim/lib/python3.6/site-packages/torch/nn/modules/rnn.py:179: RuntimeWarning: RNN module weights are not part of single contiguous chunk of memory. This means they need to be compacted at every call, possibly greatly increasing memory usage. To compact weights again call flatten_parameters().\n",
      "  self.dropout, self.training, self.bidirectional, self.batch_first)\n"
     ]
    },
    {
     "data": {
      "text/plain": [
       "'<s>'"
      ]
     },
     "execution_count": 48,
     "metadata": {},
     "output_type": "execute_result"
    }
   ],
   "source": [
    "translate('French Muslims fined for face veils')"
   ]
  },
  {
   "cell_type": "code",
   "execution_count": 49,
   "metadata": {},
   "outputs": [
    {
     "name": "stdout",
     "output_type": "stream",
     "text": [
      "[0, 0, 1]\n"
     ]
    },
    {
     "data": {
      "text/plain": [
       "'<s>'"
      ]
     },
     "execution_count": 49,
     "metadata": {},
     "output_type": "execute_result"
    }
   ],
   "source": [
    "translate('face')"
   ]
  },
  {
   "cell_type": "code",
   "execution_count": null,
   "metadata": {},
   "outputs": [],
   "source": []
  }
 ],
 "metadata": {
  "kernelspec": {
   "display_name": "Python 3",
   "language": "python",
   "name": "python3"
  },
  "language_info": {
   "codemirror_mode": {
    "name": "ipython",
    "version": 3
   },
   "file_extension": ".py",
   "mimetype": "text/x-python",
   "name": "python",
   "nbconvert_exporter": "python",
   "pygments_lexer": "ipython3",
   "version": "3.6.8"
  }
 },
 "nbformat": 4,
 "nbformat_minor": 2
}
