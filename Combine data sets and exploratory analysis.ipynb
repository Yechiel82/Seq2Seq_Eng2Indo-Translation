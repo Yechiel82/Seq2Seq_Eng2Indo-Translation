{
 "cells": [
  {
   "cell_type": "code",
   "execution_count": 2,
   "metadata": {},
   "outputs": [],
   "source": [
    "import pandas as pd\n",
    "import matplotlib.pyplot as plt\n",
    "from gensim.corpora.dictionary import Dictionary\n",
    "from nltk import word_tokenize\n",
    "%matplotlib inline"
   ]
  },
  {
   "cell_type": "code",
   "execution_count": 2,
   "metadata": {},
   "outputs": [],
   "source": [
    "all_english_corpus = [\"ausaid-3083.en\", \"bbc-468.en\", \"odb-9826.en\", \"SMERU-26870.en\"]\n",
    "all_indo_corpus = [\"ausaid-3083.id\", \"bbc-468.id\", \"odb-9826.id\", \"SMERU-26870.id\"]"
   ]
  },
  {
   "cell_type": "code",
   "execution_count": 3,
   "metadata": {},
   "outputs": [
    {
     "name": "stdout",
     "output_type": "stream",
     "text": [
      "Number of rows for ausaid-3083.en is 3112\n",
      "Number of rows for bbc-468.en is 468\n",
      "Number of rows for odb-9826.en is 9823\n",
      "Number of rows for SMERU-26870.en is 26966\n"
     ]
    }
   ],
   "source": [
    "concatenated_df = None\n",
    "\n",
    "for itr in range(len(all_english_corpus)):\n",
    "    english_corpus_name = all_english_corpus[itr]\n",
    "    indo_corpus_name = all_indo_corpus[itr]\n",
    "    \n",
    "    eng_text_df, indo_text_df = None, None\n",
    "    \n",
    "    with open(\"./corpus/\" + english_corpus_name) as fp:\n",
    "        eng_text = fp.read()\n",
    "        eng_text = eng_text.splitlines()\n",
    "        eng_text_df = pd.DataFrame(eng_text)\n",
    "        eng_text_df = eng_text_df.rename(columns={0:'English'})\n",
    "        #print(eng_text_df.head())\n",
    "        # df_eng_text = df_eng_text.rename(columns={0:'English'})\n",
    "        \n",
    "    with open(\"./corpus/\" + indo_corpus_name) as fp:\n",
    "        indo_text = fp.read()\n",
    "        indo_text = indo_text.splitlines()\n",
    "        indo_text_df = pd.DataFrame(indo_text)\n",
    "        indo_text_df = indo_text_df.rename(columns={0:'Indonesian'})\n",
    "        #print(indo_text_df.head())\n",
    "        # df_eng_text = df_eng_text.rename(columns={0:'English'})   \n",
    "        \n",
    "    eng_text_df['English'] = eng_text_df['English'].apply(lambda x : x.lstrip())\n",
    "    indo_text_df['Indonesian'] = indo_text_df['Indonesian'].apply(lambda x : x.lstrip())\n",
    "    \n",
    "    # Merge the English and Indo datasets\n",
    "    df = pd.concat([eng_text_df, indo_text_df], axis=1)\n",
    "    \n",
    "    print(\"Number of rows for {0} is {1}\".format(english_corpus_name, df.shape[0]))\n",
    "    \n",
    "    # merge the different datasets\n",
    "    concatenated_df = pd.concat([concatenated_df, df], axis = 0)\n",
    "    #print(df.head())"
   ]
  },
  {
   "cell_type": "code",
   "execution_count": 4,
   "metadata": {},
   "outputs": [
    {
     "data": {
      "text/html": [
       "<div>\n",
       "<style scoped>\n",
       "    .dataframe tbody tr th:only-of-type {\n",
       "        vertical-align: middle;\n",
       "    }\n",
       "\n",
       "    .dataframe tbody tr th {\n",
       "        vertical-align: top;\n",
       "    }\n",
       "\n",
       "    .dataframe thead th {\n",
       "        text-align: right;\n",
       "    }\n",
       "</style>\n",
       "<table border=\"1\" class=\"dataframe\">\n",
       "  <thead>\n",
       "    <tr style=\"text-align: right;\">\n",
       "      <th></th>\n",
       "      <th>English</th>\n",
       "      <th>Indonesian</th>\n",
       "    </tr>\n",
       "  </thead>\n",
       "  <tbody>\n",
       "    <tr>\n",
       "      <th>0</th>\n",
       "      <td>Introduction: 2007 year in review</td>\n",
       "      <td>Pendahuluan: Tahun peninjauan 2007</td>\n",
       "    </tr>\n",
       "    <tr>\n",
       "      <th>1</th>\n",
       "      <td>2007 was another significant year for the Aust...</td>\n",
       "      <td>2007 kembali menjadi tahun yang signifikan bag...</td>\n",
       "    </tr>\n",
       "    <tr>\n",
       "      <th>2</th>\n",
       "      <td>Reconstruction after the 2004 Boxing Day tsuna...</td>\n",
       "      <td>Rekonstruksi yang dilakukan setelah terjadinya...</td>\n",
       "    </tr>\n",
       "    <tr>\n",
       "      <th>3</th>\n",
       "      <td>This work was the centrepiece of the $1 billio...</td>\n",
       "      <td>Ini merupakan pekerjaan inti dari Kemitraan Au...</td>\n",
       "    </tr>\n",
       "    <tr>\n",
       "      <th>4</th>\n",
       "      <td>AIPRD also includes large-scale social and eco...</td>\n",
       "      <td>AIPRD juga mencakup program pengembangan ekono...</td>\n",
       "    </tr>\n",
       "  </tbody>\n",
       "</table>\n",
       "</div>"
      ],
      "text/plain": [
       "                                             English  \\\n",
       "0                 Introduction: 2007 year in review    \n",
       "1  2007 was another significant year for the Aust...   \n",
       "2  Reconstruction after the 2004 Boxing Day tsuna...   \n",
       "3  This work was the centrepiece of the $1 billio...   \n",
       "4  AIPRD also includes large-scale social and eco...   \n",
       "\n",
       "                                          Indonesian  \n",
       "0                Pendahuluan: Tahun peninjauan 2007   \n",
       "1  2007 kembali menjadi tahun yang signifikan bag...  \n",
       "2  Rekonstruksi yang dilakukan setelah terjadinya...  \n",
       "3  Ini merupakan pekerjaan inti dari Kemitraan Au...  \n",
       "4  AIPRD juga mencakup program pengembangan ekono...  "
      ]
     },
     "execution_count": 4,
     "metadata": {},
     "output_type": "execute_result"
    }
   ],
   "source": [
    "concatenated_df.head()"
   ]
  },
  {
   "cell_type": "code",
   "execution_count": 5,
   "metadata": {},
   "outputs": [
    {
     "data": {
      "text/plain": [
       "(40369, 2)"
      ]
     },
     "execution_count": 5,
     "metadata": {},
     "output_type": "execute_result"
    }
   ],
   "source": [
    "concatenated_df.shape"
   ]
  },
  {
   "cell_type": "code",
   "execution_count": 6,
   "metadata": {},
   "outputs": [
    {
     "data": {
      "text/html": [
       "<div>\n",
       "<style scoped>\n",
       "    .dataframe tbody tr th:only-of-type {\n",
       "        vertical-align: middle;\n",
       "    }\n",
       "\n",
       "    .dataframe tbody tr th {\n",
       "        vertical-align: top;\n",
       "    }\n",
       "\n",
       "    .dataframe thead th {\n",
       "        text-align: right;\n",
       "    }\n",
       "</style>\n",
       "<table border=\"1\" class=\"dataframe\">\n",
       "  <thead>\n",
       "    <tr style=\"text-align: right;\">\n",
       "      <th></th>\n",
       "      <th>English</th>\n",
       "      <th>Indonesian</th>\n",
       "    </tr>\n",
       "  </thead>\n",
       "  <tbody>\n",
       "    <tr>\n",
       "      <th>26961</th>\n",
       "      <td>Some of the respondents gave more than one sug...</td>\n",
       "      <td>Beberapa di antara responden memberi saran leb...</td>\n",
       "    </tr>\n",
       "    <tr>\n",
       "      <th>26962</th>\n",
       "      <td>Table 5 shows the kinds of suggestions conveye...</td>\n",
       "      <td>Jenis saran yang disampaikan responden berdasa...</td>\n",
       "    </tr>\n",
       "    <tr>\n",
       "      <th>26963</th>\n",
       "      <td>Some of the suggestions given by the responden...</td>\n",
       "      <td>Beberapa saran yang disampaikan oleh responden...</td>\n",
       "    </tr>\n",
       "    <tr>\n",
       "      <th>26964</th>\n",
       "      <td>However, the suggestion regarding the updating...</td>\n",
       "      <td>Akan tetapi saran tentang updating yang disamp...</td>\n",
       "    </tr>\n",
       "    <tr>\n",
       "      <th>26965</th>\n",
       "      <td>The next available data on the population cens...</td>\n",
       "      <td>Data sensus penduduk, misalnya, baru dapat dip...</td>\n",
       "    </tr>\n",
       "  </tbody>\n",
       "</table>\n",
       "</div>"
      ],
      "text/plain": [
       "                                                 English  \\\n",
       "26961  Some of the respondents gave more than one sug...   \n",
       "26962  Table 5 shows the kinds of suggestions conveye...   \n",
       "26963  Some of the suggestions given by the responden...   \n",
       "26964  However, the suggestion regarding the updating...   \n",
       "26965  The next available data on the population cens...   \n",
       "\n",
       "                                              Indonesian  \n",
       "26961  Beberapa di antara responden memberi saran leb...  \n",
       "26962  Jenis saran yang disampaikan responden berdasa...  \n",
       "26963  Beberapa saran yang disampaikan oleh responden...  \n",
       "26964  Akan tetapi saran tentang updating yang disamp...  \n",
       "26965  Data sensus penduduk, misalnya, baru dapat dip...  "
      ]
     },
     "execution_count": 6,
     "metadata": {},
     "output_type": "execute_result"
    }
   ],
   "source": [
    "concatenated_df.tail()"
   ]
  },
  {
   "cell_type": "code",
   "execution_count": 15,
   "metadata": {},
   "outputs": [],
   "source": [
    "# concatenated_df.to_csv(\"./corpus/combined.csv\", index=False)"
   ]
  },
  {
   "cell_type": "code",
   "execution_count": 7,
   "metadata": {},
   "outputs": [
    {
     "data": {
      "text/plain": [
       "0     6\n",
       "1    11\n",
       "2    23\n",
       "3    32\n",
       "4    12\n",
       "Name: English_num_words, dtype: int64"
      ]
     },
     "execution_count": 7,
     "metadata": {},
     "output_type": "execute_result"
    }
   ],
   "source": [
    "concatenated_df[\"English_num_words\"] = concatenated_df[\"English\"].apply(str.lower).apply(word_tokenize).apply(len)\n",
    "concatenated_df[\"English_num_words\"].head()"
   ]
  },
  {
   "cell_type": "code",
   "execution_count": 10,
   "metadata": {},
   "outputs": [
    {
     "data": {
      "text/plain": [
       "<matplotlib.axes._subplots.AxesSubplot at 0x7f5fdb394eb8>"
      ]
     },
     "execution_count": 10,
     "metadata": {},
     "output_type": "execute_result"
    },
    {
     "data": {
      "image/png": "[encoded data removed]",
      "text/plain": [
       "<Figure size 1440x720 with 1 Axes>"
      ]
     },
     "metadata": {
      "needs_background": "light"
     },
     "output_type": "display_data"
    }
   ],
   "source": [
    "plt.rcParams[\"figure.figsize\"] = (20,10)\n",
    "import seaborn as sns\n",
    "sns.countplot(x=\"English_num_words\", data=concatenated_df)"
   ]
  },
  {
   "cell_type": "code",
   "execution_count": 11,
   "metadata": {},
   "outputs": [
    {
     "data": {
      "text/plain": [
       "0     5\n",
       "1    11\n",
       "2    25\n",
       "3    27\n",
       "4    13\n",
       "Name: Indo_num_words, dtype: int64"
      ]
     },
     "execution_count": 11,
     "metadata": {},
     "output_type": "execute_result"
    }
   ],
   "source": [
    "concatenated_df[\"Indo_num_words\"] = concatenated_df[\"Indonesian\"].apply(str.lower).apply(word_tokenize).apply(len)\n",
    "concatenated_df[\"Indo_num_words\"].head()"
   ]
  },
  {
   "cell_type": "code",
   "execution_count": 12,
   "metadata": {},
   "outputs": [
    {
     "data": {
      "text/plain": [
       "<matplotlib.axes._subplots.AxesSubplot at 0x7f5fd6643ba8>"
      ]
     },
     "execution_count": 12,
     "metadata": {},
     "output_type": "execute_result"
    },
    {
     "data": {
      "image/png": "[encoded data removed]",
      "text/plain": [
       "<Figure size 1440x720 with 1 Axes>"
      ]
     },
     "metadata": {
      "needs_background": "light"
     },
     "output_type": "display_data"
    }
   ],
   "source": [
    "import seaborn as sns\n",
    "sns.countplot(x=\"Indo_num_words\", data=concatenated_df)"
   ]
  },
  {
   "cell_type": "code",
   "execution_count": 17,
   "metadata": {},
   "outputs": [
    {
     "data": {
      "text/plain": [
       "61"
      ]
     },
     "execution_count": 17,
     "metadata": {},
     "output_type": "execute_result"
    }
   ],
   "source": [
    "above_78 = concatenated_df[concatenated_df[\"English_num_words\"]>78][\"English_num_words\"].count()\n",
    "above_78"
   ]
  },
  {
   "cell_type": "code",
   "execution_count": 19,
   "metadata": {},
   "outputs": [
    {
     "data": {
      "text/plain": [
       "(27, 4)"
      ]
     },
     "execution_count": 19,
     "metadata": {},
     "output_type": "execute_result"
    }
   ],
   "source": [
    "above_78_indo_df = concatenated_df[concatenated_df[\"Indo_num_words\"]>78]\n",
    "above_78_indo_df.head()\n",
    "above_78_indo_df.shape"
   ]
  },
  {
   "cell_type": "code",
   "execution_count": 20,
   "metadata": {},
   "outputs": [
    {
     "data": {
      "text/html": [
       "<div>\n",
       "<style scoped>\n",
       "    .dataframe tbody tr th:only-of-type {\n",
       "        vertical-align: middle;\n",
       "    }\n",
       "\n",
       "    .dataframe tbody tr th {\n",
       "        vertical-align: top;\n",
       "    }\n",
       "\n",
       "    .dataframe thead th {\n",
       "        text-align: right;\n",
       "    }\n",
       "</style>\n",
       "<table border=\"1\" class=\"dataframe\">\n",
       "  <thead>\n",
       "    <tr style=\"text-align: right;\">\n",
       "      <th></th>\n",
       "      <th>English</th>\n",
       "      <th>Indonesian</th>\n",
       "      <th>English_num_words</th>\n",
       "      <th>Indo_num_words</th>\n",
       "    </tr>\n",
       "  </thead>\n",
       "  <tbody>\n",
       "    <tr>\n",
       "      <th>458</th>\n",
       "      <td>AusAID developed programs in health, education...</td>\n",
       "      <td>AusAID mengembangkan berbagai program di bidan...</td>\n",
       "      <td>85</td>\n",
       "      <td>83</td>\n",
       "    </tr>\n",
       "    <tr>\n",
       "      <th>735</th>\n",
       "      <td>Following an Indonesian Government allocation ...</td>\n",
       "      <td>Sehubungan dengan alokasi dana dari Pemerintah...</td>\n",
       "      <td>80</td>\n",
       "      <td>76</td>\n",
       "    </tr>\n",
       "    <tr>\n",
       "      <th>1052</th>\n",
       "      <td>Indonesia’s National Access to Justice Strateg...</td>\n",
       "      <td>Strategi Nasional Indonesia untuk Akses terhad...</td>\n",
       "      <td>95</td>\n",
       "      <td>96</td>\n",
       "    </tr>\n",
       "    <tr>\n",
       "      <th>1376</th>\n",
       "      <td>Donors are not being asked to contribute to di...</td>\n",
       "      <td>Para donor tidak diminta untuk memberikan kont...</td>\n",
       "      <td>98</td>\n",
       "      <td>89</td>\n",
       "    </tr>\n",
       "    <tr>\n",
       "      <th>1899</th>\n",
       "      <td>The ISP will be reimbursed for costs including...</td>\n",
       "      <td>ISP akan direimburse untuk biaya, termasuk nam...</td>\n",
       "      <td>86</td>\n",
       "      <td>81</td>\n",
       "    </tr>\n",
       "  </tbody>\n",
       "</table>\n",
       "</div>"
      ],
      "text/plain": [
       "                                                English  \\\n",
       "458   AusAID developed programs in health, education...   \n",
       "735   Following an Indonesian Government allocation ...   \n",
       "1052  Indonesia’s National Access to Justice Strateg...   \n",
       "1376  Donors are not being asked to contribute to di...   \n",
       "1899  The ISP will be reimbursed for costs including...   \n",
       "\n",
       "                                             Indonesian  English_num_words  \\\n",
       "458   AusAID mengembangkan berbagai program di bidan...                 85   \n",
       "735   Sehubungan dengan alokasi dana dari Pemerintah...                 80   \n",
       "1052  Strategi Nasional Indonesia untuk Akses terhad...                 95   \n",
       "1376  Para donor tidak diminta untuk memberikan kont...                 98   \n",
       "1899  ISP akan direimburse untuk biaya, termasuk nam...                 86   \n",
       "\n",
       "      Indo_num_words  \n",
       "458               83  \n",
       "735               76  \n",
       "1052              96  \n",
       "1376              89  \n",
       "1899              81  "
      ]
     },
     "execution_count": 20,
     "metadata": {},
     "output_type": "execute_result"
    }
   ],
   "source": [
    "overall_above_78 = concatenated_df[(concatenated_df[\"Indo_num_words\"]>78) | (concatenated_df[\"English_num_words\"]>78)]\n",
    "overall_above_78.head()"
   ]
  },
  {
   "cell_type": "code",
   "execution_count": 21,
   "metadata": {},
   "outputs": [
    {
     "data": {
      "text/plain": [
       "(67, 4)"
      ]
     },
     "execution_count": 21,
     "metadata": {},
     "output_type": "execute_result"
    }
   ],
   "source": [
    "overall_above_78.shape"
   ]
  },
  {
   "cell_type": "code",
   "execution_count": 22,
   "metadata": {},
   "outputs": [
    {
     "data": {
      "text/html": [
       "<div>\n",
       "<style scoped>\n",
       "    .dataframe tbody tr th:only-of-type {\n",
       "        vertical-align: middle;\n",
       "    }\n",
       "\n",
       "    .dataframe tbody tr th {\n",
       "        vertical-align: top;\n",
       "    }\n",
       "\n",
       "    .dataframe thead th {\n",
       "        text-align: right;\n",
       "    }\n",
       "</style>\n",
       "<table border=\"1\" class=\"dataframe\">\n",
       "  <thead>\n",
       "    <tr style=\"text-align: right;\">\n",
       "      <th></th>\n",
       "      <th>English</th>\n",
       "      <th>Indonesian</th>\n",
       "      <th>English_num_words</th>\n",
       "      <th>Indo_num_words</th>\n",
       "    </tr>\n",
       "  </thead>\n",
       "  <tbody>\n",
       "    <tr>\n",
       "      <th>0</th>\n",
       "      <td>Introduction: 2007 year in review</td>\n",
       "      <td>Pendahuluan: Tahun peninjauan 2007</td>\n",
       "      <td>6</td>\n",
       "      <td>5</td>\n",
       "    </tr>\n",
       "    <tr>\n",
       "      <th>1</th>\n",
       "      <td>2007 was another significant year for the Aust...</td>\n",
       "      <td>2007 kembali menjadi tahun yang signifikan bag...</td>\n",
       "      <td>11</td>\n",
       "      <td>11</td>\n",
       "    </tr>\n",
       "    <tr>\n",
       "      <th>2</th>\n",
       "      <td>Reconstruction after the 2004 Boxing Day tsuna...</td>\n",
       "      <td>Rekonstruksi yang dilakukan setelah terjadinya...</td>\n",
       "      <td>23</td>\n",
       "      <td>25</td>\n",
       "    </tr>\n",
       "    <tr>\n",
       "      <th>3</th>\n",
       "      <td>This work was the centrepiece of the $1 billio...</td>\n",
       "      <td>Ini merupakan pekerjaan inti dari Kemitraan Au...</td>\n",
       "      <td>32</td>\n",
       "      <td>27</td>\n",
       "    </tr>\n",
       "    <tr>\n",
       "      <th>4</th>\n",
       "      <td>AIPRD also includes large-scale social and eco...</td>\n",
       "      <td>AIPRD juga mencakup program pengembangan ekono...</td>\n",
       "      <td>12</td>\n",
       "      <td>13</td>\n",
       "    </tr>\n",
       "  </tbody>\n",
       "</table>\n",
       "</div>"
      ],
      "text/plain": [
       "                                             English  \\\n",
       "0                 Introduction: 2007 year in review    \n",
       "1  2007 was another significant year for the Aust...   \n",
       "2  Reconstruction after the 2004 Boxing Day tsuna...   \n",
       "3  This work was the centrepiece of the $1 billio...   \n",
       "4  AIPRD also includes large-scale social and eco...   \n",
       "\n",
       "                                          Indonesian  English_num_words  \\\n",
       "0                Pendahuluan: Tahun peninjauan 2007                   6   \n",
       "1  2007 kembali menjadi tahun yang signifikan bag...                 11   \n",
       "2  Rekonstruksi yang dilakukan setelah terjadinya...                 23   \n",
       "3  Ini merupakan pekerjaan inti dari Kemitraan Au...                 32   \n",
       "4  AIPRD juga mencakup program pengembangan ekono...                 12   \n",
       "\n",
       "   Indo_num_words  \n",
       "0               5  \n",
       "1              11  \n",
       "2              25  \n",
       "3              27  \n",
       "4              13  "
      ]
     },
     "execution_count": 22,
     "metadata": {},
     "output_type": "execute_result"
    }
   ],
   "source": [
    "trimmed_concatenated_df = concatenated_df[(concatenated_df[\"Indo_num_words\"]<=78) & (concatenated_df[\"English_num_words\"]<=78)]\n",
    "trimmed_concatenated_df.head()"
   ]
  },
  {
   "cell_type": "code",
   "execution_count": 23,
   "metadata": {},
   "outputs": [
    {
     "data": {
      "text/plain": [
       "(40302, 4)"
      ]
     },
     "execution_count": 23,
     "metadata": {},
     "output_type": "execute_result"
    }
   ],
   "source": [
    "trimmed_concatenated_df.shape"
   ]
  },
  {
   "cell_type": "markdown",
   "metadata": {},
   "source": [
    "## The below is the combined dataset where the number of words for English and Indonesian are less than or equal to 78"
   ]
  },
  {
   "cell_type": "code",
   "execution_count": 24,
   "metadata": {},
   "outputs": [],
   "source": [
    "trimmed_concatenated_df.to_csv(\"./corpus/trimmed_combined.csv\", index=False)"
   ]
  },
  {
   "cell_type": "code",
   "execution_count": 3,
   "metadata": {},
   "outputs": [],
   "source": [
    "data = pd.read_csv('./corpus/trimmed_combined.csv')"
   ]
  },
  {
   "cell_type": "code",
   "execution_count": 5,
   "metadata": {},
   "outputs": [
    {
     "name": "stdout",
     "output_type": "stream",
     "text": [
      "                                             English  \\\n",
      "0                 Introduction: 2007 year in review    \n",
      "1  2007 was another significant year for the Aust...   \n",
      "2  Reconstruction after the 2004 Boxing Day tsuna...   \n",
      "3  This work was the centrepiece of the $1 billio...   \n",
      "4  AIPRD also includes large-scale social and eco...   \n",
      "\n",
      "                                          Indonesian  English_num_words  \\\n",
      "0                Pendahuluan: Tahun peninjauan 2007                   6   \n",
      "1  2007 kembali menjadi tahun yang signifikan bag...                 11   \n",
      "2  Rekonstruksi yang dilakukan setelah terjadinya...                 23   \n",
      "3  Ini merupakan pekerjaan inti dari Kemitraan Au...                 32   \n",
      "4  AIPRD juga mencakup program pengembangan ekono...                 12   \n",
      "\n",
      "   Indo_num_words  \n",
      "0               5  \n",
      "1              11  \n",
      "2              25  \n",
      "3              27  \n",
      "4              13  \n",
      "(40302, 4)\n"
     ]
    }
   ],
   "source": [
    "print(data.head())\n",
    "print(data.shape)"
   ]
  },
  {
   "cell_type": "code",
   "execution_count": 6,
   "metadata": {},
   "outputs": [],
   "source": [
    "#From our initial Data Exploration, it is noted that we have found duplicates in the corupus.\n",
    "#As such, we have removed them by dropping the duplicates using the Pandas fucntion.\n",
    "\n",
    "data.drop_duplicates(subset =\"English\", \n",
    "                     keep = False, inplace = True)"
   ]
  },
  {
   "cell_type": "code",
   "execution_count": 7,
   "metadata": {},
   "outputs": [
    {
     "name": "stdout",
     "output_type": "stream",
     "text": [
      "(39232, 4)\n"
     ]
    }
   ],
   "source": [
    "print(data.shape)"
   ]
  },
  {
   "cell_type": "code",
   "execution_count": 8,
   "metadata": {},
   "outputs": [],
   "source": [
    "data.to_csv(\"./corpus/trimmed_combined_no_duplicate.csv\", index=False)"
   ]
  },
  {
   "cell_type": "code",
   "execution_count": null,
   "metadata": {},
   "outputs": [],
   "source": []
  }
 ],
 "metadata": {
  "kernelspec": {
   "display_name": "Python 3",
   "language": "python",
   "name": "python3"
  },
  "language_info": {
   "codemirror_mode": {
    "name": "ipython",
    "version": 3
   },
   "file_extension": ".py",
   "mimetype": "text/x-python",
   "name": "python",
   "nbconvert_exporter": "python",
   "pygments_lexer": "ipython3",
   "version": "3.6.5"
  }
 },
 "nbformat": 4,
 "nbformat_minor": 2
}
