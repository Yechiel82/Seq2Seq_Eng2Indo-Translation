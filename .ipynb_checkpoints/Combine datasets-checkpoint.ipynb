{
 "cells": [
  {
   "cell_type": "code",
   "execution_count": 2,
   "metadata": {},
   "outputs": [],
   "source": [
    "import pandas as pd\n",
    "import matplotlib.pyplot as plt\n",
    "from gensim.corpora.dictionary import Dictionary\n",
    "from nltk import word_tokenize\n",
    "%matplotlib inline"
   ]
  },
  {
   "cell_type": "code",
   "execution_count": 6,
   "metadata": {},
   "outputs": [],
   "source": [
    "all_english_corpus = [\"ausaid-3083.en\", \"bbc-468.en\", \"odb-9826.en\", \"SMERU-26870.en\"]\n",
    "all_indo_corpus = [\"ausaid-3083.id\", \"bbc-468.id\", \"odb-9826.id\", \"SMERU-26870.id\"]"
   ]
  },
  {
   "cell_type": "code",
   "execution_count": 11,
   "metadata": {},
   "outputs": [],
   "source": [
    "concatenated_df = None\n",
    "\n",
    "for itr in range(len(all_english_corpus)):\n",
    "    english_corpus_name = all_english_corpus[itr]\n",
    "    indo_corpus_name = all_indo_corpus[itr]\n",
    "    \n",
    "    eng_text_df, indo_text_df = None, None\n",
    "    \n",
    "    with open(\"./corpus/\" + english_corpus_name) as fp:\n",
    "        eng_text = fp.read()\n",
    "        eng_text = eng_text.splitlines()\n",
    "        eng_text_df = pd.DataFrame(eng_text)\n",
    "        eng_text_df = eng_text_df.rename(columns={0:'English'})\n",
    "        #print(eng_text_df.head())\n",
    "        # df_eng_text = df_eng_text.rename(columns={0:'English'})\n",
    "        \n",
    "    with open(\"./corpus/\" + indo_corpus_name) as fp:\n",
    "        indo_text = fp.read()\n",
    "        indo_text = indo_text.splitlines()\n",
    "        indo_text_df = pd.DataFrame(indo_text)\n",
    "        indo_text_df = indo_text_df.rename(columns={0:'Indonesian'})\n",
    "        #print(indo_text_df.head())\n",
    "        # df_eng_text = df_eng_text.rename(columns={0:'English'})   \n",
    "        \n",
    "    eng_text_df['English'] = eng_text_df['English'].apply(lambda x : x.lstrip())\n",
    "    indo_text_df['Indonesian'] = indo_text_df['Indonesian'].apply(lambda x : x.lstrip())\n",
    "    \n",
    "    # Merge the English and Indo datasets\n",
    "    df = pd.concat([eng_text_df, indo_text_df], axis=1)\n",
    "    \n",
    "    # merge the different datasets\n",
    "    concatenated_df = pd.concat([concatenated_df, df], axis = 0)\n",
    "    #print(df.head())"
   ]
  },
  {
   "cell_type": "code",
   "execution_count": 12,
   "metadata": {},
   "outputs": [
    {
     "data": {
      "text/html": [
       "<div>\n",
       "<style scoped>\n",
       "    .dataframe tbody tr th:only-of-type {\n",
       "        vertical-align: middle;\n",
       "    }\n",
       "\n",
       "    .dataframe tbody tr th {\n",
       "        vertical-align: top;\n",
       "    }\n",
       "\n",
       "    .dataframe thead th {\n",
       "        text-align: right;\n",
       "    }\n",
       "</style>\n",
       "<table border=\"1\" class=\"dataframe\">\n",
       "  <thead>\n",
       "    <tr style=\"text-align: right;\">\n",
       "      <th></th>\n",
       "      <th>English</th>\n",
       "      <th>Indonesian</th>\n",
       "    </tr>\n",
       "  </thead>\n",
       "  <tbody>\n",
       "    <tr>\n",
       "      <th>0</th>\n",
       "      <td>Introduction: 2007 year in review</td>\n",
       "      <td>Pendahuluan: Tahun peninjauan 2007</td>\n",
       "    </tr>\n",
       "    <tr>\n",
       "      <th>1</th>\n",
       "      <td>2007 was another significant year for the Aust...</td>\n",
       "      <td>2007 kembali menjadi tahun yang signifikan bag...</td>\n",
       "    </tr>\n",
       "    <tr>\n",
       "      <th>2</th>\n",
       "      <td>Reconstruction after the 2004 Boxing Day tsuna...</td>\n",
       "      <td>Rekonstruksi yang dilakukan setelah terjadinya...</td>\n",
       "    </tr>\n",
       "    <tr>\n",
       "      <th>3</th>\n",
       "      <td>This work was the centrepiece of the $1 billio...</td>\n",
       "      <td>Ini merupakan pekerjaan inti dari Kemitraan Au...</td>\n",
       "    </tr>\n",
       "    <tr>\n",
       "      <th>4</th>\n",
       "      <td>AIPRD also includes large-scale social and eco...</td>\n",
       "      <td>AIPRD juga mencakup program pengembangan ekono...</td>\n",
       "    </tr>\n",
       "  </tbody>\n",
       "</table>\n",
       "</div>"
      ],
      "text/plain": [
       "                                             English  \\\n",
       "0                 Introduction: 2007 year in review    \n",
       "1  2007 was another significant year for the Aust...   \n",
       "2  Reconstruction after the 2004 Boxing Day tsuna...   \n",
       "3  This work was the centrepiece of the $1 billio...   \n",
       "4  AIPRD also includes large-scale social and eco...   \n",
       "\n",
       "                                          Indonesian  \n",
       "0                Pendahuluan: Tahun peninjauan 2007   \n",
       "1  2007 kembali menjadi tahun yang signifikan bag...  \n",
       "2  Rekonstruksi yang dilakukan setelah terjadinya...  \n",
       "3  Ini merupakan pekerjaan inti dari Kemitraan Au...  \n",
       "4  AIPRD juga mencakup program pengembangan ekono...  "
      ]
     },
     "execution_count": 12,
     "metadata": {},
     "output_type": "execute_result"
    }
   ],
   "source": [
    "concatenated_df.head()"
   ]
  },
  {
   "cell_type": "code",
   "execution_count": 13,
   "metadata": {},
   "outputs": [
    {
     "data": {
      "text/plain": [
       "(40369, 2)"
      ]
     },
     "execution_count": 13,
     "metadata": {},
     "output_type": "execute_result"
    }
   ],
   "source": [
    "concatenated_df.shape"
   ]
  },
  {
   "cell_type": "code",
   "execution_count": 14,
   "metadata": {},
   "outputs": [
    {
     "data": {
      "text/html": [
       "<div>\n",
       "<style scoped>\n",
       "    .dataframe tbody tr th:only-of-type {\n",
       "        vertical-align: middle;\n",
       "    }\n",
       "\n",
       "    .dataframe tbody tr th {\n",
       "        vertical-align: top;\n",
       "    }\n",
       "\n",
       "    .dataframe thead th {\n",
       "        text-align: right;\n",
       "    }\n",
       "</style>\n",
       "<table border=\"1\" class=\"dataframe\">\n",
       "  <thead>\n",
       "    <tr style=\"text-align: right;\">\n",
       "      <th></th>\n",
       "      <th>English</th>\n",
       "      <th>Indonesian</th>\n",
       "    </tr>\n",
       "  </thead>\n",
       "  <tbody>\n",
       "    <tr>\n",
       "      <th>26961</th>\n",
       "      <td>Some of the respondents gave more than one sug...</td>\n",
       "      <td>Beberapa di antara responden memberi saran leb...</td>\n",
       "    </tr>\n",
       "    <tr>\n",
       "      <th>26962</th>\n",
       "      <td>Table 5 shows the kinds of suggestions conveye...</td>\n",
       "      <td>Jenis saran yang disampaikan responden berdasa...</td>\n",
       "    </tr>\n",
       "    <tr>\n",
       "      <th>26963</th>\n",
       "      <td>Some of the suggestions given by the responden...</td>\n",
       "      <td>Beberapa saran yang disampaikan oleh responden...</td>\n",
       "    </tr>\n",
       "    <tr>\n",
       "      <th>26964</th>\n",
       "      <td>However, the suggestion regarding the updating...</td>\n",
       "      <td>Akan tetapi saran tentang updating yang disamp...</td>\n",
       "    </tr>\n",
       "    <tr>\n",
       "      <th>26965</th>\n",
       "      <td>The next available data on the population cens...</td>\n",
       "      <td>Data sensus penduduk, misalnya, baru dapat dip...</td>\n",
       "    </tr>\n",
       "  </tbody>\n",
       "</table>\n",
       "</div>"
      ],
      "text/plain": [
       "                                                 English  \\\n",
       "26961  Some of the respondents gave more than one sug...   \n",
       "26962  Table 5 shows the kinds of suggestions conveye...   \n",
       "26963  Some of the suggestions given by the responden...   \n",
       "26964  However, the suggestion regarding the updating...   \n",
       "26965  The next available data on the population cens...   \n",
       "\n",
       "                                              Indonesian  \n",
       "26961  Beberapa di antara responden memberi saran leb...  \n",
       "26962  Jenis saran yang disampaikan responden berdasa...  \n",
       "26963  Beberapa saran yang disampaikan oleh responden...  \n",
       "26964  Akan tetapi saran tentang updating yang disamp...  \n",
       "26965  Data sensus penduduk, misalnya, baru dapat dip...  "
      ]
     },
     "execution_count": 14,
     "metadata": {},
     "output_type": "execute_result"
    }
   ],
   "source": [
    "concatenated_df.tail()"
   ]
  },
  {
   "cell_type": "code",
   "execution_count": 15,
   "metadata": {},
   "outputs": [],
   "source": [
    "concatenated_df.to_csv(\"./corpus/combined.csv\", index=False)"
   ]
  },
  {
   "cell_type": "code",
   "execution_count": null,
   "metadata": {},
   "outputs": [],
   "source": []
  }
 ],
 "metadata": {
  "kernelspec": {
   "display_name": "nlp",
   "language": "python",
   "name": "nlp"
  },
  "language_info": {
   "codemirror_mode": {
    "name": "ipython",
    "version": 3
   },
   "file_extension": ".py",
   "mimetype": "text/x-python",
   "name": "python",
   "nbconvert_exporter": "python",
   "pygments_lexer": "ipython3",
   "version": "3.7.2"
  }
 },
 "nbformat": 4,
 "nbformat_minor": 2
}
