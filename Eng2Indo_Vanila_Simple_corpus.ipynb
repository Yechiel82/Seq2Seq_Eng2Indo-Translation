{
 "cells": [
  {
   "cell_type": "markdown",
   "metadata": {
    "colab_type": "text",
    "id": "gDr-usY9p-V7"
   },
   "source": [
    "## English to Indonesian translation using attention"
   ]
  },
  {
   "cell_type": "code",
   "execution_count": null,
   "metadata": {
    "colab": {},
    "colab_type": "code",
    "id": "pIR6m0HWp-V8",
    "pycharm": {}
   },
   "outputs": [],
   "source": [
    "from __future__ import unicode_literals, print_function, division\n",
    "from io import open\n",
    "import unicodedata\n",
    "import string\n",
    "import re\n",
    "import random\n",
    "import os\n",
    "from nltk.translate.bleu_score import sentence_bleu\n",
    "import torch\n",
    "import torch.nn as nn\n",
    "from torch import optim\n",
    "import torch.nn.functional as F\n",
    "from torch.autograd import Variable"
   ]
  },
  {
   "cell_type": "code",
   "execution_count": 2,
   "metadata": {
    "colab": {},
    "colab_type": "code",
    "id": "oeRMKk0hp-V_",
    "pycharm": {}
   },
   "outputs": [],
   "source": [
    "import torch\n",
    "import torch.nn as nn\n",
    "from torch import optim\n",
    "import torch.nn.functional as F\n",
    "from torch.autograd import Variable\n",
    "\n",
    "# Loss function: https://pytorch.org/docs/stable/nn.html#torch.nn.NLLLoss\n",
    "\n",
    "device = torch.device(\"cuda\" if torch.cuda.is_available() else \"cpu\")\n",
    "use_cuda = torch.cuda.is_available()"
   ]
  },
  {
   "cell_type": "code",
   "execution_count": 3,
   "metadata": {
    "colab": {},
    "colab_type": "code",
    "id": "6BwzOdjOp-WB",
    "pycharm": {}
   },
   "outputs": [],
   "source": [
    "import pandas as pd\n",
    "from gensim.corpora.dictionary import Dictionary\n",
    "from nltk import word_tokenize"
   ]
  },
  {
   "cell_type": "code",
   "execution_count": 4,
   "metadata": {
    "colab": {
     "base_uri": "https://localhost:8080/",
     "height": 215
    },
    "colab_type": "code",
    "id": "P6eOyoJEp-WE",
    "outputId": "12c20a2d-620e-4989-8b30-55c2bd0d59a3",
    "pycharm": {}
   },
   "outputs": [
    {
     "name": "stdout",
     "output_type": "stream",
     "text": [
      "(15531, 2)\n"
     ]
    },
    {
     "data": {
      "text/html": [
       "<div>\n",
       "<style scoped>\n",
       "    .dataframe tbody tr th:only-of-type {\n",
       "        vertical-align: middle;\n",
       "    }\n",
       "\n",
       "    .dataframe tbody tr th {\n",
       "        vertical-align: top;\n",
       "    }\n",
       "\n",
       "    .dataframe thead th {\n",
       "        text-align: right;\n",
       "    }\n",
       "</style>\n",
       "<table border=\"1\" class=\"dataframe\">\n",
       "  <thead>\n",
       "    <tr style=\"text-align: right;\">\n",
       "      <th></th>\n",
       "      <th>English</th>\n",
       "      <th>Indonesian</th>\n",
       "    </tr>\n",
       "  </thead>\n",
       "  <tbody>\n",
       "    <tr>\n",
       "      <th>0</th>\n",
       "      <td>run !</td>\n",
       "      <td>lari !</td>\n",
       "    </tr>\n",
       "    <tr>\n",
       "      <th>1</th>\n",
       "      <td>who ?</td>\n",
       "      <td>siapa ?</td>\n",
       "    </tr>\n",
       "    <tr>\n",
       "      <th>2</th>\n",
       "      <td>wow !</td>\n",
       "      <td>wow !</td>\n",
       "    </tr>\n",
       "    <tr>\n",
       "      <th>3</th>\n",
       "      <td>help !</td>\n",
       "      <td>tolong !</td>\n",
       "    </tr>\n",
       "    <tr>\n",
       "      <th>4</th>\n",
       "      <td>jump !</td>\n",
       "      <td>lompat !</td>\n",
       "    </tr>\n",
       "  </tbody>\n",
       "</table>\n",
       "</div>"
      ],
      "text/plain": [
       "  English Indonesian\n",
       "0   run !     lari !\n",
       "1   who ?    siapa ?\n",
       "2   wow !      wow !\n",
       "3  help !   tolong !\n",
       "4  jump !   lompat !"
      ]
     },
     "execution_count": 4,
     "metadata": {},
     "output_type": "execute_result"
    }
   ],
   "source": [
    "fp = open('./corpus/eng-indo-augmented.txt', 'r')\n",
    "text = fp.read()\n",
    "text = text.splitlines()\n",
    "fp.close()\n",
    "\n",
    "# Turn a Unicode string to plain ASCII, thanks to\n",
    "# https://stackoverflow.com/a/518232/2809427\n",
    "def unicodeToAscii(s):\n",
    "    return ''.join(\n",
    "        c for c in unicodedata.normalize('NFD', s)\n",
    "        if unicodedata.category(c) != 'Mn'\n",
    "    )\n",
    "\n",
    "# Lowercase, trim, and remove non-letter characters\n",
    "\n",
    "\n",
    "def normalizeString(s):\n",
    "    s = unicodeToAscii(s.lower().strip())\n",
    "    s = re.sub(r\"([.!?])\", r\" \\1\", s)\n",
    "    s = re.sub(r\"[^a-zA-Z.!?]+\", r\" \", s)\n",
    "    return s\n",
    "\n",
    "\n",
    "text_dict = {\"English\": [], \"Indonesian\": []}\n",
    "for l in text:\n",
    "    split_text = l.split(\"\\t\")\n",
    "    text_dict[\"English\"].append(normalizeString(split_text[0]))\n",
    "    text_dict[\"Indonesian\"].append(normalizeString(split_text[1]))\n",
    "    \n",
    "df = pd.DataFrame.from_dict(text_dict)\n",
    "print(df.shape)\n",
    "df.head()"
   ]
  },
  {
   "cell_type": "code",
   "execution_count": 5,
   "metadata": {
    "colab": {},
    "colab_type": "code",
    "id": "eGVYxutbp-WG",
    "pycharm": {}
   },
   "outputs": [],
   "source": [
    "MAX_LENGTH = 25\n",
    "MIN_LENGTH = 4"
   ]
  },
  {
   "cell_type": "code",
   "execution_count": 6,
   "metadata": {
    "colab": {
     "base_uri": "https://localhost:8080/",
     "height": 251
    },
    "colab_type": "code",
    "id": "i0YKRNLpp-WI",
    "outputId": "a7b15194-f0e0-46e8-f6cc-688f2428cfe1",
    "pycharm": {}
   },
   "outputs": [
    {
     "name": "stdout",
     "output_type": "stream",
     "text": [
      "(15531, 3)\n",
      "Current shape: (15531, 3)\n",
      "New shape: (15526, 3)\n"
     ]
    },
    {
     "data": {
      "text/html": [
       "<div>\n",
       "<style scoped>\n",
       "    .dataframe tbody tr th:only-of-type {\n",
       "        vertical-align: middle;\n",
       "    }\n",
       "\n",
       "    .dataframe tbody tr th {\n",
       "        vertical-align: top;\n",
       "    }\n",
       "\n",
       "    .dataframe thead th {\n",
       "        text-align: right;\n",
       "    }\n",
       "</style>\n",
       "<table border=\"1\" class=\"dataframe\">\n",
       "  <thead>\n",
       "    <tr style=\"text-align: right;\">\n",
       "      <th></th>\n",
       "      <th>index</th>\n",
       "      <th>English</th>\n",
       "      <th>Indonesian</th>\n",
       "    </tr>\n",
       "  </thead>\n",
       "  <tbody>\n",
       "    <tr>\n",
       "      <th>0</th>\n",
       "      <td>0</td>\n",
       "      <td>run !</td>\n",
       "      <td>lari !</td>\n",
       "    </tr>\n",
       "    <tr>\n",
       "      <th>1</th>\n",
       "      <td>1</td>\n",
       "      <td>who ?</td>\n",
       "      <td>siapa ?</td>\n",
       "    </tr>\n",
       "    <tr>\n",
       "      <th>2</th>\n",
       "      <td>2</td>\n",
       "      <td>wow !</td>\n",
       "      <td>wow !</td>\n",
       "    </tr>\n",
       "    <tr>\n",
       "      <th>3</th>\n",
       "      <td>3</td>\n",
       "      <td>help !</td>\n",
       "      <td>tolong !</td>\n",
       "    </tr>\n",
       "    <tr>\n",
       "      <th>4</th>\n",
       "      <td>4</td>\n",
       "      <td>jump !</td>\n",
       "      <td>lompat !</td>\n",
       "    </tr>\n",
       "  </tbody>\n",
       "</table>\n",
       "</div>"
      ],
      "text/plain": [
       "   index English Indonesian\n",
       "0      0   run !     lari !\n",
       "1      1   who ?    siapa ?\n",
       "2      2   wow !      wow !\n",
       "3      3  help !   tolong !\n",
       "4      4  jump !   lompat !"
      ]
     },
     "execution_count": 6,
     "metadata": {},
     "output_type": "execute_result"
    }
   ],
   "source": [
    "eng_prefixes = (\n",
    "    \"i am \", \"i m \",\n",
    "    \"he is\", \"he s \",\n",
    "    \"she is\", \"she s\",\n",
    "    \"you are\", \"you re \",\n",
    "    \"we are\", \"we re \",\n",
    "    \"they are\", \"they re \",\n",
    "    \"tom is\", \"tom s\",\n",
    "    \"what s\", \"what a\",\n",
    "   \"are you\", \"do you\",\n",
    "   \"what is\", \"tom was\",\n",
    "   \"don t\", \"it s\", \"where s\",\n",
    "   \"where did\", \"where is\",\n",
    ")\n",
    "\n",
    "def should_keep_row(row):\n",
    "    \"\"\" Should the current row be kept as training set\"\"\"\n",
    "    # indo_num_words = len(word_tokenize(row[\"Indonesian\"]))\n",
    "    eng_num_words = len(word_tokenize(row[\"English\"]))\n",
    "    max_words_required = MAX_LENGTH - 2\n",
    "\n",
    "    return eng_num_words <= max_words_required\n",
    "\n",
    "df[\"keep_row\"] = df.apply(should_keep_row, axis=1)\n",
    "print(df.shape)\n",
    "df.head()\n",
    "\n",
    "print(\"Current shape: \" + str(df.shape))\n",
    "df = df[df[\"keep_row\"]]\n",
    "print(\"New shape: \" + str(df.shape))\n",
    "df.head()\n",
    "df = df.reset_index().drop(columns=[\"keep_row\"])\n",
    "df.head()"
   ]
  },
  {
   "cell_type": "code",
   "execution_count": 7,
   "metadata": {
    "colab": {
     "base_uri": "https://localhost:8080/",
     "height": 230
    },
    "colab_type": "code",
    "id": "pHnwWXPlp-WM",
    "outputId": "aaa5de9c-bb0e-4a39-d5a4-165d3d4889b8",
    "pycharm": {}
   },
   "outputs": [
    {
     "name": "stdout",
     "output_type": "stream",
     "text": [
      "First English sentence: ['<s>', 'run', '!', '</s>']\n",
      "First Indo sentence: ['<s>', 'lari', '!', '</s>']\n",
      "First 10 Indonesian words in Dictionary:\n",
      " [(0, '<s>'), (1, '</s>'), (2, 'UNK'), (3, '!'), (4, 'lari'), (5, '?'), (6, 'siapa'), (7, 'wow'), (8, 'tolong'), (9, 'lompat')]\n",
      "\n",
      "First 10 English words in Dictionary:\n",
      " [(0, '<s>'), (1, '</s>'), (2, 'UNK'), (3, '!'), (4, 'run'), (5, '?'), (6, 'who'), (7, 'wow'), (8, 'help'), (9, 'jump')]\n",
      "First 10 Indonesian words in Dictionary:\n",
      " [(0, '<s>'), (1, '</s>'), (2, 'UNK'), (3, '!'), (4, 'lari'), (5, '?'), (6, 'siapa'), (7, 'wow'), (8, 'tolong'), (9, 'lompat')]\n",
      "\n",
      "First 10 English words in Dictionary:\n",
      " [(0, '<s>'), (1, '</s>'), (2, 'UNK'), (3, '!'), (4, 'run'), (5, '?'), (6, 'who'), (7, 'wow'), (8, 'help'), (9, 'jump')]\n"
     ]
    }
   ],
   "source": [
    "# Use a unique string to indicate START and END of a sentence.\n",
    "# Assign a unique index to them.\n",
    "START, START_IDX = '<s>',  0\n",
    "END, END_IDX = '</s>', 1\n",
    "UNK, UNK_IDX = 'UNK', 2\n",
    "\n",
    "SOS_token = START_IDX\n",
    "EOS_token = END_IDX\n",
    "\n",
    "# We use this idiom to tokenize our sentences in the dataframe column:\n",
    "# >>> DataFrame['column'].apply(str.lower).apply(word_tokenize)\n",
    "\n",
    "# Also we added the START and the END symbol to the sentences. \n",
    "english_sents = [START] + df['English'].apply(str.lower).apply(word_tokenize) + [END]\n",
    "indo_sents = [START] + df['Indonesian'].apply(str.lower).apply(word_tokenize) + [END]\n",
    "\n",
    "# We're sort of getting into the data into the shape we want. \n",
    "# But now it's still too humanly readable and redundant.\n",
    "## Cut-away: Computers like it to be simpler, more concise. -_-|||\n",
    "print('First English sentence:', english_sents[0])\n",
    "print('First Indo sentence:', indo_sents[0])\n",
    "\n",
    "english_vocab = Dictionary([['<s>'], ['</s>'],['UNK']])\n",
    "english_vocab.add_documents(english_sents)\n",
    "\n",
    "indo_vocab = Dictionary([['<s>'], ['</s>'], ['UNK']])\n",
    "indo_vocab.add_documents(indo_sents)\n",
    "\n",
    "# First ten words in the vocabulary.\n",
    "print('First 10 Indonesian words in Dictionary:\\n', sorted(indo_vocab.items())[:10])\n",
    "print()\n",
    "print('First 10 English words in Dictionary:\\n', sorted(english_vocab.items())[:10])\n",
    "\n",
    "english_vocab = Dictionary([['<s>'], ['</s>'],['UNK']])\n",
    "english_vocab.add_documents(english_sents)\n",
    "\n",
    "indo_vocab = Dictionary([['<s>'], ['</s>'], ['UNK']])\n",
    "indo_vocab.add_documents(indo_sents)\n",
    "\n",
    "# First ten words in the vocabulary.\n",
    "print('First 10 Indonesian words in Dictionary:\\n', sorted(indo_vocab.items())[:10])\n",
    "print()\n",
    "print('First 10 English words in Dictionary:\\n', sorted(english_vocab.items())[:10])"
   ]
  },
  {
   "cell_type": "markdown",
   "metadata": {
    "colab_type": "text",
    "id": "czemQI48p-WO"
   },
   "source": [
    "## BLEU score"
   ]
  },
  {
   "cell_type": "code",
   "execution_count": 8,
   "metadata": {
    "colab": {},
    "colab_type": "code",
    "id": "9a9U3uOlp-WP"
   },
   "outputs": [],
   "source": [
    "#input val_sent_pairs[0] english input to translate output is candidate\n",
    "#val_sent_pairs[1] reference \n",
    "def calculate_bleu_score(reference_sent,candidate_sent):\n",
    "    reference = [word_tokenize(reference_sent)]\n",
    "    candidate = word_tokenize(candidate_sent)\n",
    "    \n",
    "    if '<s>' in candidate:\n",
    "        candidate.remove('<s>')\n",
    "    if '</s>' in candidate:\n",
    "        candidate.remove('</s>')         \n",
    "    gram_1_score = sentence_bleu(reference,candidate,weights=(1, 0, 0, 0))\n",
    "    gram_2_score = sentence_bleu(reference,candidate,weights=(0.5, 0.5, 0, 0))\n",
    "    gram_3_score = sentence_bleu(reference,candidate,weights=(0.33, 0.33, 0.33, 0))\n",
    "    gram_4_score = sentence_bleu(reference,candidate,weights=(0.25, 0.25, 0.25, 0.25))\n",
    "    blue_score = (gram_1_score+gram_2_score+gram_3_score+gram_4_score)/4\n",
    "    #print(blue_score)\n",
    "    return blue_score"
   ]
  },
  {
   "cell_type": "code",
   "execution_count": 9,
   "metadata": {
    "colab": {},
    "colab_type": "code",
    "id": "ILYUNA9Bp-WR",
    "pycharm": {}
   },
   "outputs": [],
   "source": [
    "import pickle\n",
    "# Lets save our dictionaries.\n",
    "#with open('./vocabs/simple_indo_vocab.Dictionary.pkl', 'wb') as fout:\n",
    "#    pickle.dump(indo_vocab, fout)\n",
    "    \n",
    "#with open('./vocabs/simple_english_vocab.Dictionary.pkl', 'wb') as fout:\n",
    "#    pickle.dump(english_vocab, fout)"
   ]
  },
  {
   "cell_type": "code",
   "execution_count": 10,
   "metadata": {
    "colab": {
     "base_uri": "https://localhost:8080/",
     "height": 123
    },
    "colab_type": "code",
    "id": "HntAoFqGp-WW",
    "outputId": "f5435af6-697c-4fac-fb48-97cbbf8101b4",
    "pycharm": {}
   },
   "outputs": [
    {
     "data": {
      "text/plain": [
       "tensor([[  0],\n",
       "        [110],\n",
       "        [ 23],\n",
       "        [129],\n",
       "        [  5],\n",
       "        [  1]], device='cuda:0')"
      ]
     },
     "execution_count": 10,
     "metadata": {},
     "output_type": "execute_result"
    }
   ],
   "source": [
    "# Vectorizes a sentence with a given vocab\n",
    "def vectorize_sent(sent, vocab):\n",
    "    return vocab.doc2idx([START] + word_tokenize(sent.lower()) + [END], unknown_word_index=2)\n",
    "\n",
    "# Creates a PyTorch variable from a sentence against a given vocab\n",
    "def variable_from_sent(sent, vocab):\n",
    "    vsent = vectorize_sent(sent, vocab)\n",
    "    #print(vsent)\n",
    "    result = Variable(torch.LongTensor(vsent).view(-1, 1))\n",
    "    #print(result)\n",
    "    return result.cuda() if use_cuda else result\n",
    "\n",
    "# Test\n",
    "new_kopi = \"Is it love?\"\n",
    "variable_from_sent(new_kopi, english_vocab)"
   ]
  },
  {
   "cell_type": "markdown",
   "metadata": {
    "colab_type": "text",
    "id": "VJsfM5MRp-WZ",
    "pycharm": {}
   },
   "source": [
    "## Split into train and validation"
   ]
  },
  {
   "cell_type": "code",
   "execution_count": 11,
   "metadata": {
    "colab": {
     "base_uri": "https://localhost:8080/",
     "height": 87
    },
    "colab_type": "code",
    "id": "2FHDR32sp-WZ",
    "outputId": "a5a90cd0-a03f-4613-8838-dc16f3970cb7",
    "pycharm": {}
   },
   "outputs": [
    {
     "name": "stdout",
     "output_type": "stream",
     "text": [
      "(13197, 3)\n",
      "(2329, 3)\n",
      "jack telah diracuni .\n",
      "('jack has been poisoned .', 'jack telah diracuni .')\n"
     ]
    }
   ],
   "source": [
    "from sklearn.model_selection import train_test_split\n",
    "df_train, df_val = train_test_split(df, test_size=0.15)\n",
    "print(df_train.shape)\n",
    "print(df_val.shape)\n",
    "\n",
    "df_train = df_train.reset_index(drop=True)\n",
    "df_val = df_val.reset_index(drop=True)\n",
    "df_train.head()\n",
    "\n",
    "indo_tensors = df_train['Indonesian'].apply(lambda s: variable_from_sent(s, indo_vocab))\n",
    "print(df_train.iloc[0]['Indonesian'])\n",
    "df_train\n",
    "\n",
    "english_tensors = df_train['English'].apply(lambda s: variable_from_sent(s, english_vocab))\n",
    "#print(df_train.iloc[0]['English'])\n",
    "#print(english_tensors[0])\n",
    "# Now, each item in `sent_pairs` is our data point. \n",
    "#print(\"############################\")\n",
    "sent_pairs = list(zip(english_tensors.values, indo_tensors.values))\n",
    "#print(sent_pairs[:5])\n",
    "#print(\"############################\")\n",
    "pairs = list(zip(df_train['English'], df_train['Indonesian']))\n",
    "print(pairs[0])"
   ]
  },
  {
   "cell_type": "code",
   "execution_count": 12,
   "metadata": {
    "colab": {
     "base_uri": "https://localhost:8080/",
     "height": 34
    },
    "colab_type": "code",
    "id": "2z5n6tFjp-Wc",
    "outputId": "d0c9b1bc-2770-422d-eac1-a54a100a8d9a",
    "pycharm": {}
   },
   "outputs": [
    {
     "name": "stdout",
     "output_type": "stream",
     "text": [
      "('i know why mommy resigned .', 'aku tahu kenapa ibu mengundurkan diri .')\n"
     ]
    }
   ],
   "source": [
    "def get_validation_pairs(df_val_in): #MOD Anurag\n",
    "    indo_val_tensors = df_val_in['Indonesian'].apply(lambda s: variable_from_sent(s, indo_vocab))\n",
    "    english_val_tensors = df_val_in['English'].apply(lambda s: variable_from_sent(s, english_vocab))\n",
    "    val_sent_tensor_pairs = list(zip(english_val_tensors.values, indo_val_tensors.values))\n",
    "    val_sent_pairs = list(zip(df_val_in['English'], df_val_in['Indonesian']))\n",
    "    return val_sent_pairs, val_sent_tensor_pairs\n",
    "\n",
    "\n",
    "val_sent_pairs, val_sent_tensor_pairs = get_validation_pairs(df_val) #MOD Anurag\n",
    "print(val_sent_pairs[0])"
   ]
  },
  {
   "cell_type": "code",
   "execution_count": 13,
   "metadata": {
    "colab": {
     "base_uri": "https://localhost:8080/",
     "height": 34
    },
    "colab_type": "code",
    "id": "S5roJrm8p-Wf",
    "outputId": "c5adab0b-ad21-45aa-cc7c-e8862350c933",
    "pycharm": {}
   },
   "outputs": [
    {
     "name": "stdout",
     "output_type": "stream",
     "text": [
      "('john shut the drawer .', 'john menutup lacinya .')\n"
     ]
    }
   ],
   "source": [
    "print(val_sent_pairs[-1])"
   ]
  },
  {
   "cell_type": "code",
   "execution_count": 14,
   "metadata": {
    "colab": {
     "base_uri": "https://localhost:8080/",
     "height": 34
    },
    "colab_type": "code",
    "id": "apAoSCbup-Wh",
    "outputId": "06d68f39-46b1-4e77-9eb0-40a57780f286",
    "pycharm": {}
   },
   "outputs": [
    {
     "name": "stdout",
     "output_type": "stream",
     "text": [
      "('john begged mary not to leave .', 'john meminta mary untuk tidak pergi .')\n"
     ]
    }
   ],
   "source": [
    "print(val_sent_pairs[154])"
   ]
  },
  {
   "cell_type": "code",
   "execution_count": 15,
   "metadata": {
    "colab": {
     "base_uri": "https://localhost:8080/",
     "height": 158
    },
    "colab_type": "code",
    "id": "jhK0Iqjzp-Wj",
    "outputId": "d6e67a2c-fd59-471d-bdbd-a4b137b41e59",
    "pycharm": {}
   },
   "outputs": [
    {
     "name": "stdout",
     "output_type": "stream",
     "text": [
      "john begged mary not to leave .\n",
      "[1718]\n",
      "[1952]\n",
      "[557]\n",
      "[172]\n",
      "[154]\n",
      "[353]\n",
      "[10]\n"
     ]
    }
   ],
   "source": [
    "print(val_sent_pairs[154][0])\n",
    "\n",
    "for w in val_sent_pairs[154][0].split(' '):\n",
    "    print(english_vocab.doc2idx([w]))"
   ]
  },
  {
   "cell_type": "markdown",
   "metadata": {
    "colab_type": "text",
    "id": "TIMz1Kzfp-Wl",
    "pycharm": {}
   },
   "source": [
    "## Define model"
   ]
  },
  {
   "cell_type": "code",
   "execution_count": 16,
   "metadata": {
    "colab": {},
    "colab_type": "code",
    "id": "DLZyDHRZp-Wm",
    "pycharm": {}
   },
   "outputs": [],
   "source": [
    "class EncoderRNN(nn.Module):\n",
    "    def __init__(self, input_size, hidden_size):\n",
    "        super(EncoderRNN, self).__init__()\n",
    "        self.hidden_size = hidden_size\n",
    "\n",
    "        self.embedding = nn.Embedding(input_size, hidden_size)\n",
    "        self.gru = nn.GRU(hidden_size, hidden_size)\n",
    "\n",
    "    def forward(self, input, hidden):\n",
    "        embedded = self.embedding(input).view(1, 1, -1)\n",
    "        output = embedded\n",
    "        output, hidden = self.gru(output, hidden)\n",
    "        return output, hidden\n",
    "\n",
    "    def initHidden(self):\n",
    "        return torch.zeros(1, 1, self.hidden_size, device=device)\n",
    "\n",
    "class DecoderRNN(nn.Module):\n",
    "    def __init__(self, hidden_size, output_size):\n",
    "        super(DecoderRNN, self).__init__()\n",
    "        self.hidden_size = hidden_size\n",
    "\n",
    "        self.embedding = nn.Embedding(output_size, hidden_size)\n",
    "        self.gru = nn.GRU(hidden_size, hidden_size)\n",
    "        self.out = nn.Linear(hidden_size, output_size)\n",
    "        self.softmax = nn.LogSoftmax(dim=1)\n",
    "\n",
    "    def forward(self, input, hidden):\n",
    "        output = self.embedding(input).view(1, 1, -1)\n",
    "        output = F.relu(output)\n",
    "        output, hidden = self.gru(output, hidden)\n",
    "        output = self.softmax(self.out(output[0]))\n",
    "        return output, hidden\n",
    "\n",
    "    def initHidden(self):\n",
    "        return torch.zeros(1, 1, self.hidden_size, device=device)"
   ]
  },
  {
   "cell_type": "markdown",
   "metadata": {
    "colab_type": "text",
    "id": "2BYgy7OPp-Wo",
    "pycharm": {}
   },
   "source": [
    "## Get training and validation loss"
   ]
  },
  {
   "cell_type": "code",
   "execution_count": 17,
   "metadata": {
    "colab": {},
    "colab_type": "code",
    "id": "aisQ_LGVp-Wp",
    "pycharm": {}
   },
   "outputs": [],
   "source": [
    "teacher_forcing_ratio = 0.5\n",
    "\n",
    "\n",
    "def get_train_loss(input_tensor, target_tensor, encoder, decoder, encoder_optimizer, decoder_optimizer, criterion, max_length=MAX_LENGTH):\n",
    "    encoder_hidden = encoder.initHidden()\n",
    "\n",
    "    encoder_optimizer.zero_grad()\n",
    "    decoder_optimizer.zero_grad()\n",
    "\n",
    "    input_length = input_tensor.size(0)\n",
    "    target_length = target_tensor.size(0)\n",
    "    \n",
    "    #print(\"Train\")\n",
    "    #print(\"Input tensor shape: {0}\".format(input_tensor.shape))\n",
    "    #print(\"Target tensor shape: {0}\".format(target_tensor.shape))\n",
    "\n",
    "    encoder_outputs = torch.zeros(max_length, encoder.hidden_size, device=device)\n",
    "\n",
    "    loss = 0\n",
    "\n",
    "    for ei in range(input_length):\n",
    "        encoder_output, encoder_hidden = encoder(\n",
    "            input_tensor[ei], encoder_hidden)\n",
    "        encoder_outputs[ei] = encoder_output[0, 0]\n",
    "\n",
    "    decoder_input = torch.tensor([[SOS_token]], device=device)\n",
    "\n",
    "    decoder_hidden = encoder_hidden\n",
    "\n",
    "    use_teacher_forcing = True if random.random() < teacher_forcing_ratio else False\n",
    "\n",
    "    if use_teacher_forcing:\n",
    "        # Teacher forcing: Feed the target as the next input\n",
    "        for di in range(target_length):\n",
    "            decoder_output, decoder_hidden = decoder(decoder_input, decoder_hidden)\n",
    "            loss += criterion(decoder_output, target_tensor[di])\n",
    "            decoder_input = target_tensor[di]  # Teacher forcing\n",
    "\n",
    "    else:\n",
    "        # Without teacher forcing: use its own predictions as the next input\n",
    "        for di in range(target_length):\n",
    "            decoder_output, decoder_hidden = decoder(decoder_input, decoder_hidden)\n",
    "            topv, topi = decoder_output.topk(1)\n",
    "            decoder_input = topi.squeeze().detach()  # detach from history as input\n",
    "\n",
    "            loss += criterion(decoder_output, target_tensor[di])\n",
    "            if decoder_input.item() == EOS_token:\n",
    "                break\n",
    "\n",
    "    loss.backward()\n",
    "\n",
    "    encoder_optimizer.step()\n",
    "    decoder_optimizer.step()\n",
    "\n",
    "    return loss.item() / target_length\n",
    "\n",
    "def get_validation_loss(input_tensor, target_tensor, encoder, decoder, criterion, max_length=MAX_LENGTH):\n",
    "    encoder_hidden = encoder.initHidden()\n",
    "\n",
    "    input_length = input_tensor.size(0)\n",
    "    target_length = target_tensor.size(0)\n",
    "    \n",
    "    #print(\"Validation\")\n",
    "    #print(\"Input tensor shape: {0}\".format(input_tensor.shape))\n",
    "    #print(\"Target tensor shape: {0}\".format(target_tensor.shape))\n",
    "\n",
    "    encoder_outputs = torch.zeros(max_length, encoder.hidden_size, device=device)\n",
    "\n",
    "    total_loss = 0\n",
    "\n",
    "    for ei in range(input_length):\n",
    "        encoder_output, encoder_hidden = encoder(\n",
    "            input_tensor[ei], encoder_hidden)\n",
    "        encoder_outputs[ei] = encoder_output[0, 0]\n",
    "\n",
    "    decoder_input = torch.tensor([[SOS_token]], device=device)\n",
    "\n",
    "    decoder_hidden = encoder_hidden\n",
    "    \n",
    "    with torch.no_grad():\n",
    "        for di in range(target_length):\n",
    "            decoder_output, decoder_hidden = decoder(decoder_input, decoder_hidden)\n",
    "            topv, topi = decoder_output.topk(1)\n",
    "            decoder_input = topi.squeeze().detach()  # detach from history as input\n",
    "\n",
    "            loss = criterion(decoder_output, target_tensor[di])\n",
    "            total_loss += float(loss.item())\n",
    "            if decoder_input.item() == EOS_token:\n",
    "                break\n",
    "\n",
    "    return total_loss / target_length"
   ]
  },
  {
   "cell_type": "markdown",
   "metadata": {
    "colab_type": "text",
    "id": "sXA4vX8dp-Wr",
    "pycharm": {}
   },
   "source": [
    "## Utilities"
   ]
  },
  {
   "cell_type": "code",
   "execution_count": 18,
   "metadata": {
    "colab": {},
    "colab_type": "code",
    "id": "cAxSFCEXp-Ws",
    "pycharm": {}
   },
   "outputs": [],
   "source": [
    "import time\n",
    "import math\n",
    "\n",
    "\n",
    "def asMinutes(s):\n",
    "    m = math.floor(s / 60)\n",
    "    s -= m * 60\n",
    "    return '%dm %ds' % (m, s)\n",
    "\n",
    "\n",
    "def timeSince(since, percent):\n",
    "    now = time.time()\n",
    "    s = now - since\n",
    "    es = s / (percent)\n",
    "    rs = es - s\n",
    "    return '%s (- %s)' % (asMinutes(s), asMinutes(rs))\n",
    "\n",
    "\n",
    "SAVE_PATH = 'results/vanila_seq2seq'\n",
    "\n",
    "if not os.path.exists(SAVE_PATH):\n",
    "  os.makedirs(SAVE_PATH)\n",
    "\n",
    "import matplotlib.pyplot as plt\n",
    "plt.switch_backend('agg')\n",
    "import matplotlib.ticker as ticker\n",
    "import numpy as np\n",
    "\n",
    "\n",
    "def showPlot(points, filename): # pier mod\n",
    "    plt.figure()\n",
    "    fig, ax = plt.subplots()\n",
    "    # this locator puts ticks at regular intervals\n",
    "    loc = ticker.MultipleLocator(base=0.2)\n",
    "    ax.yaxis.set_major_locator(loc)\n",
    "    plt.plot(points)\n",
    "    plt.savefig(filename)"
   ]
  },
  {
   "cell_type": "code",
   "execution_count": 19,
   "metadata": {
    "colab": {},
    "colab_type": "code",
    "id": "YbjQrQPPp-Wv"
   },
   "outputs": [],
   "source": [
    "def evaluate(encoder, decoder, sentence, max_length=MAX_LENGTH):\n",
    "    with torch.no_grad():\n",
    "        # input_tensor = tensorFromSentence(input_lang, sentence)\n",
    "        input_tensor = variable_from_sent(sentence, english_vocab)\n",
    "        input_length = input_tensor.size()[0]\n",
    "        encoder_hidden = encoder.initHidden()\n",
    "\n",
    "        encoder_outputs = torch.zeros(max_length, encoder.hidden_size, device=device)\n",
    "\n",
    "        for ei in range(input_length):\n",
    "            encoder_output, encoder_hidden = encoder(input_tensor[ei],\n",
    "                                                     encoder_hidden)\n",
    "            encoder_outputs[ei] += encoder_output[0, 0]\n",
    "\n",
    "        decoder_input = torch.tensor([[SOS_token]], device=device)  # SOS\n",
    "\n",
    "        decoder_hidden = encoder_hidden\n",
    "\n",
    "        decoded_words = []\n",
    "\n",
    "        for di in range(max_length):\n",
    "            decoder_output, decoder_hidden = decoder(decoder_input, decoder_hidden)\n",
    "            topv, topi = decoder_output.data.topk(1)\n",
    "            if topi.item() == EOS_token:\n",
    "                decoded_words.append('</s>')\n",
    "                break\n",
    "            else:\n",
    "                decoded_words.append(indo_vocab.id2token[topi.item()])\n",
    "\n",
    "            decoder_input = topi.squeeze().detach()\n",
    "\n",
    "        return decoded_words"
   ]
  },
  {
   "cell_type": "code",
   "execution_count": 20,
   "metadata": {
    "colab": {},
    "colab_type": "code",
    "id": "nXUXH83fp-Wy"
   },
   "outputs": [],
   "source": [
    "def translate(input_sentence, enc, dec):\n",
    "    output_words = evaluate(enc, dec, input_sentence)\n",
    "#     print('input =', input_sentence)\n",
    "#     print('output =', ' '.join(output_words))\n",
    "    candidate = ' '.join(output_words)\n",
    "    return candidate"
   ]
  },
  {
   "cell_type": "markdown",
   "metadata": {
    "colab_type": "text",
    "id": "9qNoZvZHp-W0",
    "pycharm": {}
   },
   "source": [
    "## Training loop and get evaluation result"
   ]
  },
  {
   "cell_type": "code",
   "execution_count": 21,
   "metadata": {
    "colab": {},
    "colab_type": "code",
    "id": "DG9pppqwp-W1",
    "pycharm": {}
   },
   "outputs": [],
   "source": [
    "def trainIters(encoder, decoder, n_iters, batch_size=1, print_every=1000, save_every=1000, plot_every=100,\n",
    "               learning_rate=0.0001):\n",
    "    start = time.time()\n",
    "    plot_losses = []\n",
    "    val_losses = []\n",
    "    bleu_scores = []\n",
    "    \n",
    "    print_loss_total = 0  # Reset every print_every\n",
    "    plot_loss_total = 0  # Reset every plot_every\n",
    "\n",
    "    encoder_optimizer = optim.Adam(encoder.parameters(), lr=learning_rate)\n",
    "    decoder_optimizer = optim.Adam(decoder.parameters(), lr=learning_rate)\n",
    "    # training_pairs = [sent_pairs[i] for i in range(n_iters)]\n",
    "    training_pairs = [random.sample(sent_pairs, batch_size) for i in range(n_iters)]\n",
    "\n",
    "    # training_pairs = [tensorsFromPair(random.choice(pairs)) for i in range(n_iters)]\n",
    "    criterion = nn.NLLLoss()\n",
    "    MAX_PATIENCE = 50\n",
    "    patience = MAX_PATIENCE  \n",
    "    prev_val_loss =lowest_so_far = prev_bleu =  999\n",
    "    highest_so_far = -np.inf # for bleu\n",
    "    stopping_criteria_on = True\n",
    "    using_bleu_stopping = False\n",
    "\n",
    "    for iter in range(1, n_iters + 1):\n",
    "        training_pair = training_pairs[iter - 1]\n",
    "        # print(\"################################\")\n",
    "        # print(training_pair)\n",
    "        input_tensor = training_pair[0][0]\n",
    "        target_tensor = training_pair[0][1]\n",
    "        # print(\"printing tensors for training...\")\n",
    "        # print(input_tensor)\n",
    "        # print(target_tensor)\n",
    "\n",
    "        loss = get_train_loss(input_tensor, target_tensor, encoder, decoder, encoder_optimizer, decoder_optimizer,\n",
    "                              criterion)\n",
    "        print_loss_total += loss\n",
    "        plot_loss_total += loss\n",
    "\n",
    "        stopping_delta = 0.001  # if improvement is not more than this amount after n tries, exit the loop\n",
    "\n",
    "\n",
    "        if iter % print_every == 0:\n",
    "            print_loss_avg = print_loss_total / print_every\n",
    "            print_loss_total = 0\n",
    "            print('Training loss: %s (%d %d%%) %.4f' % (timeSince(start, iter / n_iters),\n",
    "                                                        iter, iter / n_iters * 100, print_loss_avg))\n",
    "\n",
    "            total_val_loss = 0\n",
    "            total_bleu_score = 0\n",
    "            total_val_pairs = len(val_sent_tensor_pairs)\n",
    "\n",
    "            for itr in range(0, len(val_sent_tensor_pairs)):\n",
    "                val_input_tensor = val_sent_tensor_pairs[itr][0]\n",
    "                val_target_tensor = val_sent_tensor_pairs[itr][1]\n",
    "                # print(\"Validation record: {0}\".format(itr))\n",
    "                # print(val_sent_pairs[itr])\n",
    "                #calc blue score\n",
    "                reference_sent = val_sent_pairs[itr][1]\n",
    "                candidate_sent = translate(val_sent_pairs[itr][0], encoder, decoder)\n",
    "                bleu_score = calculate_bleu_score(reference_sent,candidate_sent)\n",
    "                total_bleu_score += bleu_score\n",
    "                val_loss = get_validation_loss(val_input_tensor, val_target_tensor, encoder, decoder, criterion)\n",
    "                total_val_loss += val_loss\n",
    "\n",
    "            avg_val_loss = total_val_loss / total_val_pairs\n",
    "            val_losses.append(avg_val_loss)\n",
    "            avg_bleu_scores = total_bleu_score / total_val_pairs\n",
    "            bleu_scores.append(avg_bleu_scores)\n",
    "            \n",
    "            print('Validation loss: %s (%d %d%%) %.4f' % (timeSince(start, iter / n_iters),\n",
    "                                                          iter, iter / n_iters * 100, avg_val_loss))\n",
    "            print('Bleu scores: %s (%d %d%%) %.8f' % (timeSince(start, iter / n_iters),\n",
    "                                                          iter, iter / n_iters * 100, avg_bleu_scores))\n",
    "            if  stopping_criteria_on:\n",
    "                if not using_bleu_stopping:\n",
    "                    if (prev_val_loss - avg_val_loss) > stopping_delta and avg_val_loss < lowest_so_far:\n",
    "                        print(f\"Improvement in validation loss, saving model. Prev {prev_val_loss} Curr {avg_val_loss}\")\n",
    "                        lowest_so_far = avg_val_loss\n",
    "                        encoder_save_path = '%s/%s.pth' % (SAVE_PATH, 'best_encoder')\n",
    "                        print('save encoder weights to ', encoder_save_path)\n",
    "                        torch.save(encoder.state_dict(), encoder_save_path)\n",
    "                        decoder_save_path = '%s/%s.pth' % (SAVE_PATH, 'best_decoder')\n",
    "                        print('save decoder weights to ', decoder_save_path)\n",
    "                        torch.save(decoder.state_dict(), decoder_save_path)\n",
    "                        patience = MAX_PATIENCE # reset to max\n",
    "                    else:\n",
    "                        print(f\"No improvement in validation loss, losing patience {patience}\")\n",
    "                        patience -= 1\n",
    "\n",
    "                    if patience == 0:  # break out of training\n",
    "                        break\n",
    "\n",
    "                    prev_val_loss = avg_val_loss\n",
    "                else: # bleu\n",
    "                    if (avg_bleu_scores - prev_bleu) > stopping_delta and avg_bleu_scores > highest_so_far: \n",
    "                        print(f\"Improvement in bleu scores, saving model. Prev {prev_bleu} Curr {avg_bleu_scores}\")\n",
    "                        highest_so_far = avg_bleu_scores\n",
    "                        encoder_save_path = '%s/%s.pth' % (SAVE_PATH, 'best_encoder')\n",
    "                        print('save encoder weights to ', encoder_save_path)\n",
    "                        torch.save(encoder.state_dict(), encoder_save_path)\n",
    "                        decoder_save_path = '%s/%s.pth' % (SAVE_PATH, 'best_decoder')\n",
    "                        print('save decoder weights to ', decoder_save_path)\n",
    "                        torch.save(decoder.state_dict(), decoder_save_path)\n",
    "                        patience = MAX_PATIENCE # reset to max\n",
    "                    else:\n",
    "                        print(f\"No improvement in bleu scores, losing patience {patience}\")\n",
    "                        patience -= 1\n",
    "\n",
    "                    if patience == 0:  # break out of training\n",
    "                        break \n",
    "                    \n",
    "                    prev_bleu = avg_bleu_scores\n",
    "                \n",
    "\n",
    "            print(\"##########################################################\")\n",
    "\n",
    "        if iter % plot_every == 0:\n",
    "            plot_loss_avg = plot_loss_total / plot_every\n",
    "            plot_losses.append(plot_loss_avg)\n",
    "            plot_loss_total = 0\n",
    "\n",
    "        # # save trained encoder and decoder\n",
    "        # if iter % save_every == 0:\n",
    "        #     encoder_save_path = '%s/%s-%d.pth' % (SAVE_PATH, 'encoder', iter)\n",
    "        #     print('save encoder weights to ', encoder_save_path)\n",
    "        #     torch.save(encoder.state_dict(), encoder_save_path)\n",
    "        #     decoder_save_path = '%s/%s-%d.pth' % (SAVE_PATH, 'decoder', iter)\n",
    "        #     print('save decoder weights to ', decoder_save_path)\n",
    "        #     torch.save(decoder.state_dict(), decoder_save_path)\n",
    "\n",
    "    showPlot(plot_losses, 'train_plot.png')\n",
    "    showPlot(val_losses, 'validation_plot.png')\n",
    "    showPlot(bleu_scores,'bleu_scores_plot.png')\n",
    "    return plot_losses, val_losses, bleu_scores"
   ]
  },
  {
   "cell_type": "code",
   "execution_count": 22,
   "metadata": {
    "colab": {},
    "colab_type": "code",
    "id": "bJ3YTGgZp-W3"
   },
   "outputs": [],
   "source": [
    "def evaluateRandomly(encoder, decoder, n=10):\n",
    "    for i in range(n):\n",
    "        pair = random.choice(pairs)\n",
    "        print('>', pair[0])\n",
    "        print('=', pair[1])\n",
    "        output_words = evaluate(encoder, decoder, pair[0])\n",
    "        output_sentence = ' '.join(output_words)\n",
    "        print('<', output_sentence)\n",
    "        print('')"
   ]
  },
  {
   "cell_type": "markdown",
   "metadata": {
    "colab_type": "text",
    "id": "LRio-rM_p-W5",
    "pycharm": {}
   },
   "source": [
    "## Perform training"
   ]
  },
  {
   "cell_type": "code",
   "execution_count": 23,
   "metadata": {
    "colab": {
     "base_uri": "https://localhost:8080/",
     "height": 3465
    },
    "colab_type": "code",
    "id": "VRZp2jlYp-W5",
    "outputId": "344ece78-a596-4b37-84e5-8dd5c51260bb",
    "pycharm": {}
   },
   "outputs": [
    {
     "name": "stdout",
     "output_type": "stream",
     "text": [
      "Training loss: 0m 11s (- 14m 25s) (1000 1%) 4.1584\n"
     ]
    },
    {
     "name": "stderr",
     "output_type": "stream",
     "text": [
      "/home/davidleonardi/anaconda3/envs/tf37/lib/python3.6/site-packages/nltk/translate/bleu_score.py:523: UserWarning: \n",
      "The hypothesis contains 0 counts of 2-gram overlaps.\n",
      "Therefore the BLEU score evaluates to 0, independently of\n",
      "how many N-gram overlaps of lower order it contains.\n",
      "Consider using lower n-gram order or use SmoothingFunction()\n",
      "  warnings.warn(_msg)\n",
      "/home/davidleonardi/anaconda3/envs/tf37/lib/python3.6/site-packages/nltk/translate/bleu_score.py:523: UserWarning: \n",
      "The hypothesis contains 0 counts of 3-gram overlaps.\n",
      "Therefore the BLEU score evaluates to 0, independently of\n",
      "how many N-gram overlaps of lower order it contains.\n",
      "Consider using lower n-gram order or use SmoothingFunction()\n",
      "  warnings.warn(_msg)\n",
      "/home/davidleonardi/anaconda3/envs/tf37/lib/python3.6/site-packages/nltk/translate/bleu_score.py:523: UserWarning: \n",
      "The hypothesis contains 0 counts of 4-gram overlaps.\n",
      "Therefore the BLEU score evaluates to 0, independently of\n",
      "how many N-gram overlaps of lower order it contains.\n",
      "Consider using lower n-gram order or use SmoothingFunction()\n",
      "  warnings.warn(_msg)\n"
     ]
    },
    {
     "name": "stdout",
     "output_type": "stream",
     "text": [
      "Validation loss: 0m 28s (- 34m 41s) (1000 1%) 3.9370\n",
      "Bleu scores: 0m 28s (- 34m 41s) (1000 1%) 0.02953584\n",
      "Improvement in validation loss, saving model. Prev 999 Curr 3.9370274108900642\n",
      "save encoder weights to  results/vanila_seq2seq/best_encoder.pth\n",
      "save decoder weights to  results/vanila_seq2seq/best_decoder.pth\n",
      "##########################################################\n",
      "Training loss: 0m 39s (- 24m 12s) (2000 2%) 4.0995\n",
      "Validation loss: 0m 57s (- 34m 45s) (2000 2%) 3.9860\n",
      "Bleu scores: 0m 57s (- 34m 45s) (2000 2%) 0.03334652\n",
      "No improvement in validation loss, losing patience 50\n",
      "##########################################################\n",
      "Training loss: 1m 9s (- 27m 38s) (3000 4%) 3.9838\n",
      "Validation loss: 1m 25s (- 34m 16s) (3000 4%) 3.8058\n",
      "Bleu scores: 1m 25s (- 34m 16s) (3000 4%) 0.04124840\n",
      "Improvement in validation loss, saving model. Prev 3.9860287904184863 Curr 3.805806814097621\n",
      "save encoder weights to  results/vanila_seq2seq/best_encoder.pth\n",
      "save decoder weights to  results/vanila_seq2seq/best_decoder.pth\n",
      "##########################################################\n",
      "Training loss: 1m 37s (- 28m 52s) (4000 5%) 3.8782\n",
      "Validation loss: 1m 55s (- 34m 11s) (4000 5%) 3.9220\n",
      "Bleu scores: 1m 55s (- 34m 11s) (4000 5%) 0.03949896\n",
      "No improvement in validation loss, losing patience 50\n",
      "##########################################################\n",
      "Training loss: 2m 7s (- 29m 45s) (5000 6%) 3.7107\n",
      "Validation loss: 2m 25s (- 33m 56s) (5000 6%) 3.8418\n",
      "Bleu scores: 2m 25s (- 33m 56s) (5000 6%) 0.04299316\n",
      "No improvement in validation loss, losing patience 49\n",
      "##########################################################\n",
      "Training loss: 2m 37s (- 30m 12s) (6000 8%) 3.6134\n",
      "Validation loss: 2m 56s (- 33m 50s) (6000 8%) 3.8488\n",
      "Bleu scores: 2m 56s (- 33m 50s) (6000 8%) 0.04651939\n",
      "No improvement in validation loss, losing patience 48\n",
      "##########################################################\n",
      "Training loss: 3m 8s (- 30m 30s) (7000 9%) 3.5433\n",
      "Validation loss: 3m 26s (- 33m 26s) (7000 9%) 3.6401\n",
      "Bleu scores: 3m 26s (- 33m 26s) (7000 9%) 0.05065572\n",
      "Improvement in validation loss, saving model. Prev 3.8487933510260968 Curr 3.6400611265688165\n",
      "save encoder weights to  results/vanila_seq2seq/best_encoder.pth\n",
      "save decoder weights to  results/vanila_seq2seq/best_decoder.pth\n",
      "##########################################################\n",
      "Training loss: 3m 38s (- 30m 31s) (8000 10%) 3.4535\n",
      "Validation loss: 3m 57s (- 33m 9s) (8000 10%) 3.6982\n",
      "Bleu scores: 3m 57s (- 33m 9s) (8000 10%) 0.05685751\n",
      "No improvement in validation loss, losing patience 50\n",
      "##########################################################\n",
      "Training loss: 4m 9s (- 30m 29s) (9000 12%) 3.3435\n",
      "Validation loss: 4m 27s (- 32m 41s) (9000 12%) 3.4787\n",
      "Bleu scores: 4m 27s (- 32m 41s) (9000 12%) 0.05916518\n",
      "Improvement in validation loss, saving model. Prev 3.6981960628855997 Curr 3.478736583186537\n",
      "save encoder weights to  results/vanila_seq2seq/best_encoder.pth\n",
      "save decoder weights to  results/vanila_seq2seq/best_decoder.pth\n",
      "##########################################################\n",
      "Training loss: 4m 39s (- 30m 17s) (10000 13%) 3.2676\n",
      "Validation loss: 4m 58s (- 32m 19s) (10000 13%) 3.5499\n",
      "Bleu scores: 4m 58s (- 32m 19s) (10000 13%) 0.05929336\n",
      "No improvement in validation loss, losing patience 50\n",
      "##########################################################\n",
      "Training loss: 5m 10s (- 30m 6s) (11000 14%) 3.1909\n",
      "Validation loss: 5m 28s (- 31m 50s) (11000 14%) 3.3406\n",
      "Bleu scores: 5m 28s (- 31m 50s) (11000 14%) 0.06708921\n",
      "Improvement in validation loss, saving model. Prev 3.5499213695718312 Curr 3.3405770849083014\n",
      "save encoder weights to  results/vanila_seq2seq/best_encoder.pth\n",
      "save decoder weights to  results/vanila_seq2seq/best_decoder.pth\n",
      "##########################################################\n",
      "Training loss: 5m 40s (- 29m 48s) (12000 16%) 3.1317\n",
      "Validation loss: 5m 59s (- 31m 26s) (12000 16%) 3.2967\n",
      "Bleu scores: 5m 59s (- 31m 26s) (12000 16%) 0.06815019\n",
      "Improvement in validation loss, saving model. Prev 3.3405770849083014 Curr 3.2966883637794115\n",
      "save encoder weights to  results/vanila_seq2seq/best_encoder.pth\n",
      "save decoder weights to  results/vanila_seq2seq/best_decoder.pth\n",
      "##########################################################\n",
      "Training loss: 6m 11s (- 29m 30s) (13000 17%) 2.9663\n",
      "Validation loss: 6m 29s (- 30m 56s) (13000 17%) 3.2097\n",
      "Bleu scores: 6m 29s (- 30m 56s) (13000 17%) 0.07147624\n",
      "Improvement in validation loss, saving model. Prev 3.2966883637794115 Curr 3.2097061695189537\n",
      "save encoder weights to  results/vanila_seq2seq/best_encoder.pth\n",
      "save decoder weights to  results/vanila_seq2seq/best_decoder.pth\n",
      "##########################################################\n",
      "Training loss: 6m 41s (- 29m 9s) (14000 18%) 2.9199\n",
      "Validation loss: 6m 59s (- 30m 28s) (14000 18%) 3.1631\n",
      "Bleu scores: 6m 59s (- 30m 28s) (14000 18%) 0.07360089\n",
      "Improvement in validation loss, saving model. Prev 3.2097061695189537 Curr 3.1630903216506856\n",
      "save encoder weights to  results/vanila_seq2seq/best_encoder.pth\n",
      "save decoder weights to  results/vanila_seq2seq/best_decoder.pth\n",
      "##########################################################\n",
      "Training loss: 7m 11s (- 28m 47s) (15000 20%) 2.8408\n",
      "Validation loss: 7m 29s (- 29m 57s) (15000 20%) 3.1124\n",
      "Bleu scores: 7m 29s (- 29m 57s) (15000 20%) 0.07899938\n",
      "Improvement in validation loss, saving model. Prev 3.1630903216506856 Curr 3.1123792399328067\n",
      "save encoder weights to  results/vanila_seq2seq/best_encoder.pth\n",
      "save decoder weights to  results/vanila_seq2seq/best_decoder.pth\n",
      "##########################################################\n",
      "Training loss: 7m 41s (- 28m 22s) (16000 21%) 2.7059\n",
      "Validation loss: 7m 59s (- 29m 28s) (16000 21%) 3.0464\n",
      "Bleu scores: 7m 59s (- 29m 28s) (16000 21%) 0.08547512\n",
      "Improvement in validation loss, saving model. Prev 3.1123792399328067 Curr 3.046412320604251\n",
      "save encoder weights to  results/vanila_seq2seq/best_encoder.pth\n",
      "save decoder weights to  results/vanila_seq2seq/best_decoder.pth\n",
      "##########################################################\n",
      "Training loss: 8m 11s (- 27m 58s) (17000 22%) 2.6751\n",
      "Validation loss: 8m 30s (- 29m 2s) (17000 22%) 3.0559\n",
      "Bleu scores: 8m 30s (- 29m 2s) (17000 22%) 0.08363766\n",
      "No improvement in validation loss, losing patience 50\n",
      "##########################################################\n",
      "Training loss: 8m 42s (- 27m 35s) (18000 24%) 2.6156\n",
      "Validation loss: 9m 0s (- 28m 32s) (18000 24%) 2.9235\n",
      "Bleu scores: 9m 0s (- 28m 32s) (18000 24%) 0.09138637\n",
      "Improvement in validation loss, saving model. Prev 3.055890843207828 Curr 2.923540938118496\n",
      "save encoder weights to  results/vanila_seq2seq/best_encoder.pth\n",
      "save decoder weights to  results/vanila_seq2seq/best_decoder.pth\n",
      "##########################################################\n",
      "Training loss: 9m 12s (- 27m 9s) (19000 25%) 2.5165\n",
      "Validation loss: 9m 32s (- 28m 7s) (19000 25%) 2.8878\n",
      "Bleu scores: 9m 32s (- 28m 7s) (19000 25%) 0.09462363\n",
      "Improvement in validation loss, saving model. Prev 2.923540938118496 Curr 2.887818257216985\n",
      "save encoder weights to  results/vanila_seq2seq/best_encoder.pth\n",
      "save decoder weights to  results/vanila_seq2seq/best_decoder.pth\n",
      "##########################################################\n",
      "Training loss: 9m 44s (- 26m 48s) (20000 26%) 2.4023\n",
      "Validation loss: 10m 3s (- 27m 38s) (20000 26%) 2.8900\n",
      "Bleu scores: 10m 3s (- 27m 38s) (20000 26%) 0.09557352\n",
      "No improvement in validation loss, losing patience 50\n",
      "##########################################################\n",
      "Training loss: 10m 15s (- 26m 22s) (21000 28%) 2.3541\n",
      "Validation loss: 10m 34s (- 27m 10s) (21000 28%) 2.7819\n",
      "Bleu scores: 10m 34s (- 27m 10s) (21000 28%) 0.10311323\n",
      "Improvement in validation loss, saving model. Prev 2.8900444909647964 Curr 2.7818792130545233\n",
      "save encoder weights to  results/vanila_seq2seq/best_encoder.pth\n",
      "save decoder weights to  results/vanila_seq2seq/best_decoder.pth\n",
      "##########################################################\n",
      "Training loss: 10m 46s (- 25m 57s) (22000 29%) 2.3110\n",
      "Validation loss: 11m 4s (- 26m 41s) (22000 29%) 2.7356\n",
      "Bleu scores: 11m 4s (- 26m 41s) (22000 29%) 0.10921349\n",
      "Improvement in validation loss, saving model. Prev 2.7818792130545233 Curr 2.735596382594832\n",
      "save encoder weights to  results/vanila_seq2seq/best_encoder.pth\n",
      "save decoder weights to  results/vanila_seq2seq/best_decoder.pth\n",
      "##########################################################\n"
     ]
    },
    {
     "name": "stdout",
     "output_type": "stream",
     "text": [
      "Training loss: 11m 17s (- 25m 30s) (23000 30%) 2.2293\n",
      "Validation loss: 11m 34s (- 26m 11s) (23000 30%) 2.6285\n",
      "Bleu scores: 11m 34s (- 26m 11s) (23000 30%) 0.11614358\n",
      "Improvement in validation loss, saving model. Prev 2.735596382594832 Curr 2.628496638207675\n",
      "save encoder weights to  results/vanila_seq2seq/best_encoder.pth\n",
      "save decoder weights to  results/vanila_seq2seq/best_decoder.pth\n",
      "##########################################################\n",
      "Training loss: 11m 46s (- 25m 2s) (24000 32%) 2.1988\n",
      "Validation loss: 12m 5s (- 25m 42s) (24000 32%) 2.6282\n",
      "Bleu scores: 12m 5s (- 25m 42s) (24000 32%) 0.12494356\n",
      "No improvement in validation loss, losing patience 50\n",
      "##########################################################\n",
      "Training loss: 12m 17s (- 24m 35s) (25000 33%) 2.1768\n",
      "Validation loss: 12m 36s (- 25m 13s) (25000 33%) 2.5925\n",
      "Bleu scores: 12m 36s (- 25m 13s) (25000 33%) 0.12719729\n",
      "Improvement in validation loss, saving model. Prev 2.628216518893002 Curr 2.5924850572146765\n",
      "save encoder weights to  results/vanila_seq2seq/best_encoder.pth\n",
      "save decoder weights to  results/vanila_seq2seq/best_decoder.pth\n",
      "##########################################################\n",
      "Training loss: 12m 48s (- 24m 9s) (26000 34%) 2.1158\n",
      "Validation loss: 13m 7s (- 24m 43s) (26000 34%) 2.4925\n",
      "Bleu scores: 13m 7s (- 24m 43s) (26000 34%) 0.13718861\n",
      "Improvement in validation loss, saving model. Prev 2.5924850572146765 Curr 2.492545694405264\n",
      "save encoder weights to  results/vanila_seq2seq/best_encoder.pth\n",
      "save decoder weights to  results/vanila_seq2seq/best_decoder.pth\n",
      "##########################################################\n",
      "Training loss: 13m 19s (- 23m 41s) (27000 36%) 1.9808\n",
      "Validation loss: 13m 37s (- 24m 13s) (27000 36%) 2.4578\n",
      "Bleu scores: 13m 37s (- 24m 13s) (27000 36%) 0.13881515\n",
      "Improvement in validation loss, saving model. Prev 2.492545694405264 Curr 2.457827210416651\n",
      "save encoder weights to  results/vanila_seq2seq/best_encoder.pth\n",
      "save decoder weights to  results/vanila_seq2seq/best_decoder.pth\n",
      "##########################################################\n",
      "Training loss: 13m 49s (- 23m 12s) (28000 37%) 1.9909\n",
      "Validation loss: 14m 8s (- 23m 44s) (28000 37%) 2.4224\n",
      "Bleu scores: 14m 8s (- 23m 44s) (28000 37%) 0.14893022\n",
      "Improvement in validation loss, saving model. Prev 2.457827210416651 Curr 2.422369389909713\n",
      "save encoder weights to  results/vanila_seq2seq/best_encoder.pth\n",
      "save decoder weights to  results/vanila_seq2seq/best_decoder.pth\n",
      "##########################################################\n",
      "Training loss: 14m 20s (- 22m 45s) (29000 38%) 1.8923\n",
      "Validation loss: 14m 39s (- 23m 14s) (29000 38%) 2.3555\n",
      "Bleu scores: 14m 39s (- 23m 14s) (29000 38%) 0.15807192\n",
      "Improvement in validation loss, saving model. Prev 2.422369389909713 Curr 2.3555188086638212\n",
      "save encoder weights to  results/vanila_seq2seq/best_encoder.pth\n",
      "save decoder weights to  results/vanila_seq2seq/best_decoder.pth\n",
      "##########################################################\n",
      "Training loss: 14m 51s (- 22m 17s) (30000 40%) 1.9280\n",
      "Validation loss: 15m 9s (- 22m 44s) (30000 40%) 2.2973\n",
      "Bleu scores: 15m 9s (- 22m 44s) (30000 40%) 0.16516524\n",
      "Improvement in validation loss, saving model. Prev 2.3555188086638212 Curr 2.297274489561395\n",
      "save encoder weights to  results/vanila_seq2seq/best_encoder.pth\n",
      "save decoder weights to  results/vanila_seq2seq/best_decoder.pth\n",
      "##########################################################\n",
      "Training loss: 15m 22s (- 21m 48s) (31000 41%) 1.8361\n",
      "Validation loss: 15m 40s (- 22m 15s) (31000 41%) 2.2647\n",
      "Bleu scores: 15m 40s (- 22m 15s) (31000 41%) 0.16923824\n",
      "Improvement in validation loss, saving model. Prev 2.297274489561395 Curr 2.2646755486838983\n",
      "save encoder weights to  results/vanila_seq2seq/best_encoder.pth\n",
      "save decoder weights to  results/vanila_seq2seq/best_decoder.pth\n",
      "##########################################################\n",
      "Training loss: 15m 53s (- 21m 20s) (32000 42%) 1.7851\n",
      "Validation loss: 16m 11s (- 21m 45s) (32000 42%) 2.1982\n",
      "Bleu scores: 16m 11s (- 21m 45s) (32000 42%) 0.17943575\n",
      "Improvement in validation loss, saving model. Prev 2.2646755486838983 Curr 2.1982237291204307\n",
      "save encoder weights to  results/vanila_seq2seq/best_encoder.pth\n",
      "save decoder weights to  results/vanila_seq2seq/best_decoder.pth\n",
      "##########################################################\n",
      "Training loss: 16m 23s (- 20m 52s) (33000 44%) 1.7322\n",
      "Validation loss: 16m 42s (- 21m 15s) (33000 44%) 2.1579\n",
      "Bleu scores: 16m 42s (- 21m 15s) (33000 44%) 0.18809161\n",
      "Improvement in validation loss, saving model. Prev 2.1982237291204307 Curr 2.1579397830916567\n",
      "save encoder weights to  results/vanila_seq2seq/best_encoder.pth\n",
      "save decoder weights to  results/vanila_seq2seq/best_decoder.pth\n",
      "##########################################################\n",
      "Training loss: 16m 54s (- 20m 23s) (34000 45%) 1.6295\n",
      "Validation loss: 17m 13s (- 20m 46s) (34000 45%) 2.1476\n",
      "Bleu scores: 17m 13s (- 20m 46s) (34000 45%) 0.19346920\n",
      "Improvement in validation loss, saving model. Prev 2.1579397830916567 Curr 2.147570423330608\n",
      "save encoder weights to  results/vanila_seq2seq/best_encoder.pth\n",
      "save decoder weights to  results/vanila_seq2seq/best_decoder.pth\n",
      "##########################################################\n",
      "Training loss: 17m 25s (- 19m 54s) (35000 46%) 1.5819\n",
      "Validation loss: 17m 43s (- 20m 15s) (35000 46%) 2.0732\n",
      "Bleu scores: 17m 43s (- 20m 15s) (35000 46%) 0.20093946\n",
      "Improvement in validation loss, saving model. Prev 2.147570423330608 Curr 2.0732085895192545\n",
      "save encoder weights to  results/vanila_seq2seq/best_encoder.pth\n",
      "save decoder weights to  results/vanila_seq2seq/best_decoder.pth\n",
      "##########################################################\n",
      "Training loss: 17m 56s (- 19m 25s) (36000 48%) 1.4799\n",
      "Validation loss: 18m 14s (- 19m 45s) (36000 48%) 2.0629\n",
      "Bleu scores: 18m 14s (- 19m 45s) (36000 48%) 0.21224045\n",
      "Improvement in validation loss, saving model. Prev 2.0732085895192545 Curr 2.0629453611152897\n",
      "save encoder weights to  results/vanila_seq2seq/best_encoder.pth\n",
      "save decoder weights to  results/vanila_seq2seq/best_decoder.pth\n",
      "##########################################################\n",
      "Training loss: 18m 27s (- 18m 57s) (37000 49%) 1.5516\n",
      "Validation loss: 18m 46s (- 19m 17s) (37000 49%) 1.9960\n",
      "Bleu scores: 18m 46s (- 19m 17s) (37000 49%) 0.21764533\n",
      "Improvement in validation loss, saving model. Prev 2.0629453611152897 Curr 1.9960240622246186\n",
      "save encoder weights to  results/vanila_seq2seq/best_encoder.pth\n",
      "save decoder weights to  results/vanila_seq2seq/best_decoder.pth\n",
      "##########################################################\n",
      "Training loss: 18m 58s (- 18m 29s) (38000 50%) 1.5211\n",
      "Validation loss: 19m 17s (- 18m 46s) (38000 50%) 1.9551\n",
      "Bleu scores: 19m 17s (- 18m 46s) (38000 50%) 0.22399486\n",
      "Improvement in validation loss, saving model. Prev 1.9960240622246186 Curr 1.9550726090245534\n",
      "save encoder weights to  results/vanila_seq2seq/best_encoder.pth\n",
      "save decoder weights to  results/vanila_seq2seq/best_decoder.pth\n",
      "##########################################################\n",
      "Training loss: 19m 29s (- 17m 59s) (39000 52%) 1.4742\n",
      "Validation loss: 19m 47s (- 18m 16s) (39000 52%) 1.9086\n",
      "Bleu scores: 19m 47s (- 18m 16s) (39000 52%) 0.22904981\n",
      "Improvement in validation loss, saving model. Prev 1.9550726090245534 Curr 1.9085776651152775\n",
      "save encoder weights to  results/vanila_seq2seq/best_encoder.pth\n",
      "save decoder weights to  results/vanila_seq2seq/best_decoder.pth\n",
      "##########################################################\n",
      "Training loss: 19m 59s (- 17m 29s) (40000 53%) 1.3817\n",
      "Validation loss: 20m 18s (- 17m 45s) (40000 53%) 1.8839\n",
      "Bleu scores: 20m 18s (- 17m 45s) (40000 53%) 0.23311601\n",
      "Improvement in validation loss, saving model. Prev 1.9085776651152775 Curr 1.8839123179857127\n",
      "save encoder weights to  results/vanila_seq2seq/best_encoder.pth\n",
      "save decoder weights to  results/vanila_seq2seq/best_decoder.pth\n",
      "##########################################################\n",
      "Training loss: 20m 30s (- 17m 0s) (41000 54%) 1.3689\n",
      "Validation loss: 20m 48s (- 17m 15s) (41000 54%) 1.8524\n",
      "Bleu scores: 20m 48s (- 17m 15s) (41000 54%) 0.23736252\n",
      "Improvement in validation loss, saving model. Prev 1.8839123179857127 Curr 1.8523666559879421\n",
      "save encoder weights to  results/vanila_seq2seq/best_encoder.pth\n",
      "save decoder weights to  results/vanila_seq2seq/best_decoder.pth\n",
      "##########################################################\n"
     ]
    },
    {
     "name": "stdout",
     "output_type": "stream",
     "text": [
      "Training loss: 21m 1s (- 16m 30s) (42000 56%) 1.2693\n",
      "Validation loss: 21m 19s (- 16m 45s) (42000 56%) 1.8471\n",
      "Bleu scores: 21m 19s (- 16m 45s) (42000 56%) 0.24476302\n",
      "Improvement in validation loss, saving model. Prev 1.8523666559879421 Curr 1.8470774917701023\n",
      "save encoder weights to  results/vanila_seq2seq/best_encoder.pth\n",
      "save decoder weights to  results/vanila_seq2seq/best_decoder.pth\n",
      "##########################################################\n",
      "Training loss: 21m 31s (- 16m 1s) (43000 57%) 1.2811\n",
      "Validation loss: 21m 49s (- 16m 14s) (43000 57%) 1.8003\n",
      "Bleu scores: 21m 49s (- 16m 14s) (43000 57%) 0.24980448\n",
      "Improvement in validation loss, saving model. Prev 1.8470774917701023 Curr 1.8003061863351526\n",
      "save encoder weights to  results/vanila_seq2seq/best_encoder.pth\n",
      "save decoder weights to  results/vanila_seq2seq/best_decoder.pth\n",
      "##########################################################\n",
      "Training loss: 22m 2s (- 15m 31s) (44000 58%) 1.2368\n",
      "Validation loss: 22m 20s (- 15m 44s) (44000 58%) 1.7423\n",
      "Bleu scores: 22m 20s (- 15m 44s) (44000 58%) 0.25672292\n",
      "Improvement in validation loss, saving model. Prev 1.8003061863351526 Curr 1.7423173378502337\n",
      "save encoder weights to  results/vanila_seq2seq/best_encoder.pth\n",
      "save decoder weights to  results/vanila_seq2seq/best_decoder.pth\n",
      "##########################################################\n",
      "Training loss: 22m 32s (- 15m 1s) (45000 60%) 1.2743\n",
      "Validation loss: 22m 50s (- 15m 13s) (45000 60%) 1.7282\n",
      "Bleu scores: 22m 50s (- 15m 13s) (45000 60%) 0.25971380\n",
      "Improvement in validation loss, saving model. Prev 1.7423173378502337 Curr 1.728181238403051\n",
      "save encoder weights to  results/vanila_seq2seq/best_encoder.pth\n",
      "save decoder weights to  results/vanila_seq2seq/best_decoder.pth\n",
      "##########################################################\n",
      "Training loss: 23m 2s (- 14m 31s) (46000 61%) 1.1667\n",
      "Validation loss: 23m 21s (- 14m 43s) (46000 61%) 1.7079\n",
      "Bleu scores: 23m 21s (- 14m 43s) (46000 61%) 0.26836260\n",
      "Improvement in validation loss, saving model. Prev 1.728181238403051 Curr 1.7078806357740846\n",
      "save encoder weights to  results/vanila_seq2seq/best_encoder.pth\n",
      "save decoder weights to  results/vanila_seq2seq/best_decoder.pth\n",
      "##########################################################\n",
      "Training loss: 23m 33s (- 14m 2s) (47000 62%) 1.2115\n",
      "Validation loss: 23m 53s (- 14m 13s) (47000 62%) 1.7200\n",
      "Bleu scores: 23m 53s (- 14m 13s) (47000 62%) 0.27089494\n",
      "No improvement in validation loss, losing patience 50\n",
      "##########################################################\n",
      "Training loss: 24m 5s (- 13m 33s) (48000 64%) 1.0684\n",
      "Validation loss: 24m 24s (- 13m 43s) (48000 64%) 1.6705\n",
      "Bleu scores: 24m 24s (- 13m 43s) (48000 64%) 0.27833883\n",
      "Improvement in validation loss, saving model. Prev 1.7200114940934041 Curr 1.6704813662282314\n",
      "save encoder weights to  results/vanila_seq2seq/best_encoder.pth\n",
      "save decoder weights to  results/vanila_seq2seq/best_decoder.pth\n",
      "##########################################################\n",
      "Training loss: 24m 36s (- 13m 3s) (49000 65%) 1.1389\n",
      "Validation loss: 24m 54s (- 13m 13s) (49000 65%) 1.6241\n",
      "Bleu scores: 24m 54s (- 13m 13s) (49000 65%) 0.28248659\n",
      "Improvement in validation loss, saving model. Prev 1.6704813662282314 Curr 1.6240581163815306\n",
      "save encoder weights to  results/vanila_seq2seq/best_encoder.pth\n",
      "save decoder weights to  results/vanila_seq2seq/best_decoder.pth\n",
      "##########################################################\n",
      "Training loss: 25m 7s (- 12m 33s) (50000 66%) 1.1318\n",
      "Validation loss: 25m 25s (- 12m 42s) (50000 66%) 1.6009\n",
      "Bleu scores: 25m 25s (- 12m 42s) (50000 66%) 0.28485115\n",
      "Improvement in validation loss, saving model. Prev 1.6240581163815306 Curr 1.6009371409865039\n",
      "save encoder weights to  results/vanila_seq2seq/best_encoder.pth\n",
      "save decoder weights to  results/vanila_seq2seq/best_decoder.pth\n",
      "##########################################################\n",
      "Training loss: 25m 37s (- 12m 3s) (51000 68%) 1.0297\n",
      "Validation loss: 25m 56s (- 12m 12s) (51000 68%) 1.5911\n",
      "Bleu scores: 25m 56s (- 12m 12s) (51000 68%) 0.28756963\n",
      "Improvement in validation loss, saving model. Prev 1.6009371409865039 Curr 1.591149552917216\n",
      "save encoder weights to  results/vanila_seq2seq/best_encoder.pth\n",
      "save decoder weights to  results/vanila_seq2seq/best_decoder.pth\n",
      "##########################################################\n",
      "Training loss: 26m 8s (- 11m 33s) (52000 69%) 0.9710\n",
      "Validation loss: 26m 27s (- 11m 42s) (52000 69%) 1.5665\n",
      "Bleu scores: 26m 27s (- 11m 42s) (52000 69%) 0.29280851\n",
      "Improvement in validation loss, saving model. Prev 1.591149552917216 Curr 1.5665288076907062\n",
      "save encoder weights to  results/vanila_seq2seq/best_encoder.pth\n",
      "save decoder weights to  results/vanila_seq2seq/best_decoder.pth\n",
      "##########################################################\n",
      "Training loss: 26m 39s (- 11m 3s) (53000 70%) 0.9963\n",
      "Validation loss: 26m 57s (- 11m 11s) (53000 70%) 1.5456\n",
      "Bleu scores: 26m 57s (- 11m 11s) (53000 70%) 0.29407713\n",
      "Improvement in validation loss, saving model. Prev 1.5665288076907062 Curr 1.5455766824577442\n",
      "save encoder weights to  results/vanila_seq2seq/best_encoder.pth\n",
      "save decoder weights to  results/vanila_seq2seq/best_decoder.pth\n",
      "##########################################################\n",
      "Training loss: 27m 9s (- 10m 33s) (54000 72%) 0.9798\n",
      "Validation loss: 27m 27s (- 10m 40s) (54000 72%) 1.5334\n",
      "Bleu scores: 27m 27s (- 10m 40s) (54000 72%) 0.29803193\n",
      "Improvement in validation loss, saving model. Prev 1.5455766824577442 Curr 1.5333690655521288\n",
      "save encoder weights to  results/vanila_seq2seq/best_encoder.pth\n",
      "save decoder weights to  results/vanila_seq2seq/best_decoder.pth\n",
      "##########################################################\n",
      "Training loss: 27m 39s (- 10m 3s) (55000 73%) 0.9441\n",
      "Validation loss: 27m 58s (- 10m 10s) (55000 73%) 1.5266\n",
      "Bleu scores: 27m 58s (- 10m 10s) (55000 73%) 0.30090096\n",
      "Improvement in validation loss, saving model. Prev 1.5333690655521288 Curr 1.526605304557267\n",
      "save encoder weights to  results/vanila_seq2seq/best_encoder.pth\n",
      "save decoder weights to  results/vanila_seq2seq/best_decoder.pth\n",
      "##########################################################\n",
      "Training loss: 28m 10s (- 9m 33s) (56000 74%) 1.0012\n",
      "Validation loss: 28m 29s (- 9m 39s) (56000 74%) 1.5187\n",
      "Bleu scores: 28m 29s (- 9m 39s) (56000 74%) 0.30361174\n",
      "Improvement in validation loss, saving model. Prev 1.526605304557267 Curr 1.5186779867808267\n",
      "save encoder weights to  results/vanila_seq2seq/best_encoder.pth\n",
      "save decoder weights to  results/vanila_seq2seq/best_decoder.pth\n",
      "##########################################################\n",
      "Training loss: 28m 41s (- 9m 3s) (57000 76%) 0.9424\n",
      "Validation loss: 28m 59s (- 9m 9s) (57000 76%) 1.4872\n",
      "Bleu scores: 28m 59s (- 9m 9s) (57000 76%) 0.30709709\n",
      "Improvement in validation loss, saving model. Prev 1.5186779867808267 Curr 1.48724843161039\n",
      "save encoder weights to  results/vanila_seq2seq/best_encoder.pth\n",
      "save decoder weights to  results/vanila_seq2seq/best_decoder.pth\n",
      "##########################################################\n",
      "Training loss: 29m 11s (- 8m 33s) (58000 77%) 0.9482\n",
      "Validation loss: 29m 30s (- 8m 39s) (58000 77%) 1.4765\n",
      "Bleu scores: 29m 30s (- 8m 39s) (58000 77%) 0.30881350\n",
      "Improvement in validation loss, saving model. Prev 1.48724843161039 Curr 1.4765097163786756\n",
      "save encoder weights to  results/vanila_seq2seq/best_encoder.pth\n",
      "save decoder weights to  results/vanila_seq2seq/best_decoder.pth\n",
      "##########################################################\n",
      "Training loss: 29m 42s (- 8m 3s) (59000 78%) 0.9542\n",
      "Validation loss: 30m 1s (- 8m 8s) (59000 78%) 1.4642\n",
      "Bleu scores: 30m 1s (- 8m 8s) (59000 78%) 0.31195701\n",
      "Improvement in validation loss, saving model. Prev 1.4765097163786756 Curr 1.464164886770779\n",
      "save encoder weights to  results/vanila_seq2seq/best_encoder.pth\n",
      "save decoder weights to  results/vanila_seq2seq/best_decoder.pth\n",
      "##########################################################\n",
      "Training loss: 30m 13s (- 7m 33s) (60000 80%) 0.8955\n",
      "Validation loss: 30m 31s (- 7m 37s) (60000 80%) 1.4395\n",
      "Bleu scores: 30m 31s (- 7m 37s) (60000 80%) 0.31465594\n",
      "Improvement in validation loss, saving model. Prev 1.464164886770779 Curr 1.439484785496813\n",
      "save encoder weights to  results/vanila_seq2seq/best_encoder.pth\n",
      "save decoder weights to  results/vanila_seq2seq/best_decoder.pth\n",
      "##########################################################\n"
     ]
    },
    {
     "name": "stdout",
     "output_type": "stream",
     "text": [
      "Training loss: 30m 43s (- 7m 3s) (61000 81%) 0.8179\n",
      "Validation loss: 31m 2s (- 7m 7s) (61000 81%) 1.4166\n",
      "Bleu scores: 31m 2s (- 7m 7s) (61000 81%) 0.31860736\n",
      "Improvement in validation loss, saving model. Prev 1.439484785496813 Curr 1.4165635081867023\n",
      "save encoder weights to  results/vanila_seq2seq/best_encoder.pth\n",
      "save decoder weights to  results/vanila_seq2seq/best_decoder.pth\n",
      "##########################################################\n",
      "Training loss: 31m 14s (- 6m 32s) (62000 82%) 0.9033\n",
      "Validation loss: 31m 32s (- 6m 36s) (62000 82%) 1.4270\n",
      "Bleu scores: 31m 32s (- 6m 36s) (62000 82%) 0.31902319\n",
      "No improvement in validation loss, losing patience 50\n",
      "##########################################################\n",
      "Training loss: 31m 44s (- 6m 2s) (63000 84%) 0.7935\n",
      "Validation loss: 32m 3s (- 6m 6s) (63000 84%) 1.4237\n",
      "Bleu scores: 32m 3s (- 6m 6s) (63000 84%) 0.31846993\n",
      "No improvement in validation loss, losing patience 49\n",
      "##########################################################\n",
      "Training loss: 32m 15s (- 5m 32s) (64000 85%) 0.7992\n",
      "Validation loss: 32m 34s (- 5m 35s) (64000 85%) 1.3971\n",
      "Bleu scores: 32m 34s (- 5m 35s) (64000 85%) 0.32304708\n",
      "Improvement in validation loss, saving model. Prev 1.4237095981672012 Curr 1.3970768581446902\n",
      "save encoder weights to  results/vanila_seq2seq/best_encoder.pth\n",
      "save decoder weights to  results/vanila_seq2seq/best_decoder.pth\n",
      "##########################################################\n",
      "Training loss: 32m 46s (- 5m 2s) (65000 86%) 0.8259\n",
      "Validation loss: 33m 5s (- 5m 5s) (65000 86%) 1.3987\n",
      "Bleu scores: 33m 5s (- 5m 5s) (65000 86%) 0.32398058\n",
      "No improvement in validation loss, losing patience 50\n",
      "##########################################################\n",
      "Training loss: 33m 17s (- 4m 32s) (66000 88%) 0.8088\n",
      "Validation loss: 33m 36s (- 4m 34s) (66000 88%) 1.3944\n",
      "Bleu scores: 33m 36s (- 4m 34s) (66000 88%) 0.32691928\n",
      "Improvement in validation loss, saving model. Prev 1.3987337561592623 Curr 1.3944144562766403\n",
      "save encoder weights to  results/vanila_seq2seq/best_encoder.pth\n",
      "save decoder weights to  results/vanila_seq2seq/best_decoder.pth\n",
      "##########################################################\n",
      "Training loss: 33m 48s (- 4m 2s) (67000 89%) 0.8049\n",
      "Validation loss: 34m 6s (- 4m 4s) (67000 89%) 1.4017\n",
      "Bleu scores: 34m 6s (- 4m 4s) (67000 89%) 0.32761953\n",
      "No improvement in validation loss, losing patience 50\n",
      "##########################################################\n",
      "Training loss: 34m 18s (- 3m 31s) (68000 90%) 0.7598\n",
      "Validation loss: 34m 37s (- 3m 33s) (68000 90%) 1.3759\n",
      "Bleu scores: 34m 37s (- 3m 33s) (68000 90%) 0.32838695\n",
      "Improvement in validation loss, saving model. Prev 1.4016675208746538 Curr 1.3759280348641998\n",
      "save encoder weights to  results/vanila_seq2seq/best_encoder.pth\n",
      "save decoder weights to  results/vanila_seq2seq/best_decoder.pth\n",
      "##########################################################\n",
      "Training loss: 34m 49s (- 3m 1s) (69000 92%) 0.8305\n",
      "Validation loss: 35m 8s (- 3m 3s) (69000 92%) 1.3704\n",
      "Bleu scores: 35m 8s (- 3m 3s) (69000 92%) 0.32828126\n",
      "Improvement in validation loss, saving model. Prev 1.3759280348641998 Curr 1.3704112345177202\n",
      "save encoder weights to  results/vanila_seq2seq/best_encoder.pth\n",
      "save decoder weights to  results/vanila_seq2seq/best_decoder.pth\n",
      "##########################################################\n",
      "Training loss: 35m 20s (- 2m 31s) (70000 93%) 0.6713\n",
      "Validation loss: 35m 39s (- 2m 32s) (70000 93%) 1.3796\n",
      "Bleu scores: 35m 39s (- 2m 32s) (70000 93%) 0.32867845\n",
      "No improvement in validation loss, losing patience 50\n",
      "##########################################################\n",
      "Training loss: 35m 51s (- 2m 1s) (71000 94%) 0.8199\n",
      "Validation loss: 36m 9s (- 2m 2s) (71000 94%) 1.3722\n",
      "Bleu scores: 36m 9s (- 2m 2s) (71000 94%) 0.32688049\n",
      "No improvement in validation loss, losing patience 49\n",
      "##########################################################\n",
      "Training loss: 36m 22s (- 1m 30s) (72000 96%) 0.7762\n",
      "Validation loss: 36m 40s (- 1m 31s) (72000 96%) 1.3609\n",
      "Bleu scores: 36m 40s (- 1m 31s) (72000 96%) 0.32832171\n",
      "Improvement in validation loss, saving model. Prev 1.372166498386776 Curr 1.3608649432818196\n",
      "save encoder weights to  results/vanila_seq2seq/best_encoder.pth\n",
      "save decoder weights to  results/vanila_seq2seq/best_decoder.pth\n",
      "##########################################################\n",
      "Training loss: 36m 53s (- 1m 0s) (73000 97%) 0.7038\n",
      "Validation loss: 37m 11s (- 1m 1s) (73000 97%) 1.3534\n",
      "Bleu scores: 37m 11s (- 1m 1s) (73000 97%) 0.32897095\n",
      "Improvement in validation loss, saving model. Prev 1.3608649432818196 Curr 1.3534067261687868\n",
      "save encoder weights to  results/vanila_seq2seq/best_encoder.pth\n",
      "save decoder weights to  results/vanila_seq2seq/best_decoder.pth\n",
      "##########################################################\n",
      "Training loss: 37m 23s (- 0m 30s) (74000 98%) 0.7199\n",
      "Validation loss: 37m 42s (- 0m 30s) (74000 98%) 1.3389\n",
      "Bleu scores: 37m 42s (- 0m 30s) (74000 98%) 0.33071838\n",
      "Improvement in validation loss, saving model. Prev 1.3534067261687868 Curr 1.3389375281653673\n",
      "save encoder weights to  results/vanila_seq2seq/best_encoder.pth\n",
      "save decoder weights to  results/vanila_seq2seq/best_decoder.pth\n",
      "##########################################################\n",
      "Training loss: 37m 55s (- 0m 0s) (75000 100%) 0.7065\n",
      "Validation loss: 38m 13s (- 0m 0s) (75000 100%) 1.3421\n",
      "Bleu scores: 38m 13s (- 0m 0s) (75000 100%) 0.33082047\n",
      "No improvement in validation loss, losing patience 50\n",
      "##########################################################\n",
      "> what subjects do you like the best ?\n",
      "= pelajaran apa yang paling kau sukai ?\n",
      "< <s> pelajaran apa yang paling kau sukai ? </s>\n",
      "\n",
      "> mommy was all worn out .\n",
      "= ibu benar benar kelelahan .\n",
      "< <s> ibu benar benar kelelahan . </s>\n",
      "\n",
      "> no one is perfect .\n",
      "= tidak ada orang yang sempurna .\n",
      "< <s> tidak ada orang yang . . </s>\n",
      "\n",
      "> if anybody can fix it it s mommy .\n",
      "= jika ada orang yang dapat memperbaikinya orang itu adalah ibu .\n",
      "< <s> jika ada orang yang dapat memperbaikinya orang itu adalah orang . </s>\n",
      "\n",
      "> vijay doesn t know much about indonesia .\n",
      "= vijay tidak tahu banyak tentang indonesia .\n",
      "< <s> vijay tidak tahu banyak tentang indonesia . </s>\n",
      "\n",
      "> the rules should be followed .\n",
      "= peraturan seharusnya dipatuhi .\n",
      "< <s> para harus tetap . . </s>\n",
      "\n",
      "> if you don t want to miss the train you d better hurry .\n",
      "= jika anda tidak ingin ketinggalan kereta sebaiknya anda bergegas .\n",
      "< <s> jika anda tidak ingin menjadi sesuatu di mana anda . </s>\n",
      "\n",
      "> even tom is a little surprised .\n",
      "= bahkan tom sedikit terkejut .\n",
      "< <s> bahkan tom sedikit terkejut . </s>\n",
      "\n",
      "> do you study every day ?\n",
      "= apa kamu belajar setiap hari ?\n",
      "< <s> apa kamu pulang ke rumah ? </s>\n",
      "\n",
      "> i m still trying to get used to it .\n",
      "= aku masih berusaha membiasakan diri .\n",
      "< <s> aku masih berusaha membiasakan diri . </s>\n",
      "\n"
     ]
    },
    {
     "data": {
      "text/plain": [
       "<Figure size 432x288 with 0 Axes>"
      ]
     },
     "metadata": {},
     "output_type": "display_data"
    },
    {
     "data": {
      "image/png": "[encoded data removed]",
      "text/plain": [
       "<Figure size 432x288 with 1 Axes>"
      ]
     },
     "metadata": {
      "needs_background": "light"
     },
     "output_type": "display_data"
    },
    {
     "data": {
      "text/plain": [
       "<Figure size 432x288 with 0 Axes>"
      ]
     },
     "metadata": {},
     "output_type": "display_data"
    },
    {
     "data": {
      "image/png": "[encoded data removed]",
      "text/plain": [
       "<Figure size 432x288 with 1 Axes>"
      ]
     },
     "metadata": {
      "needs_background": "light"
     },
     "output_type": "display_data"
    },
    {
     "data": {
      "text/plain": [
       "<Figure size 432x288 with 0 Axes>"
      ]
     },
     "metadata": {},
     "output_type": "display_data"
    },
    {
     "data": {
      "image/png": "[encoded data removed]",
      "text/plain": [
       "<Figure size 432x288 with 1 Axes>"
      ]
     },
     "metadata": {
      "needs_background": "light"
     },
     "output_type": "display_data"
    },
    {
     "data": {
      "text/plain": [
       "<Figure size 432x288 with 0 Axes>"
      ]
     },
     "metadata": {},
     "output_type": "display_data"
    },
    {
     "data": {
      "image/png": "[encoded data removed]",
      "text/plain": [
       "<Figure size 432x288 with 1 Axes>"
      ]
     },
     "metadata": {
      "needs_background": "light"
     },
     "output_type": "display_data"
    },
    {
     "data": {
      "text/plain": [
       "<Figure size 432x288 with 0 Axes>"
      ]
     },
     "metadata": {},
     "output_type": "display_data"
    },
    {
     "data": {
      "image/png": "[encoded data removed]",
      "text/plain": [
       "<Figure size 432x288 with 1 Axes>"
      ]
     },
     "metadata": {
      "needs_background": "light"
     },
     "output_type": "display_data"
    },
    {
     "data": {
      "text/plain": [
       "<Figure size 432x288 with 0 Axes>"
      ]
     },
     "metadata": {},
     "output_type": "display_data"
    },
    {
     "data": {
      "image/png": "[encoded data removed]",
      "text/plain": [
       "<Figure size 432x288 with 1 Axes>"
      ]
     },
     "metadata": {
      "needs_background": "light"
     },
     "output_type": "display_data"
    }
   ],
   "source": [
    "hidden_size = 512\n",
    "encoder1 = EncoderRNN(len(english_vocab), hidden_size).to(device)\n",
    "decoder1 = DecoderRNN(hidden_size, len(indo_vocab)).to(device)\n",
    "\n",
    "plot_losses, val_losses, bleu_scores = trainIters(encoder1, decoder1, 75000, print_every=1000)\n",
    "\n",
    "showPlot(plot_losses, 'train_plot.png')\n",
    "showPlot(val_losses, 'validation_plot.png')\n",
    "showPlot(bleu_scores, 'bleu_plot.png')\n",
    "\n",
    "evaluateRandomly(encoder1, decoder1)\n",
    "\n",
    "output_words = evaluate(encoder1, decoder1, \"do you love me?\")"
   ]
  },
  {
   "cell_type": "markdown",
   "metadata": {
    "colab_type": "text",
    "id": "3jjv9Fiyp-W7",
    "pycharm": {}
   },
   "source": [
    "## Check some translations"
   ]
  },
  {
   "cell_type": "code",
   "execution_count": 24,
   "metadata": {
    "colab": {},
    "colab_type": "code",
    "id": "XHkh_erOp-W9",
    "pycharm": {}
   },
   "outputs": [
    {
     "name": "stdout",
     "output_type": "stream",
     "text": [
      "<s> tom sedang dengan dengan . </s>\n",
      "<s> dia ada di sana sana . </s>\n",
      "<s> dia adalah pria yang . </s>\n",
      "<s> dia ingin menjadi . </s>\n",
      "<s> aku harap kalian bertemu denganmu . </s>\n",
      "<s> ayah adalah besar besar . </s>\n",
      "<s> ini sangat . . </s>\n",
      "<s> dia dapat mengatakan bahwa dia mungkin untuk . </s>\n",
      "<s> tolong tolong nyalakan di di . . </s>\n",
      "<s> aku harap saya adalah orang asing . </s>\n"
     ]
    }
   ],
   "source": [
    "print(translate(\"tom is playing with ball .\", encoder1, decoder1))\n",
    "\n",
    "print(translate(\"she is standing there .\", encoder1, decoder1))\n",
    "\n",
    "print(translate(\"he is a bad man .\", encoder1, decoder1))\n",
    "\n",
    "print(translate(\"he wants to sleep .\", encoder1, decoder1))\n",
    "\n",
    "print(translate(\"i can't see you crying .\", encoder1, decoder1))\n",
    "\n",
    "print(translate(\"my dog is running around .\", encoder1, decoder1))\n",
    "\n",
    "print(translate(\"it is very popular .\", encoder1, decoder1))\n",
    "\n",
    "print(translate(\"she speaks american english to tom's father .\", encoder1, decoder1))\n",
    "\n",
    "print(translate(\"please eat lunch in the afternoon .\", encoder1, decoder1))\n",
    "\n",
    "print(translate(\"i see red roses in the garden .\", encoder1, decoder1))"
   ]
  },
  {
   "cell_type": "code",
   "execution_count": null,
   "metadata": {
    "colab": {},
    "colab_type": "code",
    "id": "F_0qlyXup-W_",
    "pycharm": {}
   },
   "outputs": [],
   "source": []
  }
 ],
 "metadata": {
  "accelerator": "GPU",
  "colab": {
   "collapsed_sections": [],
   "name": "Eng2Indo Vanila Simple corpus.ipynb",
   "provenance": [],
   "toc_visible": true,
   "version": "0.3.2"
  },
  "kernelspec": {
   "display_name": "Python 3",
   "language": "python",
   "name": "python3"
  },
  "language_info": {
   "codemirror_mode": {
    "name": "ipython",
    "version": 3
   },
   "file_extension": ".py",
   "mimetype": "text/x-python",
   "name": "python",
   "nbconvert_exporter": "python",
   "pygments_lexer": "ipython3",
   "version": "3.11.6"
  }
 },
 "nbformat": 4,
 "nbformat_minor": 1
}
